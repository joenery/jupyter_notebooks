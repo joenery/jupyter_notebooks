{
 "cells": [
  {
   "cell_type": "code",
   "execution_count": 1,
   "id": "a8bf30e5-7c79-444b-8c49-ffbc74e26fd4",
   "metadata": {},
   "outputs": [
    {
     "name": "stdout",
     "output_type": "stream",
     "text": [
      "Copy the header from the original file to this file and rename it to the original filename: /gale/netapp/seq11/illumina_runs/bclconvert_scripts/240228_LH00296_0010_B22CHYYLT3/240228_LH00296_0010_B22CHYYLT3_240304090839967598165/Pool_Remind1.miseq.bclconvert.sample_sheet.index2_rc.csv\n"
     ]
    }
   ],
   "source": [
    "from index2_rc import index2_rc\n",
    "file_path = '/gale/netapp/seq11/illumina_runs/bclconvert_scripts/240228_LH00296_0010_B22CHYYLT3/240228_LH00296_0010_B22CHYYLT3_240304090839967598165/Pool_Remind1.miseq.bclconvert.sample_sheet.csv'\n",
    "result = index2_rc(file_path)\n",
    "print(\"Copy the header from the original file to this file and rename it to the original filename:\", result)"
   ]
  },
  {
   "cell_type": "code",
   "execution_count": null,
   "id": "d660c78b-c17d-4178-8dc1-a13442176e44",
   "metadata": {},
   "outputs": [],
   "source": []
  },
  {
   "cell_type": "code",
   "execution_count": null,
   "id": "8e28964b-54ea-445f-8bd2-7aca7c9d86bc",
   "metadata": {},
   "outputs": [],
   "source": []
  }
 ],
 "metadata": {
  "kernelspec": {
   "display_name": "Python 3 (ipykernel)",
   "language": "python",
   "name": "python3"
  },
  "language_info": {
   "codemirror_mode": {
    "name": "ipython",
    "version": 3
   },
   "file_extension": ".py",
   "mimetype": "text/x-python",
   "name": "python",
   "nbconvert_exporter": "python",
   "pygments_lexer": "ipython3",
   "version": "3.8.18"
  }
 },
 "nbformat": 4,
 "nbformat_minor": 5
}
