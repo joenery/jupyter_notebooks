{
 "cells": [
  {
   "cell_type": "code",
   "execution_count": 1,
   "id": "965ba9a9-4bb8-40d0-af84-4d1ff43c10e5",
   "metadata": {},
   "outputs": [],
   "source": [
    "import trl as trl\n",
    "import os"
   ]
  },
  {
   "cell_type": "code",
   "execution_count": 2,
   "id": "ce367428-1756-44df-82c6-c85a6d4073b8",
   "metadata": {},
   "outputs": [],
   "source": [
    "BOARDID_BICAN = os.environ.get('TBOARDID_BICAN')\n",
    "BOARDID_SEQ_PIPELINE = os.environ.get('TBOARDID_SEQ_PIPELINE')\n",
    "BOARDID_MERFISH = os.environ.get('TBOARDID_MERFISH')\n",
    "api_key = os.environ.get('TKEY')\n",
    "token = os.environ.get('TTOKEN')"
   ]
  },
  {
   "cell_type": "code",
   "execution_count": 3,
   "id": "727e8830-fe8a-4a99-8f5b-8b470f7f72cd",
   "metadata": {},
   "outputs": [
    {
     "data": {
      "text/plain": [
       "'64012c1810c953983e3dac09'"
      ]
     },
     "execution_count": 3,
     "metadata": {},
     "output_type": "execute_result"
    }
   ],
   "source": [
    "list_name = \"Trello aws archive upload\"\n",
    "board_id = BOARDID_SEQ_PIPELINE\n",
    "trl.get_list_id(list_name, board_id, api_key, token)"
   ]
  },
  {
   "cell_type": "code",
   "execution_count": 4,
   "id": "da9d9478-eefd-41f7-b70f-94ae49b386f5",
   "metadata": {},
   "outputs": [
    {
     "data": {
      "text/plain": [
       "'63ee7a99ec62faeb23cc164c'"
      ]
     },
     "execution_count": 4,
     "metadata": {},
     "output_type": "execute_result"
    }
   ],
   "source": [
    "field_name = \"Archive Path\"\n",
    "trl.get_custom_field_id(board_id, field_name, api_key, token)"
   ]
  },
  {
   "cell_type": "code",
   "execution_count": null,
   "id": "0c14c2c5-d759-4367-9c0e-bd132fb7aee8",
   "metadata": {},
   "outputs": [],
   "source": []
  }
 ],
 "metadata": {
  "kernelspec": {
   "display_name": "Python 3 (ipykernel)",
   "language": "python",
   "name": "python3"
  },
  "language_info": {
   "codemirror_mode": {
    "name": "ipython",
    "version": 3
   },
   "file_extension": ".py",
   "mimetype": "text/x-python",
   "name": "python",
   "nbconvert_exporter": "python",
   "pygments_lexer": "ipython3",
   "version": "3.8.18"
  }
 },
 "nbformat": 4,
 "nbformat_minor": 5
}
