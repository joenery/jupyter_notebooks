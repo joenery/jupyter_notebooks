{
 "cells": [
  {
   "cell_type": "code",
   "execution_count": 1,
   "id": "bdd45514-e850-406b-ae2f-89ea26c797e0",
   "metadata": {},
   "outputs": [],
   "source": [
    "import trello_lib as trll\n",
    "import trl as trl\n",
    "import os"
   ]
  },
  {
   "cell_type": "code",
   "execution_count": 2,
   "id": "d2e46abf-81d1-41f0-a19d-7fcd204459a6",
   "metadata": {},
   "outputs": [],
   "source": [
    "BOARDID_BICAN = os.environ.get('TBOARDID_BICAN')\n",
    "BOARDID_SEQ_PIPELINE = os.environ.get('TBOARDID_SEQ_PIPELINE')\n",
    "BOARDID_MERFISH = os.environ.get('TBOARDID_MERFISH')\n",
    "api_key = os.environ.get('TKEY')\n",
    "token = os.environ.get('TTOKEN')"
   ]
  },
  {
   "cell_type": "code",
   "execution_count": 3,
   "id": "7a7ba12b-24f4-49f0-9cdc-b4c07df8af35",
   "metadata": {},
   "outputs": [],
   "source": [
    "board_id = BOARDID_BICAN\n",
    "card_name = \"SALK047\""
   ]
  },
  {
   "cell_type": "code",
   "execution_count": 4,
   "id": "65742c12-1aa3-4074-a469-6b6056d8c8d8",
   "metadata": {},
   "outputs": [
    {
     "name": "stdout",
     "output_type": "stream",
     "text": [
      "65e11f157ec1eaa5f3a54e62\n"
     ]
    }
   ],
   "source": [
    "card_id = trl.get_card_id_by_name(card_name, board_id, api_key, token)\n",
    "print(card_id)"
   ]
  },
  {
   "cell_type": "code",
   "execution_count": 5,
   "id": "71cbc2f6-7685-43db-a0ef-53e207f09954",
   "metadata": {},
   "outputs": [
    {
     "name": "stdout",
     "output_type": "stream",
     "text": [
      "65f37c2c6ff720f09980851a\n"
     ]
    }
   ],
   "source": [
    "attachment_id = trl.get_xlsx_attachment_id(card_id, api_key, token)\n",
    "print(attachment_id)"
   ]
  },
  {
   "cell_type": "code",
   "execution_count": 7,
   "id": "723660bd-c5eb-4742-8051-d4e7a5ce3f85",
   "metadata": {},
   "outputs": [
    {
     "name": "stdout",
     "output_type": "stream",
     "text": [
      "File downloaded successfully: SALK047.xlsx\n"
     ]
    }
   ],
   "source": [
    "file_name = \"SALK047.xlsx\"\n",
    "trl.download_attachment_with_oauth(card_id, attachment_id, file_name, api_key, token)"
   ]
  },
  {
   "cell_type": "code",
   "execution_count": null,
   "id": "cbf0de4c-3f04-4f69-92b4-29df25a08fd6",
   "metadata": {},
   "outputs": [],
   "source": []
  }
 ],
 "metadata": {
  "kernelspec": {
   "display_name": "Python 3 (ipykernel)",
   "language": "python",
   "name": "python3"
  },
  "language_info": {
   "codemirror_mode": {
    "name": "ipython",
    "version": 3
   },
   "file_extension": ".py",
   "mimetype": "text/x-python",
   "name": "python",
   "nbconvert_exporter": "python",
   "pygments_lexer": "ipython3",
   "version": "3.8.18"
  }
 },
 "nbformat": 4,
 "nbformat_minor": 5
}
