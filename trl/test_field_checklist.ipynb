{
 "cells": [
  {
   "cell_type": "code",
   "execution_count": 3,
   "id": "f27afe67-bff2-4f68-88a7-af9d9b2aec61",
   "metadata": {},
   "outputs": [],
   "source": [
    "import custom_field_checklist as cfc\n",
    "import os"
   ]
  },
  {
   "cell_type": "code",
   "execution_count": 4,
   "id": "ace013e5-2e37-4f16-a6d5-38ccd1000963",
   "metadata": {},
   "outputs": [],
   "source": [
    "BOARDID_BICAN = os.environ.get('TBOARDID_BICAN')\n",
    "BOARDID_SEQ_PIPELINE = os.environ.get('TBOARDID_SEQ_PIPELINE')\n",
    "BOARDID_MERFISH = os.environ.get('TBOARDID_MERFISH')\n",
    "API_KEY = os.environ.get('TKEY')\n",
    "API_TOKEN = os.environ.get('TTOKEN')"
   ]
  },
  {
   "cell_type": "code",
   "execution_count": 5,
   "id": "2a84ddbb-9b93-4dd5-896f-ad12af6fe769",
   "metadata": {},
   "outputs": [],
   "source": [
    "BOARD_ID = BOARDID_MERFISH"
   ]
  },
  {
   "cell_type": "code",
   "execution_count": 8,
   "id": "c29b544c-7091-4599-b9e0-2801679e93db",
   "metadata": {},
   "outputs": [
    {
     "name": "stdout",
     "output_type": "stream",
     "text": [
      "Custom Fields:\n",
      "65e25a32ff4175bbbfeb5d34: Tissue Block ID\n",
      "65e24d871ab643d2e39c892b: Run ID\n",
      "65e2660218f4d8d6b570ba57: Project\n",
      "65e8e19b65e7a6807c88d579: Merfish by\n",
      "65e10dc069324f0e96afb598: Gene Panel Used\n",
      "65e8e2b1db44c7f4f215ea30: Protocol Used\n",
      "65e8e432dbadf60c04a697fd: Post-Gel Picture Link\n",
      "65e8e6dd9614e9586a9da84f: Cartridge Used\n",
      "65e8a8cd8fe457766e41f670: MERSCOPE Used\n",
      "65e8f5adcfa6b08465153174: Imaging Duration\n",
      "65e8a913517a8aaa0af706d7: Transcripts per FOV\n",
      "65e8f6ba7e815f8322ee0316: Data Analysis by\n",
      "65e8f717e77ffdc33779c22d: Data Quality: Median transcripts per cell\n",
      "65e8f72facb78d1239981eae: Data Quality: Median genes per cell\n",
      "\n",
      "Checklists:\n",
      "65e60b3703d867bc3a1fd1bf: Merfish Checklist\n",
      "65e60b61fd01c570fcdc88ef: Merfish Checklist\n",
      "65e7c401fac6c08abfbea5c7: Merfish Checklist\n",
      "65e7c4317c29c75dc556b24f: Merfish Checklist\n",
      "65e0e7a38d14dae7d209b303: Merfish Checklist\n",
      "65e0db971d8767814353d792: Merfish Checklist\n",
      "65e1066a01b8693c635b79a7: Merfish Checklist\n",
      "65e1088df6b9834dcbd3bba7: Merfish Checklist\n",
      "65e1097ca749456a222ac8dc: Merfish Checklist\n",
      "65e109f9c7b0201c6f9f20b7: Merfish Checklist\n",
      "65e10a581010444c80c9ac5b: Merfish Checklist\n",
      "65e110054404e55560144078: Merfish Checklist\n",
      "65e1102b2b29969c3847d6c0: Merfish Checklist\n",
      "65e2320a4894b9e63f953036: Merfish Checklist\n",
      "65e2357ddcab1c71f78cd930: Merfish Checklist\n"
     ]
    }
   ],
   "source": [
    "cfc.print_custom_fields(API_KEY, API_TOKEN, BOARD_ID)\n",
    "cfc.print_checklists(API_KEY, API_TOKEN, BOARD_ID)"
   ]
  },
  {
   "cell_type": "code",
   "execution_count": null,
   "id": "f5198733-1bf3-44f9-bc7b-cc3adf1a10fd",
   "metadata": {},
   "outputs": [],
   "source": []
  }
 ],
 "metadata": {
  "kernelspec": {
   "display_name": "Python 3 (ipykernel)",
   "language": "python",
   "name": "python3"
  },
  "language_info": {
   "codemirror_mode": {
    "name": "ipython",
    "version": 3
   },
   "file_extension": ".py",
   "mimetype": "text/x-python",
   "name": "python",
   "nbconvert_exporter": "python",
   "pygments_lexer": "ipython3",
   "version": "3.8.18"
  }
 },
 "nbformat": 4,
 "nbformat_minor": 5
}
