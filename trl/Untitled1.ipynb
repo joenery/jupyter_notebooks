{
 "cells": [
  {
   "cell_type": "code",
   "execution_count": 1,
   "id": "800b931e-1b0a-43bf-94bd-40418d02c214",
   "metadata": {},
   "outputs": [],
   "source": [
    "import all_cards_cust_field_checklist as acc\n",
    "import os"
   ]
  },
  {
   "cell_type": "code",
   "execution_count": 2,
   "id": "b45d995b-fcd4-4daf-8433-f38a4ff6c9e3",
   "metadata": {},
   "outputs": [],
   "source": [
    "BOARDID_BICAN = os.environ.get('TBOARDID_BICAN')\n",
    "BOARDID_SEQ_PIPELINE = os.environ.get('TBOARDID_SEQ_PIPELINE')\n",
    "BOARDID_MERFISH = os.environ.get('TBOARDID_MERFISH')\n",
    "API_KEY = os.environ.get('TKEY')\n",
    "API_TOKEN = os.environ.get('TTOKEN')"
   ]
  },
  {
   "cell_type": "code",
   "execution_count": 3,
   "id": "f3afd13a-8807-4f3c-b5ef-a8bc63d59702",
   "metadata": {},
   "outputs": [],
   "source": [
    "board_id = BOARDID_MERFISH\n",
    "api_key = API_KEY\n",
    "api_token = API_TOKEN"
   ]
  },
  {
   "cell_type": "code",
   "execution_count": 7,
   "id": "89e65823-9614-400d-b57e-5b52d268fc3d",
   "metadata": {
    "collapsed": true,
    "jupyter": {
     "outputs_hidden": true
    }
   },
   "outputs": [
    {
     "name": "stdout",
     "output_type": "stream",
     "text": [
      "{'id': '65e60b563c43c486e03d16bc', 'badges': {'attachmentsByType': {'trello': {'board': 0, 'card': 0}}, 'location': False, 'votes': 0, 'viewingMemberVoted': False, 'subscribed': False, 'fogbugz': '', 'checkItems': 7, 'checkItemsChecked': 2, 'checkItemsEarliestDue': None, 'comments': 0, 'attachments': 0, 'description': False, 'due': None, 'dueComplete': False, 'start': None}, 'checkItemStates': [{'idCheckItem': '65e0dbaa4a7330ab334f8c28', 'state': 'complete'}, {'idCheckItem': '65e0dbc48acef9f238bf0151', 'state': 'complete'}], 'closed': False, 'dueComplete': False, 'dateLastActivity': '2024-03-07T23:27:56.085Z', 'desc': '', 'descData': {'emoji': {}}, 'due': None, 'dueReminder': None, 'email': None, 'idBoard': '65d66b12346c7595273539b0', 'idChecklists': ['65e60b61fd01c570fcdc88ef'], 'idList': '65d691273ce7f79083758fe9', 'idMembers': ['65d693344d0a8e41ac8d389a', '5efa1fa1cecb68095fa7840f', '65d7961bca65854badaea1d9', '5ec5aba8e5c17a8fd2bb3950', '5ec5cff03dc3a2766b12bb96', '65d68793fc2141d474d7546e'], 'idMembersVoted': [], 'idShort': 33, 'idAttachmentCover': None, 'labels': [{'id': '65d66b12920b46a0e90cd319', 'idBoard': '65d66b12346c7595273539b0', 'name': 'Embedded', 'color': 'yellow', 'uses': 13}, {'id': '65d66b12920b46a0e90cd316', 'idBoard': '65d66b12346c7595273539b0', 'name': 'Hybridized', 'color': 'green', 'uses': 14}], 'idLabels': ['65d66b12920b46a0e90cd319', '65d66b12920b46a0e90cd316'], 'manualCoverAttachment': False, 'name': 'UWA.7648.CX10.A46.E.05', 'pos': 114688, 'shortLink': 'YwOThXJo', 'shortUrl': 'https://trello.com/c/YwOThXJo', 'start': None, 'subscribed': False, 'url': 'https://trello.com/c/YwOThXJo/33-uwa7648cx10a46e05', 'cover': {'idAttachment': None, 'color': None, 'idUploadedBackground': None, 'size': 'normal', 'brightness': 'dark', 'idPlugin': None}, 'isTemplate': False, 'cardRole': None}\n"
     ]
    }
   ],
   "source": [
    "card_id = '65e60b563c43c486e03d16bc'\n",
    "card_fields = acc.get_card_fields(api_key, api_token, card_id)\n",
    "print(card_fields)"
   ]
  },
  {
   "cell_type": "code",
   "execution_count": 5,
   "id": "f0bf66b5-8585-4abf-9f2e-e28fbaa3264f",
   "metadata": {},
   "outputs": [],
   "source": [
    "#last_update = get_last_update_timestamp(api_key, api_token, CARD_ID)\n",
    "#if last_update:\n",
    "#    print(f\"Last update timestamp for Trello card {CARD_ID}: {last_update}\")"
   ]
  },
  {
   "cell_type": "code",
   "execution_count": 6,
   "id": "dc499a2a-87fc-4181-aecc-0305b2852f1c",
   "metadata": {},
   "outputs": [
    {
     "name": "stdout",
     "output_type": "stream",
     "text": [
      "Card Name: UWA.7648.CX10.A46.E.05\n",
      "Fields JSON: {'id': '65e60b563c43c486e03d16bc', 'badges': {'attachmentsByType': {'trello': {'board': 0, 'card': 0}}, 'location': False, 'votes': 0, 'viewingMemberVoted': False, 'subscribed': False, 'fogbugz': '', 'checkItems': 7, 'checkItemsChecked': 2, 'checkItemsEarliestDue': None, 'comments': 0, 'attachments': 0, 'description': False, 'due': None, 'dueComplete': False, 'start': None}, 'checkItemStates': [{'idCheckItem': '65e0dbaa4a7330ab334f8c28', 'state': 'complete'}, {'idCheckItem': '65e0dbc48acef9f238bf0151', 'state': 'complete'}], 'closed': False, 'dueComplete': False, 'dateLastActivity': '2024-03-07T23:27:56.085Z', 'desc': '', 'descData': {'emoji': {}}, 'due': None, 'dueReminder': None, 'email': None, 'idBoard': '65d66b12346c7595273539b0', 'idChecklists': ['65e60b61fd01c570fcdc88ef'], 'idList': '65d691273ce7f79083758fe9', 'idMembers': ['65d693344d0a8e41ac8d389a', '5efa1fa1cecb68095fa7840f', '65d7961bca65854badaea1d9', '5ec5aba8e5c17a8fd2bb3950', '5ec5cff03dc3a2766b12bb96', '65d68793fc2141d474d7546e'], 'idMembersVoted': [], 'idShort': 33, 'idAttachmentCover': None, 'labels': [{'id': '65d66b12920b46a0e90cd319', 'idBoard': '65d66b12346c7595273539b0', 'name': 'Embedded', 'color': 'yellow', 'uses': 13}, {'id': '65d66b12920b46a0e90cd316', 'idBoard': '65d66b12346c7595273539b0', 'name': 'Hybridized', 'color': 'green', 'uses': 14}], 'idLabels': ['65d66b12920b46a0e90cd319', '65d66b12920b46a0e90cd316'], 'manualCoverAttachment': False, 'name': 'UWA.7648.CX10.A46.E.05', 'pos': 114688, 'shortLink': 'YwOThXJo', 'shortUrl': 'https://trello.com/c/YwOThXJo', 'start': None, 'subscribed': False, 'url': 'https://trello.com/c/YwOThXJo/33-uwa7648cx10a46e05', 'cover': {'idAttachment': None, 'color': None, 'idUploadedBackground': None, 'size': 'normal', 'brightness': 'dark', 'idPlugin': None}, 'isTemplate': False, 'cardRole': None}\n",
      "\n",
      "Card Name: UWA.7648.CX41.V1C.E.05\n",
      "Fields JSON: {'id': '65e60b283d4583f00c4d8ded', 'badges': {'attachmentsByType': {'trello': {'board': 0, 'card': 0}}, 'location': False, 'votes': 0, 'viewingMemberVoted': False, 'subscribed': False, 'fogbugz': '', 'checkItems': 7, 'checkItemsChecked': 2, 'checkItemsEarliestDue': None, 'comments': 0, 'attachments': 0, 'description': False, 'due': None, 'dueComplete': False, 'start': None}, 'checkItemStates': [{'idCheckItem': '65e0dbaa4a7330ab334f8c28', 'state': 'complete'}, {'idCheckItem': '65e0dbc48acef9f238bf0151', 'state': 'complete'}], 'closed': False, 'dueComplete': False, 'dateLastActivity': '2024-03-07T23:12:00.827Z', 'desc': '', 'descData': {'emoji': {}}, 'due': None, 'dueReminder': None, 'email': None, 'idBoard': '65d66b12346c7595273539b0', 'idChecklists': ['65e60b3703d867bc3a1fd1bf'], 'idList': '65d691273ce7f79083758fe9', 'idMembers': ['65d693344d0a8e41ac8d389a', '5efa1fa1cecb68095fa7840f', '65d7961bca65854badaea1d9', '5ec5aba8e5c17a8fd2bb3950', '5ec5cff03dc3a2766b12bb96', '65d68793fc2141d474d7546e'], 'idMembersVoted': [], 'idShort': 32, 'idAttachmentCover': None, 'labels': [{'id': '65d66b12920b46a0e90cd319', 'idBoard': '65d66b12346c7595273539b0', 'name': 'Embedded', 'color': 'yellow', 'uses': 13}, {'id': '65d66b12920b46a0e90cd316', 'idBoard': '65d66b12346c7595273539b0', 'name': 'Hybridized', 'color': 'green', 'uses': 14}], 'idLabels': ['65d66b12920b46a0e90cd319', '65d66b12920b46a0e90cd316'], 'manualCoverAttachment': True, 'name': 'UWA.7648.CX41.V1C.E.05', 'pos': 131072, 'shortLink': 'vyT4HUo4', 'shortUrl': 'https://trello.com/c/vyT4HUo4', 'start': None, 'subscribed': False, 'url': 'https://trello.com/c/vyT4HUo4/32-uwa7648cx41v1ce05', 'cover': {'idAttachment': None, 'color': None, 'idUploadedBackground': None, 'size': 'normal', 'brightness': 'dark', 'idPlugin': None}, 'isTemplate': False, 'cardRole': None}\n",
      "\n",
      "Card Name: UWA.7648.CX24.M1C.05\n",
      "Fields JSON: {'id': '65e7c4252284e71fc2bfcdde', 'badges': {'attachmentsByType': {'trello': {'board': 0, 'card': 0}}, 'location': False, 'votes': 0, 'viewingMemberVoted': False, 'subscribed': False, 'fogbugz': '', 'checkItems': 7, 'checkItemsChecked': 2, 'checkItemsEarliestDue': None, 'comments': 0, 'attachments': 0, 'description': False, 'due': None, 'dueComplete': False, 'start': '2024-03-06T01:17:27.000Z'}, 'checkItemStates': [{'idCheckItem': '65e0dbaa4a7330ab334f8c28', 'state': 'complete'}, {'idCheckItem': '65e0dbc48acef9f238bf0151', 'state': 'complete'}], 'closed': False, 'dueComplete': False, 'dateLastActivity': '2024-03-07T20:51:18.432Z', 'desc': '', 'descData': {'emoji': {}}, 'due': None, 'dueReminder': None, 'email': None, 'idBoard': '65d66b12346c7595273539b0', 'idChecklists': ['65e7c4317c29c75dc556b24f'], 'idList': '65d691273ce7f79083758fe9', 'idMembers': ['65d693344d0a8e41ac8d389a', '5efa1fa1cecb68095fa7840f', '65d7961bca65854badaea1d9', '5ec5aba8e5c17a8fd2bb3950', '5ec5cff03dc3a2766b12bb96', '65d68793fc2141d474d7546e'], 'idMembersVoted': [], 'idShort': 36, 'idAttachmentCover': None, 'labels': [{'id': '65d66b12920b46a0e90cd316', 'idBoard': '65d66b12346c7595273539b0', 'name': 'Hybridized', 'color': 'green', 'uses': 14}, {'id': '65d66b12920b46a0e90cd319', 'idBoard': '65d66b12346c7595273539b0', 'name': 'Embedded', 'color': 'yellow', 'uses': 13}], 'idLabels': ['65d66b12920b46a0e90cd316', '65d66b12920b46a0e90cd319'], 'manualCoverAttachment': False, 'name': 'UWA.7648.CX24.M1C.05', 'pos': 147456, 'shortLink': 'N96QlZy0', 'shortUrl': 'https://trello.com/c/N96QlZy0', 'start': '2024-03-06T01:17:27.000Z', 'subscribed': False, 'url': 'https://trello.com/c/N96QlZy0/36-uwa7648cx24m1c05', 'cover': {'idAttachment': None, 'color': None, 'idUploadedBackground': None, 'size': 'normal', 'brightness': 'dark', 'idPlugin': None}, 'isTemplate': False, 'cardRole': None}\n",
      "\n",
      "Card Name: UWA.7648.CX31.PPHC.03\n",
      "Fields JSON: {'id': '65e7c3f5b233d8e8e0bc2354', 'badges': {'attachmentsByType': {'trello': {'board': 0, 'card': 0}}, 'location': False, 'votes': 0, 'viewingMemberVoted': False, 'subscribed': False, 'fogbugz': '', 'checkItems': 7, 'checkItemsChecked': 2, 'checkItemsEarliestDue': None, 'comments': 0, 'attachments': 0, 'description': False, 'due': None, 'dueComplete': False, 'start': '2024-03-06T01:16:40.000Z'}, 'checkItemStates': [{'idCheckItem': '65e0dbaa4a7330ab334f8c28', 'state': 'complete'}, {'idCheckItem': '65e0dbc48acef9f238bf0151', 'state': 'complete'}], 'closed': False, 'dueComplete': False, 'dateLastActivity': '2024-03-07T22:40:26.616Z', 'desc': '', 'descData': {'emoji': {}}, 'due': None, 'dueReminder': None, 'email': None, 'idBoard': '65d66b12346c7595273539b0', 'idChecklists': ['65e7c401fac6c08abfbea5c7'], 'idList': '65d691273ce7f79083758fe9', 'idMembers': ['65d693344d0a8e41ac8d389a', '5efa1fa1cecb68095fa7840f', '65d7961bca65854badaea1d9', '5ec5aba8e5c17a8fd2bb3950', '5ec5cff03dc3a2766b12bb96', '65d68793fc2141d474d7546e'], 'idMembersVoted': [], 'idShort': 35, 'idAttachmentCover': None, 'labels': [{'id': '65d66b12920b46a0e90cd316', 'idBoard': '65d66b12346c7595273539b0', 'name': 'Hybridized', 'color': 'green', 'uses': 14}, {'id': '65d66b12920b46a0e90cd319', 'idBoard': '65d66b12346c7595273539b0', 'name': 'Embedded', 'color': 'yellow', 'uses': 13}], 'idLabels': ['65d66b12920b46a0e90cd316', '65d66b12920b46a0e90cd319'], 'manualCoverAttachment': False, 'name': 'UWA.7648.CX31.PPHC.03', 'pos': 163840, 'shortLink': 'e6InP106', 'shortUrl': 'https://trello.com/c/e6InP106', 'start': '2024-03-06T01:16:40.000Z', 'subscribed': False, 'url': 'https://trello.com/c/e6InP106/35-uwa7648cx31pphc03', 'cover': {'idAttachment': None, 'color': None, 'idUploadedBackground': None, 'size': 'normal', 'brightness': 'dark', 'idPlugin': None}, 'isTemplate': False, 'cardRole': None}\n",
      "\n",
      "Card Name: UWA.7648.CX22.Pu\n",
      "Fields JSON: {'id': '65de7966eb3ef6f7e9f6f3e1', 'badges': {'attachmentsByType': {'trello': {'board': 0, 'card': 0}}, 'location': False, 'votes': 0, 'viewingMemberVoted': False, 'subscribed': False, 'fogbugz': '', 'checkItems': 3, 'checkItemsChecked': 3, 'checkItemsEarliestDue': None, 'comments': 3, 'attachments': 1, 'description': False, 'due': None, 'dueComplete': False, 'start': None}, 'checkItemStates': [{'idCheckItem': '65e0dbaa4a7330ab334f8c28', 'state': 'complete'}, {'idCheckItem': '65e0dbc48acef9f238bf0151', 'state': 'complete'}, {'idCheckItem': '65e0dbcf9474145150c649f9', 'state': 'complete'}], 'closed': False, 'dueComplete': False, 'dateLastActivity': '2024-03-07T23:00:55.903Z', 'desc': '', 'descData': {'emoji': {}}, 'due': None, 'dueReminder': None, 'email': None, 'idBoard': '65d66b12346c7595273539b0', 'idChecklists': ['65e0e7a38d14dae7d209b303'], 'idList': '65d681a3b8cbdb136a4e495f', 'idMembers': ['65d693344d0a8e41ac8d389a', '65d7961bca65854badaea1d9', '65d68793fc2141d474d7546e', '5efa1fa1cecb68095fa7840f', '5ec5cff03dc3a2766b12bb96', '5ec5aba8e5c17a8fd2bb3950'], 'idMembersVoted': [], 'idShort': 5, 'idAttachmentCover': None, 'labels': [{'id': '65d66b12920b46a0e90cd319', 'idBoard': '65d66b12346c7595273539b0', 'name': 'Embedded', 'color': 'yellow', 'uses': 13}, {'id': '65d66b12920b46a0e90cd321', 'idBoard': '65d66b12346c7595273539b0', 'name': 'Imaged', 'color': 'orange', 'uses': 9}, {'id': '65d66b12920b46a0e90cd316', 'idBoard': '65d66b12346c7595273539b0', 'name': 'Hybridized', 'color': 'green', 'uses': 14}], 'idLabels': ['65d66b12920b46a0e90cd319', '65d66b12920b46a0e90cd321', '65d66b12920b46a0e90cd316'], 'manualCoverAttachment': True, 'name': 'UWA.7648.CX22.Pu', 'pos': 16384, 'shortLink': 'x836HEzU', 'shortUrl': 'https://trello.com/c/x836HEzU', 'start': None, 'subscribed': False, 'url': 'https://trello.com/c/x836HEzU/5-uwa7648cx22pu', 'cover': {'idAttachment': None, 'color': None, 'idUploadedBackground': None, 'size': 'normal', 'brightness': 'dark', 'idPlugin': None}, 'isTemplate': False, 'cardRole': None}\n",
      "\n",
      "Card Name: UWA.7648.CX17.CaH\n",
      "Fields JSON: {'id': '65e1065e2095a42142d337d4', 'badges': {'attachmentsByType': {'trello': {'board': 0, 'card': 0}}, 'location': False, 'votes': 0, 'viewingMemberVoted': False, 'subscribed': False, 'fogbugz': '', 'checkItems': 3, 'checkItemsChecked': 3, 'checkItemsEarliestDue': None, 'comments': 1, 'attachments': 1, 'description': True, 'due': None, 'dueComplete': False, 'start': None}, 'checkItemStates': [{'idCheckItem': '65e0dbaa4a7330ab334f8c28', 'state': 'complete'}, {'idCheckItem': '65e0dbc48acef9f238bf0151', 'state': 'complete'}, {'idCheckItem': '65e0dbcf9474145150c649f9', 'state': 'complete'}], 'closed': False, 'dueComplete': False, 'dateLastActivity': '2024-03-07T23:10:42.962Z', 'desc': 'Sample 5', 'descData': {'emoji': {}}, 'due': None, 'dueReminder': None, 'email': None, 'idBoard': '65d66b12346c7595273539b0', 'idChecklists': ['65e1066a01b8693c635b79a7'], 'idList': '65d681a3b8cbdb136a4e495f', 'idMembers': ['65d693344d0a8e41ac8d389a', '5efa1fa1cecb68095fa7840f', '65d7961bca65854badaea1d9', '5ec5aba8e5c17a8fd2bb3950', '5ec5cff03dc3a2766b12bb96', '65d68793fc2141d474d7546e'], 'idMembersVoted': [], 'idShort': 20, 'idAttachmentCover': None, 'labels': [{'id': '65d66b12920b46a0e90cd319', 'idBoard': '65d66b12346c7595273539b0', 'name': 'Embedded', 'color': 'yellow', 'uses': 13}, {'id': '65d66b12920b46a0e90cd321', 'idBoard': '65d66b12346c7595273539b0', 'name': 'Imaged', 'color': 'orange', 'uses': 9}, {'id': '65d66b12920b46a0e90cd316', 'idBoard': '65d66b12346c7595273539b0', 'name': 'Hybridized', 'color': 'green', 'uses': 14}], 'idLabels': ['65d66b12920b46a0e90cd319', '65d66b12920b46a0e90cd321', '65d66b12920b46a0e90cd316'], 'manualCoverAttachment': True, 'name': 'UWA.7648.CX17.CaH', 'pos': 32768, 'shortLink': 'aETD9IBi', 'shortUrl': 'https://trello.com/c/aETD9IBi', 'start': None, 'subscribed': False, 'url': 'https://trello.com/c/aETD9IBi/20-uwa7648cx17cah', 'cover': {'idAttachment': None, 'color': None, 'idUploadedBackground': None, 'size': 'normal', 'brightness': 'dark', 'idPlugin': None}, 'isTemplate': False, 'cardRole': None}\n",
      "\n",
      "Card Name: UWA.7648.CX17.CaH (REPEAT)\n",
      "Fields JSON: {'id': '65e10ffc1171f3c8cad0d762', 'badges': {'attachmentsByType': {'trello': {'board': 0, 'card': 0}}, 'location': False, 'votes': 0, 'viewingMemberVoted': False, 'subscribed': False, 'fogbugz': '', 'checkItems': 3, 'checkItemsChecked': 3, 'checkItemsEarliestDue': None, 'comments': 7, 'attachments': 1, 'description': True, 'due': None, 'dueComplete': False, 'start': None}, 'checkItemStates': [{'idCheckItem': '65e0dbaa4a7330ab334f8c28', 'state': 'complete'}, {'idCheckItem': '65e0dbc48acef9f238bf0151', 'state': 'complete'}, {'idCheckItem': '65e0dbcf9474145150c649f9', 'state': 'complete'}], 'closed': False, 'dueComplete': False, 'dateLastActivity': '2024-03-07T23:09:33.654Z', 'desc': 'Sample 3', 'descData': {'emoji': {}}, 'due': None, 'dueReminder': None, 'email': None, 'idBoard': '65d66b12346c7595273539b0', 'idChecklists': ['65e110054404e55560144078'], 'idList': '65d681a3b8cbdb136a4e495f', 'idMembers': ['65d693344d0a8e41ac8d389a', '5efa1fa1cecb68095fa7840f', '65d7961bca65854badaea1d9', '5ec5aba8e5c17a8fd2bb3950', '5ec5cff03dc3a2766b12bb96', '65d68793fc2141d474d7546e'], 'idMembersVoted': [], 'idShort': 25, 'idAttachmentCover': None, 'labels': [{'id': '65d66b12920b46a0e90cd319', 'idBoard': '65d66b12346c7595273539b0', 'name': 'Embedded', 'color': 'yellow', 'uses': 13}, {'id': '65d66b12920b46a0e90cd321', 'idBoard': '65d66b12346c7595273539b0', 'name': 'Imaged', 'color': 'orange', 'uses': 9}, {'id': '65d66b12920b46a0e90cd316', 'idBoard': '65d66b12346c7595273539b0', 'name': 'Hybridized', 'color': 'green', 'uses': 14}], 'idLabels': ['65d66b12920b46a0e90cd319', '65d66b12920b46a0e90cd321', '65d66b12920b46a0e90cd316'], 'manualCoverAttachment': True, 'name': 'UWA.7648.CX17.CaH (REPEAT)', 'pos': 40960, 'shortLink': 'r1tUoUHT', 'shortUrl': 'https://trello.com/c/r1tUoUHT', 'start': None, 'subscribed': False, 'url': 'https://trello.com/c/r1tUoUHT/25-uwa7648cx17cah-repeat', 'cover': {'idAttachment': None, 'color': None, 'idUploadedBackground': None, 'size': 'normal', 'brightness': 'dark', 'idPlugin': None}, 'isTemplate': False, 'cardRole': None}\n",
      "\n",
      "Card Name: UWA.7648.CX20.CaB\n",
      "Fields JSON: {'id': '65e10883f426a50b168151a7', 'badges': {'attachmentsByType': {'trello': {'board': 0, 'card': 0}}, 'location': False, 'votes': 0, 'viewingMemberVoted': False, 'subscribed': False, 'fogbugz': '', 'checkItems': 3, 'checkItemsChecked': 3, 'checkItemsEarliestDue': None, 'comments': 6, 'attachments': 1, 'description': True, 'due': None, 'dueComplete': False, 'start': None}, 'checkItemStates': [{'idCheckItem': '65e0dbaa4a7330ab334f8c28', 'state': 'complete'}, {'idCheckItem': '65e0dbc48acef9f238bf0151', 'state': 'complete'}, {'idCheckItem': '65e0dbcf9474145150c649f9', 'state': 'complete'}], 'closed': False, 'dueComplete': False, 'dateLastActivity': '2024-03-07T23:11:24.275Z', 'desc': 'Sample 5', 'descData': {'emoji': {}}, 'due': None, 'dueReminder': None, 'email': None, 'idBoard': '65d66b12346c7595273539b0', 'idChecklists': ['65e1088df6b9834dcbd3bba7'], 'idList': '65d681a3b8cbdb136a4e495f', 'idMembers': ['65d693344d0a8e41ac8d389a', '65d7961bca65854badaea1d9', '5ec5aba8e5c17a8fd2bb3950', '5ec5cff03dc3a2766b12bb96', '65d68793fc2141d474d7546e', '5efa1fa1cecb68095fa7840f'], 'idMembersVoted': [], 'idShort': 21, 'idAttachmentCover': None, 'labels': [{'id': '65d66b12920b46a0e90cd319', 'idBoard': '65d66b12346c7595273539b0', 'name': 'Embedded', 'color': 'yellow', 'uses': 13}, {'id': '65d66b12920b46a0e90cd321', 'idBoard': '65d66b12346c7595273539b0', 'name': 'Imaged', 'color': 'orange', 'uses': 9}, {'id': '65d66b12920b46a0e90cd316', 'idBoard': '65d66b12346c7595273539b0', 'name': 'Hybridized', 'color': 'green', 'uses': 14}], 'idLabels': ['65d66b12920b46a0e90cd319', '65d66b12920b46a0e90cd321', '65d66b12920b46a0e90cd316'], 'manualCoverAttachment': True, 'name': 'UWA.7648.CX20.CaB', 'pos': 49152, 'shortLink': '2fOiToPD', 'shortUrl': 'https://trello.com/c/2fOiToPD', 'start': None, 'subscribed': False, 'url': 'https://trello.com/c/2fOiToPD/21-uwa7648cx20cab', 'cover': {'idAttachment': None, 'color': None, 'idUploadedBackground': None, 'size': 'normal', 'brightness': 'dark', 'idPlugin': None}, 'isTemplate': False, 'cardRole': None}\n",
      "\n",
      "Card Name: UWA.7648.CX20.CaB (REPEAT)\n",
      "Fields JSON: {'id': '65e1101fc40700accef0cf97', 'badges': {'attachmentsByType': {'trello': {'board': 0, 'card': 0}}, 'location': False, 'votes': 0, 'viewingMemberVoted': False, 'subscribed': False, 'fogbugz': '', 'checkItems': 3, 'checkItemsChecked': 3, 'checkItemsEarliestDue': None, 'comments': 2, 'attachments': 1, 'description': True, 'due': None, 'dueComplete': False, 'start': None}, 'checkItemStates': [{'idCheckItem': '65e0dbaa4a7330ab334f8c28', 'state': 'complete'}, {'idCheckItem': '65e0dbc48acef9f238bf0151', 'state': 'complete'}, {'idCheckItem': '65e0dbcf9474145150c649f9', 'state': 'complete'}], 'closed': False, 'dueComplete': False, 'dateLastActivity': '2024-03-07T23:09:14.700Z', 'desc': 'Sample 5', 'descData': {'emoji': {}}, 'due': None, 'dueReminder': None, 'email': None, 'idBoard': '65d66b12346c7595273539b0', 'idChecklists': ['65e1102b2b29969c3847d6c0'], 'idList': '65d681a3b8cbdb136a4e495f', 'idMembers': ['65d693344d0a8e41ac8d389a', '5efa1fa1cecb68095fa7840f', '65d7961bca65854badaea1d9', '5ec5aba8e5c17a8fd2bb3950', '5ec5cff03dc3a2766b12bb96', '65d68793fc2141d474d7546e'], 'idMembersVoted': [], 'idShort': 26, 'idAttachmentCover': None, 'labels': [{'id': '65d66b12920b46a0e90cd319', 'idBoard': '65d66b12346c7595273539b0', 'name': 'Embedded', 'color': 'yellow', 'uses': 13}, {'id': '65d66b12920b46a0e90cd316', 'idBoard': '65d66b12346c7595273539b0', 'name': 'Hybridized', 'color': 'green', 'uses': 14}, {'id': '65d66b12920b46a0e90cd321', 'idBoard': '65d66b12346c7595273539b0', 'name': 'Imaged', 'color': 'orange', 'uses': 9}], 'idLabels': ['65d66b12920b46a0e90cd319', '65d66b12920b46a0e90cd316', '65d66b12920b46a0e90cd321'], 'manualCoverAttachment': True, 'name': 'UWA.7648.CX20.CaB (REPEAT)', 'pos': 57344, 'shortLink': 'gPuYnpey', 'shortUrl': 'https://trello.com/c/gPuYnpey', 'start': None, 'subscribed': False, 'url': 'https://trello.com/c/gPuYnpey/26-uwa7648cx20cab-repeat', 'cover': {'idAttachment': None, 'color': None, 'idUploadedBackground': None, 'size': 'normal', 'brightness': 'dark', 'idPlugin': None}, 'isTemplate': False, 'cardRole': None}\n",
      "\n",
      "Card Name: UWA.7648.CX23.THM.01\n",
      "Fields JSON: {'id': '65e109ed8480ee432d6685ef', 'badges': {'attachmentsByType': {'trello': {'board': 0, 'card': 0}}, 'location': False, 'votes': 0, 'viewingMemberVoted': False, 'subscribed': False, 'fogbugz': '', 'checkItems': 3, 'checkItemsChecked': 3, 'checkItemsEarliestDue': None, 'comments': 2, 'attachments': 1, 'description': True, 'due': None, 'dueComplete': False, 'start': None}, 'checkItemStates': [{'idCheckItem': '65e0dbaa4a7330ab334f8c28', 'state': 'complete'}, {'idCheckItem': '65e0dbc48acef9f238bf0151', 'state': 'complete'}, {'idCheckItem': '65e0dbcf9474145150c649f9', 'state': 'complete'}], 'closed': False, 'dueComplete': False, 'dateLastActivity': '2024-03-07T19:20:34.913Z', 'desc': 'Sample 5', 'descData': {'emoji': {}}, 'due': None, 'dueReminder': None, 'email': None, 'idBoard': '65d66b12346c7595273539b0', 'idChecklists': ['65e109f9c7b0201c6f9f20b7'], 'idList': '65d681db7bcbe34462dea9af', 'idMembers': ['65d693344d0a8e41ac8d389a', '5efa1fa1cecb68095fa7840f', '65d7961bca65854badaea1d9', '5ec5aba8e5c17a8fd2bb3950', '5ec5cff03dc3a2766b12bb96', '65d68793fc2141d474d7546e'], 'idMembersVoted': [], 'idShort': 23, 'idAttachmentCover': None, 'labels': [{'id': '65d66b12920b46a0e90cd316', 'idBoard': '65d66b12346c7595273539b0', 'name': 'Hybridized', 'color': 'green', 'uses': 14}, {'id': '65d66b12920b46a0e90cd319', 'idBoard': '65d66b12346c7595273539b0', 'name': 'Embedded', 'color': 'yellow', 'uses': 13}, {'id': '65d66b12920b46a0e90cd321', 'idBoard': '65d66b12346c7595273539b0', 'name': 'Imaged', 'color': 'orange', 'uses': 9}, {'id': '65d66b12920b46a0e90cd325', 'idBoard': '65d66b12346c7595273539b0', 'name': 'Processed', 'color': 'red', 'uses': 3}, {'id': '65d66b12920b46a0e90cd31a', 'idBoard': '65d66b12346c7595273539b0', 'name': 'Tape Archived', 'color': 'purple', 'uses': 3}], 'idLabels': ['65d66b12920b46a0e90cd316', '65d66b12920b46a0e90cd319', '65d66b12920b46a0e90cd321', '65d66b12920b46a0e90cd325', '65d66b12920b46a0e90cd31a'], 'manualCoverAttachment': True, 'name': 'UWA.7648.CX23.THM.01', 'pos': 163840, 'shortLink': '9Qk4dRXU', 'shortUrl': 'https://trello.com/c/9Qk4dRXU', 'start': None, 'subscribed': False, 'url': 'https://trello.com/c/9Qk4dRXU/23-uwa7648cx23thm01', 'cover': {'idAttachment': None, 'color': None, 'idUploadedBackground': None, 'size': 'normal', 'brightness': 'dark', 'idPlugin': None}, 'isTemplate': False, 'cardRole': None}\n",
      "\n",
      "None\n"
     ]
    }
   ],
   "source": [
    "result_table = acc.get_custom_fields_and_checklists(api_key, api_token, board_id, 'UWA.')\n",
    "print(result_table)\n"
   ]
  },
  {
   "cell_type": "code",
   "execution_count": null,
   "id": "b1fd9fa0-ab9f-472c-961f-a96254984937",
   "metadata": {},
   "outputs": [],
   "source": []
  }
 ],
 "metadata": {
  "kernelspec": {
   "display_name": "Python 3 (ipykernel)",
   "language": "python",
   "name": "python3"
  },
  "language_info": {
   "codemirror_mode": {
    "name": "ipython",
    "version": 3
   },
   "file_extension": ".py",
   "mimetype": "text/x-python",
   "name": "python",
   "nbconvert_exporter": "python",
   "pygments_lexer": "ipython3",
   "version": "3.8.18"
  }
 },
 "nbformat": 4,
 "nbformat_minor": 5
}
