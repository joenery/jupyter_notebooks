{
 "cells": [
  {
   "cell_type": "code",
   "execution_count": 51,
   "id": "bb1bba93-7dc7-42b8-bb6e-b70d108f5552",
   "metadata": {},
   "outputs": [
    {
     "name": "stdout",
     "output_type": "stream",
     "text": [
      "    Pool 1   Pool 2     Ratio\n",
      "0  SALK111  SALK113  1.182812\n",
      "1  SALK113  SALK111  0.845443\n",
      "2  SALK112  SALK114  0.786867\n",
      "3  SALK114  SALK112  1.270863\n"
     ]
    }
   ],
   "source": [
    "import pandas as pd\n",
    "from itertools import combinations\n",
    "\n",
    "def compute_pairwise_differences(df):\n",
    "    \"\"\"Compute the pairwise differences in total reads.\"\"\"\n",
    "    pairs = list(combinations(df['Pool'], 2))\n",
    "    differences = []\n",
    "    for pair in pairs:\n",
    "        reads1 = df[df['Pool'] == pair[0]]['Total Reads'].values[0]\n",
    "        reads2 = df[df['Pool'] == pair[1]]['Total Reads'].values[0]\n",
    "        differences.append((pair[0], pair[1], abs(reads1 - reads2)))\n",
    "    return differences\n",
    "\n",
    "def generate_combinations(differences):\n",
    "    \"\"\"Generate all possible combinations of pairs ensuring unique pools.\"\"\"\n",
    "    return list(combinations(differences, 2))\n",
    "\n",
    "def find_best_combination(combinations):\n",
    "    \"\"\"Find the best combination with the lowest difference between differences.\"\"\"\n",
    "    best_combination = None\n",
    "    best_difference = float('inf')\n",
    "    for comb in combinations:\n",
    "        pools = {comb[0][0], comb[0][1], comb[1][0], comb[1][1]}\n",
    "        if len(pools) == 4:\n",
    "            diff1 = comb[0][2]\n",
    "            diff2 = comb[1][2]\n",
    "            difference_between_differences = abs(diff1 - diff2)\n",
    "            if difference_between_differences < best_difference:\n",
    "                best_difference = difference_between_differences\n",
    "                best_combination = comb\n",
    "    return best_combination, best_difference\n",
    "\n",
    "def compute_reads_ratio(df, pair):\n",
    "    \"\"\"Compute the ratio of total reads between two pools.\"\"\"\n",
    "    reads1 = df[df['Pool'] == pair[0]]['Total Reads'].values[0]\n",
    "    reads2 = df[df['Pool'] == pair[1]]['Total Reads'].values[0]\n",
    "    ratio = reads1 / reads2 if reads2 != 0 else float('inf')\n",
    "    return ratio\n",
    "\n",
    "def lowest_second_order_difference(df):\n",
    "    \"\"\"Main function to find the lowest difference pairs and compute ratios.\"\"\"\n",
    "    differences = compute_pairwise_differences(df)\n",
    "    combs = generate_combinations(differences)\n",
    "    best_combination, best_difference = find_best_combination(combs)\n",
    "\n",
    "    result_data = []\n",
    "    for pair in best_combination:\n",
    "        ratio = compute_reads_ratio(df, pair[:2])\n",
    "        inverse_ratio = compute_reads_ratio(df, (pair[1], pair[0]))\n",
    "        result_data.append((pair[0], pair[1], ratio))\n",
    "        result_data.append((pair[1], pair[0], inverse_ratio))\n",
    "\n",
    "    result_df = pd.DataFrame(result_data, columns=['Pool 1', 'Pool 2', 'Ratio'])\n",
    "    return result_df\n",
    "\n",
    "# Example dataframe\n",
    "data = {\n",
    "    'Pool': ['SALK111', 'SALK112', 'SALK113', 'SALK114'],\n",
    "    'Total Reads': [1377429, 913826, 1164538, 1161348]\n",
    "}\n",
    "df_example = pd.DataFrame(data)\n",
    "\n",
    "# Use the function\n",
    "result_df = find_lowest_difference_pairs(df_example)\n",
    "print(result_df)\n"
   ]
  },
  {
   "cell_type": "code",
   "execution_count": 42,
   "id": "445a2475-f1f2-4bf8-b6dd-9f5a49c86625",
   "metadata": {},
   "outputs": [
    {
     "name": "stdout",
     "output_type": "stream",
     "text": [
      "    Pool 1   Pool 2     Ratio\n",
      "0  SALK113  SALK114  1.002747\n",
      "1  SALK114  SALK113  0.997261\n",
      "2  SALK111  SALK112  1.507321\n",
      "3  SALK112  SALK111  0.663429\n"
     ]
    }
   ],
   "source": [
    "import pandas as pd\n",
    "from itertools import combinations\n",
    "\n",
    "def compute_pairwise_differences(df):\n",
    "    \"\"\"Compute the pairwise differences in total reads.\"\"\"\n",
    "    pairs = list(combinations(df['Pool'], 2))\n",
    "    differences = []\n",
    "    for pair in pairs:\n",
    "        reads1 = df[df['Pool'] == pair[0]]['Total Reads'].values[0]\n",
    "        reads2 = df[df['Pool'] == pair[1]]['Total Reads'].values[0]\n",
    "        differences.append((pair[0], pair[1], abs(reads1 - reads2)))\n",
    "    return differences\n",
    "\n",
    "def find_lowest_difference_pair(differences):\n",
    "    \"\"\"Find the pair with the lowest difference.\"\"\"\n",
    "    return min(differences, key=lambda x: x[2])\n",
    "\n",
    "def find_remaining_pair(df, pair):\n",
    "    \"\"\"Find the difference for the remaining pair of pools.\"\"\"\n",
    "    remaining_pools = set(df['Pool']) - {pair[0], pair[1]}\n",
    "    remaining_pair = tuple(remaining_pools)\n",
    "    reads1 = df[df['Pool'] == remaining_pair[0]]['Total Reads'].values[0]\n",
    "    reads2 = df[df['Pool'] == remaining_pair[1]]['Total Reads'].values[0]\n",
    "    remaining_difference = abs(reads1 - reads2)\n",
    "    return remaining_pair + (remaining_difference,)\n",
    "\n",
    "def compute_reads_ratio(df, pair):\n",
    "    \"\"\"Compute the ratio of total reads between two pools.\"\"\"\n",
    "    reads1 = df[df['Pool'] == pair[0]]['Total Reads'].values[0]\n",
    "    reads2 = df[df['Pool'] == pair[1]]['Total Reads'].values[0]\n",
    "    ratio = reads1 / reads2 if reads2 != 0 else float('inf')\n",
    "    return ratio\n",
    "\n",
    "def lowest_difference(df):\n",
    "    \"\"\"Main function to compute the lowest difference pairs, remaining pair difference, and ratios.\"\"\"\n",
    "    differences = compute_pairwise_differences(df)\n",
    "    lowest_diff_pair = find_lowest_difference_pair(differences)\n",
    "    remaining_diff_pair = find_remaining_pair(df, lowest_diff_pair)\n",
    "    \n",
    "    lowest_diff_pair_ratio = compute_reads_ratio(df, lowest_diff_pair[:2])\n",
    "    remaining_diff_pair_ratio = compute_reads_ratio(df, remaining_diff_pair[:2])\n",
    "    \n",
    "    lowest_diff_pair_inverse_ratio = compute_reads_ratio(df, (lowest_diff_pair[1], lowest_diff_pair[0]))\n",
    "    remaining_diff_pair_inverse_ratio = compute_reads_ratio(df, (remaining_diff_pair[1], remaining_diff_pair[0]))\n",
    "    \n",
    "    result_data = [\n",
    "        (lowest_diff_pair[0], lowest_diff_pair[1], lowest_diff_pair_ratio),\n",
    "        (lowest_diff_pair[1], lowest_diff_pair[0], lowest_diff_pair_inverse_ratio),\n",
    "        (remaining_diff_pair[0], remaining_diff_pair[1], remaining_diff_pair_ratio),\n",
    "        (remaining_diff_pair[1], remaining_diff_pair[0], remaining_diff_pair_inverse_ratio)\n",
    "    ]\n",
    "\n",
    "    result_df = pd.DataFrame(result_data, columns=['Pool 1', 'Pool 2', 'Ratio'])\n",
    "    return result_df\n",
    "\n",
    "# Example dataframe\n",
    "data = {\n",
    "    'Pool': ['SALK111', 'SALK112', 'SALK113', 'SALK114'],\n",
    "    'Total Reads': [1377429, 913826, 1164538, 1161348]\n",
    "}\n",
    "df_example = pd.DataFrame(data)\n",
    "\n",
    "# Use the function\n",
    "result_df = lowest_difference(df_example)\n",
    "print(result_df)\n"
   ]
  },
  {
   "cell_type": "code",
   "execution_count": 49,
   "id": "fe2dc296-3840-4f7f-904b-db54772637f7",
   "metadata": {},
   "outputs": [],
   "source": [
    "def generate_read_adj_table(df):\n",
    "    print(lowest_difference(df))\n",
    "    print(lowest_second_order_difference(df))"
   ]
  },
  {
   "cell_type": "code",
   "execution_count": 52,
   "id": "ce5139d1-d2ca-4da8-8e5f-67e32b1152f4",
   "metadata": {},
   "outputs": [
    {
     "name": "stdout",
     "output_type": "stream",
     "text": [
      "    Pool 1   Pool 2     Ratio\n",
      "0  SALK113  SALK114  1.002747\n",
      "1  SALK114  SALK113  0.997261\n",
      "2  SALK111  SALK112  1.507321\n",
      "3  SALK112  SALK111  0.663429\n",
      "    Pool 1   Pool 2     Ratio\n",
      "0  SALK111  SALK113  1.182812\n",
      "1  SALK113  SALK111  0.845443\n",
      "2  SALK112  SALK114  0.786867\n",
      "3  SALK114  SALK112  1.270863\n"
     ]
    }
   ],
   "source": [
    "generate_read_adj_table(df)"
   ]
  },
  {
   "cell_type": "code",
   "execution_count": null,
   "id": "62bd56fd-e329-43e6-97c1-d95e4f658ef0",
   "metadata": {},
   "outputs": [],
   "source": []
  }
 ],
 "metadata": {
  "kernelspec": {
   "display_name": "Python 3 (ipykernel)",
   "language": "python",
   "name": "python3"
  },
  "language_info": {
   "codemirror_mode": {
    "name": "ipython",
    "version": 3
   },
   "file_extension": ".py",
   "mimetype": "text/x-python",
   "name": "python",
   "nbconvert_exporter": "python",
   "pygments_lexer": "ipython3",
   "version": "3.8.18"
  }
 },
 "nbformat": 4,
 "nbformat_minor": 5
}
