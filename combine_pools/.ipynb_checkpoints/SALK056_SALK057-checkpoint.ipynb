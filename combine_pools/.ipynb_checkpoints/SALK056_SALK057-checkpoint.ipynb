{
 "cells": [
  {
   "cell_type": "code",
   "execution_count": 1,
   "id": "6ac6a584-55a3-4c3d-914a-0d1d482fdabf",
   "metadata": {},
   "outputs": [],
   "source": [
    "from merge_library_pool_components import combine_pools\n",
    "input_path1 = '/gale/netapp/seq11/illumina_runs/seq_lib_portal/SALK052'\n",
    "input_path2 = '/gale/netapp/seq11/illumina_runs/seq_lib_portal/SALK054'\n",
    "barcode = 'test'"
   ]
  },
  {
   "cell_type": "code",
   "execution_count": 2,
   "id": "3b1ebb86-330e-4753-adf1-a57db453a743",
   "metadata": {},
   "outputs": [
    {
     "name": "stdout",
     "output_type": "stream",
     "text": [
      "Data written to /gale/netapp/seq11/illumina_runs/seq_lib_portal/SALK052_SALK054/library_pool_component.csv:\n",
      "  library_pool_local_name                library_local_name  \\\n",
      "0         SALK052_SALK054  UWA7648_CX232425_THM2_1_P1-1-K15   \n",
      "1         SALK052_SALK054  UWA7648_CX232425_THM2_1_P2-1-M17   \n",
      "2         SALK052_SALK054  UWA7648_CX232425_THM2_1_P3-1-C21   \n",
      "3         SALK052_SALK054  UWA7648_CX232425_THM2_1_P4-1-O21   \n",
      "4         SALK052_SALK054  UWA7648_CX232425_THM2_1_P5-1-C23   \n",
      "\n",
      "         library_aliquot_local_name  \n",
      "0  UWA7648_CX232425_THM2_1_P1-1-K15  \n",
      "1  UWA7648_CX232425_THM2_1_P2-1-M17  \n",
      "2  UWA7648_CX232425_THM2_1_P3-1-C21  \n",
      "3  UWA7648_CX232425_THM2_1_P4-1-O21  \n",
      "4  UWA7648_CX232425_THM2_1_P5-1-C23  \n",
      "Data written to /gale/netapp/seq11/illumina_runs/seq_lib_portal/SALK052_SALK054/library_pool.csv:\n",
      "  library_pool_local_name library_pool_local_tube_id  \\\n",
      "0         SALK052_SALK054            SALK052_SALK054   \n",
      "\n",
      "  library_pool_tube_barcode library_pool_preparation_date  \n",
      "0                      test                      24/03/19  \n"
     ]
    }
   ],
   "source": [
    "combine_pools(input_path1, input_path2, barcode)"
   ]
  },
  {
   "cell_type": "code",
   "execution_count": null,
   "id": "5876d4e9-1d8e-448b-8bf3-aebf081ecd2b",
   "metadata": {},
   "outputs": [],
   "source": []
  }
 ],
 "metadata": {
  "kernelspec": {
   "display_name": "Python 3 (ipykernel)",
   "language": "python",
   "name": "python3"
  },
  "language_info": {
   "codemirror_mode": {
    "name": "ipython",
    "version": 3
   },
   "file_extension": ".py",
   "mimetype": "text/x-python",
   "name": "python",
   "nbconvert_exporter": "python",
   "pygments_lexer": "ipython3",
   "version": "3.8.18"
  }
 },
 "nbformat": 4,
 "nbformat_minor": 5
}
