{
 "cells": [
  {
   "cell_type": "code",
   "execution_count": 1,
   "id": "6ac6a584-55a3-4c3d-914a-0d1d482fdabf",
   "metadata": {},
   "outputs": [],
   "source": [
    "from merge_library_pool_components import combine_pools\n",
    "input_path1 = '/gale/netapp/seq11/illumina_runs/seq_lib_portal/SALK068'\n",
    "input_path2 = '/gale/netapp/seq11/illumina_runs/seq_lib_portal/SALK069'\n",
    "barcode = ' SM-NQUJC'"
   ]
  },
  {
   "cell_type": "code",
   "execution_count": 2,
   "id": "3b1ebb86-330e-4753-adf1-a57db453a743",
   "metadata": {},
   "outputs": [],
   "source": [
    "combine_pools(input_path1, input_path2, barcode)"
   ]
  },
  {
   "cell_type": "code",
   "execution_count": null,
   "id": "5876d4e9-1d8e-448b-8bf3-aebf081ecd2b",
   "metadata": {},
   "outputs": [],
   "source": []
  }
 ],
 "metadata": {
  "kernelspec": {
   "display_name": "Python 3 (ipykernel)",
   "language": "python",
   "name": "python3"
  },
  "language_info": {
   "codemirror_mode": {
    "name": "ipython",
    "version": 3
   },
   "file_extension": ".py",
   "mimetype": "text/x-python",
   "name": "python",
   "nbconvert_exporter": "python",
   "pygments_lexer": "ipython3",
   "version": "3.8.18"
  }
 },
 "nbformat": 4,
 "nbformat_minor": 5
}
