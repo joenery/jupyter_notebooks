{
 "cells": [
  {
   "cell_type": "code",
   "execution_count": 1,
   "id": "d36d45f8-5c75-460d-88b3-9886795dd71a",
   "metadata": {},
   "outputs": [],
   "source": [
    "import sqlite3\n",
    "import pandas as pd\n",
    "import gale_archives as gale\n",
    "pd.set_option('display.max_colwidth', None)  # For pandas versions older than 1.0, use -1 instead of None\n",
    "pd.set_option('display.width', 1000)  # Adjust based on your display area"
   ]
  },
  {
   "cell_type": "code",
   "execution_count": 2,
   "id": "f121651d-a784-4e6e-899e-29e25b10eb4a",
   "metadata": {},
   "outputs": [
    {
     "data": {
      "text/plain": [
       "['TissueBlocks', 'MerScopeRuns', 'TrelloCards']"
      ]
     },
     "execution_count": 2,
     "metadata": {},
     "output_type": "execute_result"
    }
   ],
   "source": [
    "db_path = 'merscope.db'\n",
    "gale.list_table_names(db_path)"
   ]
  },
  {
   "cell_type": "code",
   "execution_count": 3,
   "id": "0233b1fd-6f55-4b73-a6c6-02099c155807",
   "metadata": {},
   "outputs": [
    {
     "data": {
      "text/html": [
       "<div>\n",
       "<style scoped>\n",
       "    .dataframe tbody tr th:only-of-type {\n",
       "        vertical-align: middle;\n",
       "    }\n",
       "\n",
       "    .dataframe tbody tr th {\n",
       "        vertical-align: top;\n",
       "    }\n",
       "\n",
       "    .dataframe thead th {\n",
       "        text-align: right;\n",
       "    }\n",
       "</style>\n",
       "<table border=\"1\" class=\"dataframe\">\n",
       "  <thead>\n",
       "    <tr style=\"text-align: right;\">\n",
       "      <th></th>\n",
       "      <th>TissueBlockID</th>\n",
       "      <th>TissueName</th>\n",
       "    </tr>\n",
       "  </thead>\n",
       "  <tbody>\n",
       "    <tr>\n",
       "      <th>0</th>\n",
       "      <td>UWA.7648.CX04.A10(m).03</td>\n",
       "      <td>UWA.7648.CX04.A10(m).03</td>\n",
       "    </tr>\n",
       "  </tbody>\n",
       "</table>\n",
       "</div>"
      ],
      "text/plain": [
       "             TissueBlockID               TissueName\n",
       "0  UWA.7648.CX04.A10(m).03  UWA.7648.CX04.A10(m).03"
      ]
     },
     "execution_count": 3,
     "metadata": {},
     "output_type": "execute_result"
    }
   ],
   "source": [
    "table_name = 'TissueBlocks'\n",
    "df = gale.get_db_table(db_path, table_name)\n",
    "df"
   ]
  },
  {
   "cell_type": "code",
   "execution_count": 4,
   "id": "98e2a911-3e04-4c44-afa3-20a1c3d0d4c1",
   "metadata": {},
   "outputs": [
    {
     "data": {
      "text/html": [
       "<div>\n",
       "<style scoped>\n",
       "    .dataframe tbody tr th:only-of-type {\n",
       "        vertical-align: middle;\n",
       "    }\n",
       "\n",
       "    .dataframe tbody tr th {\n",
       "        vertical-align: top;\n",
       "    }\n",
       "\n",
       "    .dataframe thead th {\n",
       "        text-align: right;\n",
       "    }\n",
       "</style>\n",
       "<table border=\"1\" class=\"dataframe\">\n",
       "  <thead>\n",
       "    <tr style=\"text-align: right;\">\n",
       "      <th></th>\n",
       "      <th>RunID</th>\n",
       "      <th>TissueBlockID</th>\n",
       "    </tr>\n",
       "  </thead>\n",
       "  <tbody>\n",
       "    <tr>\n",
       "      <th>0</th>\n",
       "      <td>202403291155_UWA-7648-CX04-A10M-E-03_VMSC12802</td>\n",
       "      <td>UWA.7648.CX04.A10(m).03</td>\n",
       "    </tr>\n",
       "  </tbody>\n",
       "</table>\n",
       "</div>"
      ],
      "text/plain": [
       "                                            RunID            TissueBlockID\n",
       "0  202403291155_UWA-7648-CX04-A10M-E-03_VMSC12802  UWA.7648.CX04.A10(m).03"
      ]
     },
     "execution_count": 4,
     "metadata": {},
     "output_type": "execute_result"
    }
   ],
   "source": [
    "table_name = 'MerScopeRuns'\n",
    "df = gale.get_db_table(db_path, table_name)\n",
    "df"
   ]
  },
  {
   "cell_type": "code",
   "execution_count": 5,
   "id": "939f2c69-6f96-47b5-a90b-769948096ff2",
   "metadata": {},
   "outputs": [
    {
     "data": {
      "text/html": [
       "<div>\n",
       "<style scoped>\n",
       "    .dataframe tbody tr th:only-of-type {\n",
       "        vertical-align: middle;\n",
       "    }\n",
       "\n",
       "    .dataframe tbody tr th {\n",
       "        vertical-align: top;\n",
       "    }\n",
       "\n",
       "    .dataframe thead th {\n",
       "        text-align: right;\n",
       "    }\n",
       "</style>\n",
       "<table border=\"1\" class=\"dataframe\">\n",
       "  <thead>\n",
       "    <tr style=\"text-align: right;\">\n",
       "      <th></th>\n",
       "      <th>CardID</th>\n",
       "      <th>RunID</th>\n",
       "      <th>CardName</th>\n",
       "    </tr>\n",
       "  </thead>\n",
       "  <tbody>\n",
       "    <tr>\n",
       "      <th>0</th>\n",
       "      <td>65f9b64f6674f6767c61c658</td>\n",
       "      <td>202403291155_UWA-7648-CX04-A10M-E-03_VMSC12802</td>\n",
       "      <td>UWA.7648.CX04.A10(m).03</td>\n",
       "    </tr>\n",
       "  </tbody>\n",
       "</table>\n",
       "</div>"
      ],
      "text/plain": [
       "                     CardID                                           RunID                 CardName\n",
       "0  65f9b64f6674f6767c61c658  202403291155_UWA-7648-CX04-A10M-E-03_VMSC12802  UWA.7648.CX04.A10(m).03"
      ]
     },
     "execution_count": 5,
     "metadata": {},
     "output_type": "execute_result"
    }
   ],
   "source": [
    "table_name = 'TrelloCards'\n",
    "df = gale.get_db_table(db_path, table_name)\n",
    "df"
   ]
  },
  {
   "cell_type": "code",
   "execution_count": null,
   "id": "1c14bbf2-c259-48b8-9ccf-0d523a636062",
   "metadata": {},
   "outputs": [],
   "source": []
  },
  {
   "cell_type": "code",
   "execution_count": null,
   "id": "f922795e-ea3d-4af1-b0ec-b4a32df2b105",
   "metadata": {},
   "outputs": [],
   "source": []
  }
 ],
 "metadata": {
  "kernelspec": {
   "display_name": "Python 3 (ipykernel)",
   "language": "python",
   "name": "python3"
  },
  "language_info": {
   "codemirror_mode": {
    "name": "ipython",
    "version": 3
   },
   "file_extension": ".py",
   "mimetype": "text/x-python",
   "name": "python",
   "nbconvert_exporter": "python",
   "pygments_lexer": "ipython3",
   "version": "3.8.18"
  }
 },
 "nbformat": 4,
 "nbformat_minor": 5
}
