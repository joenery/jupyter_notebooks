{
 "cells": [
  {
   "cell_type": "code",
   "execution_count": 1,
   "id": "0f087698-ba93-4ac6-832a-6c19273b6dca",
   "metadata": {},
   "outputs": [],
   "source": [
    "#Get list of pending aws for ceph from db and submit them to trello aws list\n",
    "#Need to run update_merfish.ipyn paths in archives.db before running because this looks for pending aws\n",
    "\n",
    "import gale_archives as gale\n",
    "import gale_trello as gt\n",
    "\n",
    "db_path = 'archives.db'\n",
    "archive_criteria = {'aws': 'pending'}\n",
    "filter = 'ceph'\n",
    "paths = gale.get_paths_by_archive_status_and_regex(db_path, archive_criteria, filter)\n",
    "#gale.get_paths_by_archive_status_and_regex(db_path, archive_criteria)"
   ]
  },
  {
   "cell_type": "code",
   "execution_count": 2,
   "id": "8b01a090-5144-4695-9e48-7e79dfeb2891",
   "metadata": {},
   "outputs": [
    {
     "name": "stdout",
     "output_type": "stream",
     "text": [
      "Adding card for /ceph/cephatlas/merscope_data/processed/202404051103_P0-MOUSE-BRAIN-B2-2_VMSC12802/202404051103_P0-MOUSE-BRAIN-B2-2_VMSC12802.raw.tar.gz to Trello...\n",
      "6619bdcce8e9f8e2b32b0a3b\n",
      "Comment posted successfully!\n",
      "Archive status set to 'in progress' for /ceph/cephatlas/merscope_data/processed/202404051103_P0-MOUSE-BRAIN-B2-2_VMSC12802/202404051103_P0-MOUSE-BRAIN-B2-2_VMSC12802.raw.tar.gz with archive_type 'aws'.\n",
      "Adding card for /ceph/cephatlas/merscope_data/processed/202404051103_P0-MOUSE-BRAIN-B2-2_VMSC12802/202404051103_P0-MOUSE-BRAIN-B2-2_VMSC12802.out.tar.gz to Trello...\n",
      "6619bdcdd589535f82001738\n",
      "Comment posted successfully!\n",
      "Archive status set to 'in progress' for /ceph/cephatlas/merscope_data/processed/202404051103_P0-MOUSE-BRAIN-B2-2_VMSC12802/202404051103_P0-MOUSE-BRAIN-B2-2_VMSC12802.out.tar.gz with archive_type 'aws'.\n",
      "Adding card for /ceph/cephatlas/merscope_data/processed/202404051055_P0-MOUSE-EYE-E1_VMSC13502/202404051055_P0-MOUSE-EYE-E1_VMSC13502.raw.tar.gz to Trello...\n",
      "6619bdcd4d0526be7262495b\n",
      "Comment posted successfully!\n",
      "Archive status set to 'in progress' for /ceph/cephatlas/merscope_data/processed/202404051055_P0-MOUSE-EYE-E1_VMSC13502/202404051055_P0-MOUSE-EYE-E1_VMSC13502.raw.tar.gz with archive_type 'aws'.\n",
      "Adding card for /ceph/cephatlas/merscope_data/processed/202404051055_P0-MOUSE-EYE-E1_VMSC13502/202404051055_P0-MOUSE-EYE-E1_VMSC13502.out.tar.gz to Trello...\n",
      "6619bdcea252df9fe6ce89f7\n",
      "Comment posted successfully!\n",
      "Archive status set to 'in progress' for /ceph/cephatlas/merscope_data/processed/202404051055_P0-MOUSE-EYE-E1_VMSC13502/202404051055_P0-MOUSE-EYE-E1_VMSC13502.out.tar.gz with archive_type 'aws'.\n"
     ]
    }
   ],
   "source": [
    "for path in paths:\n",
    "    print(f\"Adding card for {path} to Trello...\")\n",
    "    gt.trello_aws(path)\n",
    "    archive_type = 'aws'\n",
    "    status = 'in progress'\n",
    "    gale.set_path_status(db_path, path, archive_type, status)"
   ]
  },
  {
   "cell_type": "code",
   "execution_count": null,
   "id": "3ce3553a-0b1a-48b7-b222-47ea20b1cf27",
   "metadata": {},
   "outputs": [],
   "source": []
  }
 ],
 "metadata": {
  "kernelspec": {
   "display_name": "Python 3 (ipykernel)",
   "language": "python",
   "name": "python3"
  },
  "language_info": {
   "codemirror_mode": {
    "name": "ipython",
    "version": 3
   },
   "file_extension": ".py",
   "mimetype": "text/x-python",
   "name": "python",
   "nbconvert_exporter": "python",
   "pygments_lexer": "ipython3",
   "version": "3.8.18"
  }
 },
 "nbformat": 4,
 "nbformat_minor": 5
}
