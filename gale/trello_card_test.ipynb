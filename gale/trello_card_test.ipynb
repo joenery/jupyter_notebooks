{
 "cells": [
  {
   "cell_type": "code",
   "execution_count": 5,
   "id": "e068f8c3-1a06-479b-bc10-c62c23ebe8af",
   "metadata": {},
   "outputs": [],
   "source": [
    "import os\n",
    "import gale_trello as gt\n",
    "import gale_archives as gale"
   ]
  },
  {
   "cell_type": "code",
   "execution_count": 11,
   "id": "48c130c3-ec34-4bd0-ad8e-0d0756a2022b",
   "metadata": {},
   "outputs": [
    {
     "data": {
      "text/plain": [
       "['/ceph/cephatlas/merscope_data/processed/202403291248_UWA-7648-CX07-A9-E-03_VMSC13502/202403291248_UWA-7648-CX07-A9-E-03_VMSC13502.raw.tar.gz']"
      ]
     },
     "execution_count": 11,
     "metadata": {},
     "output_type": "execute_result"
    }
   ],
   "source": [
    "path = '/ceph/cephatlas/merscope_data/processed/202403291248_UWA-7648-CX07-A9-E-03_VMSC13502/202403291248_UWA-7648-CX07-A9-E-03_VMSC13502.raw.tar.gz'\n",
    "db_path = 'archives.db'\n",
    "archive_criteria = {'aws': 'pending'}\n",
    "filter = path\n",
    "gale.get_paths_by_archive_status_and_regex(db_path, archive_criteria, filter)\n",
    "#gale.get_paths_by_archive_status_and_regex(db_path, archive_criteria)"
   ]
  },
  {
   "cell_type": "code",
   "execution_count": 3,
   "id": "c72a3282-2c00-4c6e-8c43-cc3899308149",
   "metadata": {},
   "outputs": [
    {
     "name": "stdout",
     "output_type": "stream",
     "text": [
      "Custom field updated successfully!\n",
      "Card created successfully!\n"
     ]
    }
   ],
   "source": [
    "gt.trello_aws(path)"
   ]
  },
  {
   "cell_type": "code",
   "execution_count": 12,
   "id": "e6eae6ed-db35-4fc3-99e5-9cfbd299f65e",
   "metadata": {},
   "outputs": [
    {
     "name": "stdout",
     "output_type": "stream",
     "text": [
      "Archive status set to 'in progress' for /ceph/cephatlas/merscope_data/processed/202403291248_UWA-7648-CX07-A9-E-03_VMSC13502/202403291248_UWA-7648-CX07-A9-E-03_VMSC13502.raw.tar.gz with archive_type 'aws'.\n"
     ]
    }
   ],
   "source": [
    "archive_type = 'aws'\n",
    "status = 'in progress'\n",
    "gale.set_path_status(db_path, path, archive_type, status)"
   ]
  },
  {
   "cell_type": "code",
   "execution_count": 14,
   "id": "f46d0fe3-9d86-46e9-9ebe-413e3f4f4ac3",
   "metadata": {},
   "outputs": [
    {
     "name": "stdout",
     "output_type": "stream",
     "text": [
      "['/ceph/cephatlas/merscope_data/processed/202403291248_UWA-7648-CX07-A9-E-03_VMSC13502/202403291248_UWA-7648-CX07-A9-E-03_VMSC13502.raw.tar.gz']\n"
     ]
    }
   ],
   "source": [
    "archive_criteria = {'aws': 'in progress'}\n",
    "filter = path\n",
    "print(gale.get_paths_by_archive_status_and_regex(db_path, archive_criteria, filter))\n",
    "#gale.get_paths_by_archive_status_and_regex(db_path, archive_criteria)"
   ]
  },
  {
   "cell_type": "code",
   "execution_count": null,
   "id": "9586d361-ef24-42d6-966a-ef11dbbd1a9a",
   "metadata": {},
   "outputs": [],
   "source": []
  }
 ],
 "metadata": {
  "kernelspec": {
   "display_name": "Python 3 (ipykernel)",
   "language": "python",
   "name": "python3"
  },
  "language_info": {
   "codemirror_mode": {
    "name": "ipython",
    "version": 3
   },
   "file_extension": ".py",
   "mimetype": "text/x-python",
   "name": "python",
   "nbconvert_exporter": "python",
   "pygments_lexer": "ipython3",
   "version": "3.8.18"
  }
 },
 "nbformat": 4,
 "nbformat_minor": 5
}
