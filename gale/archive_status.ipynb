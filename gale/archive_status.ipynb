{
 "cells": [
  {
   "cell_type": "code",
   "execution_count": 5,
   "id": "0f087698-ba93-4ac6-832a-6c19273b6dca",
   "metadata": {},
   "outputs": [],
   "source": [
    "import gale_archives as gale\n",
    "db_path = 'archives.db'\n",
    "archive_criteria = {'aws': 'complete'}\n",
    "filter = '202403291248_UWA-7648-CX07-A9-E-03_VMSC13502/202403291248_UWA-7648-CX07-A9-E-03_VMSC13502'\n",
    "paths = gale.get_paths_by_archive_status_and_regex(db_path, archive_criteria, filter)\n",
    "#gale.get_paths_by_archive_status_and_regex(db_path, archive_criteria)"
   ]
  },
  {
   "cell_type": "code",
   "execution_count": 6,
   "id": "8b01a090-5144-4695-9e48-7e79dfeb2891",
   "metadata": {},
   "outputs": [
    {
     "name": "stdout",
     "output_type": "stream",
     "text": [
      "These paths are complete\n",
      "/ceph/cephatlas/merscope_data/processed/202403291248_UWA-7648-CX07-A9-E-03_VMSC13502/202403291248_UWA-7648-CX07-A9-E-03_VMSC13502.raw.tar.gz\n",
      "/ceph/cephatlas/merscope_data/processed/202403291248_UWA-7648-CX07-A9-E-03_VMSC13502/202403291248_UWA-7648-CX07-A9-E-03_VMSC13502.out.tar.gz\n"
     ]
    }
   ],
   "source": [
    "print(f\"These paths are {archive_criteria['aws']}:\")\n",
    "for path_entry in paths:\n",
    "    print(path_entry)"
   ]
  },
  {
   "cell_type": "code",
   "execution_count": null,
   "id": "3ce3553a-0b1a-48b7-b222-47ea20b1cf27",
   "metadata": {},
   "outputs": [],
   "source": []
  }
 ],
 "metadata": {
  "kernelspec": {
   "display_name": "Python 3 (ipykernel)",
   "language": "python",
   "name": "python3"
  },
  "language_info": {
   "codemirror_mode": {
    "name": "ipython",
    "version": 3
   },
   "file_extension": ".py",
   "mimetype": "text/x-python",
   "name": "python",
   "nbconvert_exporter": "python",
   "pygments_lexer": "ipython3",
   "version": "3.8.18"
  }
 },
 "nbformat": 4,
 "nbformat_minor": 5
}
