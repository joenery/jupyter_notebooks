{
 "cells": [
  {
   "cell_type": "code",
   "execution_count": 1,
   "id": "d670d511-20c8-4e4b-9ee4-42b20b768fd6",
   "metadata": {},
   "outputs": [],
   "source": [
    "import os\n",
    "import json\n",
    "import merscope_db as msd\n",
    "import gale_trello as gt\n",
    "import gale_archives as gale\n",
    "\n",
    "API_KEY = os.environ.get(\"TKEY\")\n",
    "TOKEN = os.environ.get(\"TTOKEN\")\n",
    "BOARD_ID = os.environ.get(\"TBOARDID_MERFISH\")\n",
    "CUSTOM_FIELD_ID_RUN_ID = '65e24d871ab643d2e39c892b'\n",
    "CUSTOM_FIELD_ID_TISSUE_BLOCK_ID = '65e25a32ff4175bbbfeb5d34'\n",
    "MERSCOPE_DB = 'merscope.db'\n",
    "ARCHIVES_DB = 'archives.db'"
   ]
  },
  {
   "cell_type": "code",
   "execution_count": 2,
   "id": "a1422483-543e-4cb6-bd4d-28f28050ca15",
   "metadata": {},
   "outputs": [],
   "source": [
    "api_key = API_KEY\n",
    "token = TOKEN\n",
    "board_id = BOARD_ID\n",
    "cards = gt.get_all_cards(board_id, api_key, token)"
   ]
  },
  {
   "cell_type": "code",
   "execution_count": 27,
   "id": "695ebf60-9afc-400d-8a4e-a77aa18058cd",
   "metadata": {},
   "outputs": [
    {
     "name": "stdout",
     "output_type": "stream",
     "text": [
      "UWA.7648.CX17.A44.E.01 None 6614610c805cd4a23ef2408a UWA.7648.CX17.A44.E.01\n",
      "UWA.7648.CX18.A8.E.05 202404121149_UWA-7648-CX18-A8-E-05_VMSC12802 66145f9b911b9792e841bb32 UWA.7648.CX18.A8.E.05\n"
     ]
    },
    {
     "ename": "TypeError",
     "evalue": "string indices must be integers",
     "output_type": "error",
     "traceback": [
      "\u001b[0;31m---------------------------------------------------------------------------\u001b[0m",
      "\u001b[0;31mTypeError\u001b[0m                                 Traceback (most recent call last)",
      "Input \u001b[0;32mIn [27]\u001b[0m, in \u001b[0;36m<cell line: 1>\u001b[0;34m()\u001b[0m\n\u001b[1;32m      4\u001b[0m custom_fields_list \u001b[38;5;241m=\u001b[39m json\u001b[38;5;241m.\u001b[39mloads(custom_fields_json)\n\u001b[1;32m      5\u001b[0m target_custom_field_id \u001b[38;5;241m=\u001b[39m CUSTOM_FIELD_ID_RUN_ID\n\u001b[0;32m----> 6\u001b[0m run_id \u001b[38;5;241m=\u001b[39m \u001b[43mgt\u001b[49m\u001b[38;5;241;43m.\u001b[39;49m\u001b[43mextract_custom_field_text\u001b[49m\u001b[43m(\u001b[49m\u001b[43mcustom_fields_list\u001b[49m\u001b[43m,\u001b[49m\u001b[43m \u001b[49m\u001b[43mtarget_custom_field_id\u001b[49m\u001b[43m)\u001b[49m\n\u001b[1;32m      7\u001b[0m target_custom_field_id \u001b[38;5;241m=\u001b[39m CUSTOM_FIELD_ID_TISSUE_BLOCK_ID\n\u001b[1;32m      8\u001b[0m tissue_block_id \u001b[38;5;241m=\u001b[39m gt\u001b[38;5;241m.\u001b[39mextract_custom_field_text(custom_fields_list, target_custom_field_id)\n",
      "File \u001b[0;32m~/jupyter_notebooks/gale/gale_trello.py:421\u001b[0m, in \u001b[0;36mextract_custom_field_text\u001b[0;34m(custom_fields_list, target_custom_field_id)\u001b[0m\n\u001b[1;32m    410\u001b[0m \u001b[38;5;250m\u001b[39m\u001b[38;5;124;03m\"\"\"\u001b[39;00m\n\u001b[1;32m    411\u001b[0m \u001b[38;5;124;03mExtracts the 'text' value from a specific custom field in a list of custom fields.\u001b[39;00m\n\u001b[1;32m    412\u001b[0m \n\u001b[0;32m   (...)\u001b[0m\n\u001b[1;32m    418\u001b[0m \u001b[38;5;124;03m- str: The 'text' value of the custom field if available, otherwise None.\u001b[39;00m\n\u001b[1;32m    419\u001b[0m \u001b[38;5;124;03m\"\"\"\u001b[39;00m\n\u001b[1;32m    420\u001b[0m \u001b[38;5;28;01mfor\u001b[39;00m item \u001b[38;5;129;01min\u001b[39;00m custom_fields_list:\n\u001b[0;32m--> 421\u001b[0m     \u001b[38;5;28;01mif\u001b[39;00m \u001b[43mitem\u001b[49m\u001b[43m[\u001b[49m\u001b[38;5;124;43m'\u001b[39;49m\u001b[38;5;124;43midCustomField\u001b[39;49m\u001b[38;5;124;43m'\u001b[39;49m\u001b[43m]\u001b[49m \u001b[38;5;241m==\u001b[39m target_custom_field_id:\n\u001b[1;32m    422\u001b[0m         \u001b[38;5;66;03m# Check if 'value' is not None and 'text' key exists in 'value'\u001b[39;00m\n\u001b[1;32m    423\u001b[0m         \u001b[38;5;28;01mif\u001b[39;00m item[\u001b[38;5;124m'\u001b[39m\u001b[38;5;124mvalue\u001b[39m\u001b[38;5;124m'\u001b[39m] \u001b[38;5;129;01mand\u001b[39;00m \u001b[38;5;124m'\u001b[39m\u001b[38;5;124mtext\u001b[39m\u001b[38;5;124m'\u001b[39m \u001b[38;5;129;01min\u001b[39;00m item[\u001b[38;5;124m'\u001b[39m\u001b[38;5;124mvalue\u001b[39m\u001b[38;5;124m'\u001b[39m]:\n\u001b[1;32m    424\u001b[0m             \u001b[38;5;28;01mreturn\u001b[39;00m item[\u001b[38;5;124m'\u001b[39m\u001b[38;5;124mvalue\u001b[39m\u001b[38;5;124m'\u001b[39m][\u001b[38;5;124m'\u001b[39m\u001b[38;5;124mtext\u001b[39m\u001b[38;5;124m'\u001b[39m]\n",
      "\u001b[0;31mTypeError\u001b[0m: string indices must be integers"
     ]
    }
   ],
   "source": [
    "for card in cards:\n",
    "    card_id, card_name = gt.get_card_id_and_name(card)\n",
    "    custom_fields_json = json.dumps(gt.get_custom_field_data(card_id, api_key, token), indent=4)\n",
    "    custom_fields_list = json.loads(custom_fields_json)\n",
    "    target_custom_field_id = CUSTOM_FIELD_ID_RUN_ID\n",
    "    run_id = gt.extract_custom_field_text(custom_fields_list, target_custom_field_id)\n",
    "    target_custom_field_id = CUSTOM_FIELD_ID_TISSUE_BLOCK_ID\n",
    "    tissue_block_id = gt.extract_custom_field_text(custom_fields_list, target_custom_field_id)\n",
    "    if tissue_block_id != None:\n",
    "        print(tissue_block_id, run_id, card_id, card_name)"
   ]
  },
  {
   "cell_type": "code",
   "execution_count": 3,
   "id": "5002dfda-ec13-4474-b115-e33a40a252c7",
   "metadata": {},
   "outputs": [],
   "source": [
    "\n",
    "card_data = cards[4]\n",
    "#card_data"
   ]
  },
  {
   "cell_type": "code",
   "execution_count": 4,
   "id": "df019490-2c94-47f6-b73a-b037b2de6aad",
   "metadata": {},
   "outputs": [],
   "source": [
    "\n",
    "card_id, card_name = gt.get_card_id_and_name(card_data)"
   ]
  },
  {
   "cell_type": "code",
   "execution_count": 5,
   "id": "ac1cfe68-6e4e-4937-928f-e0d58a6d7314",
   "metadata": {},
   "outputs": [],
   "source": [
    "#print(card_id)"
   ]
  },
  {
   "cell_type": "code",
   "execution_count": 6,
   "id": "d67f8ca0-f04b-4463-858f-644b93fd55aa",
   "metadata": {},
   "outputs": [],
   "source": [
    "#print(card_name)"
   ]
  },
  {
   "cell_type": "code",
   "execution_count": 18,
   "id": "a67d3628-3ef1-4bd9-9e14-306d8c44d133",
   "metadata": {},
   "outputs": [],
   "source": [
    "custom_fields_json = json.dumps(gt.get_custom_field_data(card_id, api_key, token), indent=4)\n",
    "#print(custom_fields_json)"
   ]
  },
  {
   "cell_type": "code",
   "execution_count": 8,
   "id": "71174815-1896-4903-8f52-b472205cc82a",
   "metadata": {},
   "outputs": [],
   "source": [
    "#print(json.dumps(gt.get_custom_fields_in_board(board_id, api_key, token), indent=4))"
   ]
  },
  {
   "cell_type": "code",
   "execution_count": 9,
   "id": "2de8abd7-1e66-479b-b871-f1ab95ef87fb",
   "metadata": {},
   "outputs": [
    {
     "data": {
      "text/plain": [
       "'202403291155_UWA-7648-CX04-A10M-E-03_VMSC12802'"
      ]
     },
     "execution_count": 9,
     "metadata": {},
     "output_type": "execute_result"
    }
   ],
   "source": [
    "# Parsing the JSON string to a Python list object\n",
    "custom_fields_list = json.loads(custom_fields_json)\n",
    "target_custom_field_id = CUSTOM_FIELD_ID_RUN_ID\n",
    "run_id = gt.extract_custom_field_text(custom_fields_list, target_custom_field_id)\n",
    "run_id"
   ]
  },
  {
   "cell_type": "code",
   "execution_count": 10,
   "id": "2d444543-a8ec-49d8-ad4b-ea15d50d0224",
   "metadata": {},
   "outputs": [
    {
     "data": {
      "text/plain": [
       "'UWA.7648.CX04.A10(m).03'"
      ]
     },
     "execution_count": 10,
     "metadata": {},
     "output_type": "execute_result"
    }
   ],
   "source": [
    "target_custom_field_id = CUSTOM_FIELD_ID_TISSUE_BLOCK_ID\n",
    "tissue_block_id = gt.extract_custom_field_text(custom_fields_list, target_custom_field_id)\n",
    "tissue_block_id"
   ]
  },
  {
   "cell_type": "code",
   "execution_count": 12,
   "id": "c0185504-9957-4d72-b302-fbcc64dec951",
   "metadata": {},
   "outputs": [],
   "source": [
    "msd.insert_data_into_db(tissue_block_id, run_id, card_id, card_name)"
   ]
  },
  {
   "cell_type": "code",
   "execution_count": null,
   "id": "f108c8c9-4977-40af-932d-372622ebfe34",
   "metadata": {},
   "outputs": [],
   "source": []
  },
  {
   "cell_type": "code",
   "execution_count": null,
   "id": "3ad3440c-8e8c-4389-8b05-5de89ea0a783",
   "metadata": {},
   "outputs": [],
   "source": [
    "#get archive states of run_id\n",
    "#db_path = ARCHIVES_DB\n",
    "#archive_criteria = {'aws': 'in progress'}\n",
    "#paths = gale.get_paths_by_archive_status_and_regex(db_path, archive_criteria)\n",
    "#like_filter = f'%{run_id}%'\n",
    "#paths = gale.fetch_filtered_paths_and_archives(db_path, path_pattern=like_filter)"
   ]
  },
  {
   "cell_type": "code",
   "execution_count": null,
   "id": "b02db5ca-2512-444f-a4cb-9a48474bb1c4",
   "metadata": {},
   "outputs": [],
   "source": [
    "paths"
   ]
  },
  {
   "cell_type": "code",
   "execution_count": null,
   "id": "8ce31008-6714-42b3-9f4f-5d3acd2477af",
   "metadata": {},
   "outputs": [],
   "source": []
  }
 ],
 "metadata": {
  "kernelspec": {
   "display_name": "Python 3 (ipykernel)",
   "language": "python",
   "name": "python3"
  },
  "language_info": {
   "codemirror_mode": {
    "name": "ipython",
    "version": 3
   },
   "file_extension": ".py",
   "mimetype": "text/x-python",
   "name": "python",
   "nbconvert_exporter": "python",
   "pygments_lexer": "ipython3",
   "version": "3.8.18"
  }
 },
 "nbformat": 4,
 "nbformat_minor": 5
}
