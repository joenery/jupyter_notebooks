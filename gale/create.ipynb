{
 "cells": [
  {
   "cell_type": "code",
   "execution_count": 1,
   "id": "616af779-0abc-44bd-a181-6ad834319efd",
   "metadata": {},
   "outputs": [
    {
     "name": "stdout",
     "output_type": "stream",
     "text": [
      "Successfully connected to SQLite. SQLite version: 2.6.0\n",
      "Tables were created successfully.\n"
     ]
    }
   ],
   "source": [
    "import gale_archives as gale\n",
    "gale.create_database()"
   ]
  },
  {
   "cell_type": "code",
   "execution_count": null,
   "id": "d577ff21-42a4-46c3-a692-65b4e43f65bc",
   "metadata": {},
   "outputs": [],
   "source": []
  }
 ],
 "metadata": {
  "kernelspec": {
   "display_name": "Python 3 (ipykernel)",
   "language": "python",
   "name": "python3"
  },
  "language_info": {
   "codemirror_mode": {
    "name": "ipython",
    "version": 3
   },
   "file_extension": ".py",
   "mimetype": "text/x-python",
   "name": "python",
   "nbconvert_exporter": "python",
   "pygments_lexer": "ipython3",
   "version": "3.8.18"
  }
 },
 "nbformat": 4,
 "nbformat_minor": 5
}
