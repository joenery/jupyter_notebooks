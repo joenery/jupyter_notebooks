{
 "cells": [
  {
   "cell_type": "code",
   "execution_count": 1,
   "id": "5168ade3-e165-4dd2-ad68-f4bfa6ddc018",
   "metadata": {},
   "outputs": [],
   "source": [
    "import os\n",
    "import gale_archives as gale\n",
    "import gale_trello as gt\n",
    "\n",
    "db_path = 'archives.db'\n",
    "BOARD_ID = os.environ.get(\"TBOARDID_SEQ_PIPELINE\")\n",
    "board_id = BOARD_ID"
   ]
  },
  {
   "cell_type": "code",
   "execution_count": 2,
   "id": "48ff8067-ef87-4c89-9ea1-5a09fd1e6637",
   "metadata": {},
   "outputs": [],
   "source": [
    "API_KEY = os.environ.get(\"TKEY\")\n",
    "TOKEN = os.environ.get(\"TTOKEN\")\n",
    "api_key = API_KEY\n",
    "api_token = TOKEN\n",
    "LIST_ID = \"64012c1810c953983e3dac09\"\n",
    "list_id = LIST_ID"
   ]
  },
  {
   "cell_type": "code",
   "execution_count": 3,
   "id": "dcc2c09f-b2de-44fd-82e2-35fcb216728b",
   "metadata": {},
   "outputs": [],
   "source": [
    "archive_criteria = {'aws': 'in progress'}\n",
    "#paths = gale.get_paths_by_archive_status_and_regex(db_path, archive_criteria)\n",
    "filter = 'ceph'\n",
    "paths = gale.get_paths_by_archive_status_and_regex(db_path, archive_criteria, filter)"
   ]
  },
  {
   "cell_type": "code",
   "execution_count": 4,
   "id": "91bec190-4d04-4baa-93ff-22d725a8f06b",
   "metadata": {},
   "outputs": [
    {
     "name": "stdout",
     "output_type": "stream",
     "text": [
      "These paths are in progress\n",
      "/ceph/cephatlas/merscope_data/processed/202404051103_P0-MOUSE-BRAIN-B2-2_VMSC12802/202404051103_P0-MOUSE-BRAIN-B2-2_VMSC12802.raw.tar.gz\n",
      "/ceph/cephatlas/merscope_data/processed/202404051103_P0-MOUSE-BRAIN-B2-2_VMSC12802/202404051103_P0-MOUSE-BRAIN-B2-2_VMSC12802.out.tar.gz\n",
      "/ceph/cephatlas/merscope_data/processed/202404051055_P0-MOUSE-EYE-E1_VMSC13502/202404051055_P0-MOUSE-EYE-E1_VMSC13502.raw.tar.gz\n",
      "/ceph/cephatlas/merscope_data/processed/202404051055_P0-MOUSE-EYE-E1_VMSC13502/202404051055_P0-MOUSE-EYE-E1_VMSC13502.out.tar.gz\n"
     ]
    }
   ],
   "source": [
    "print(f\"These paths are {archive_criteria['aws']}\")\n",
    "for path_entry in paths:\n",
    "    print(path_entry)"
   ]
  },
  {
   "cell_type": "code",
   "execution_count": 5,
   "id": "1165a5ab-ea18-402e-9eb1-c3134fa998a4",
   "metadata": {},
   "outputs": [
    {
     "name": "stdout",
     "output_type": "stream",
     "text": [
      "Checking in progress ceph\n",
      "AWS upload is in progress for /ceph/cephatlas/merscope_data/processed/202404051103_P0-MOUSE-BRAIN-B2-2_VMSC12802/202404051103_P0-MOUSE-BRAIN-B2-2_VMSC12802.raw.tar.gz\n",
      "AWS upload is in progress for /ceph/cephatlas/merscope_data/processed/202404051103_P0-MOUSE-BRAIN-B2-2_VMSC12802/202404051103_P0-MOUSE-BRAIN-B2-2_VMSC12802.out.tar.gz\n",
      "AWS upload is in progress for /ceph/cephatlas/merscope_data/processed/202404051055_P0-MOUSE-EYE-E1_VMSC13502/202404051055_P0-MOUSE-EYE-E1_VMSC13502.raw.tar.gz\n",
      "AWS upload is in progress for /ceph/cephatlas/merscope_data/processed/202404051055_P0-MOUSE-EYE-E1_VMSC13502/202404051055_P0-MOUSE-EYE-E1_VMSC13502.out.tar.gz\n",
      "End\n"
     ]
    }
   ],
   "source": [
    "print(f\"Checking {archive_criteria['aws']} {filter}\")\n",
    "for path in paths:\n",
    "    card_name = path\n",
    "    card_id = gt.get_card_id(card_name, board_id)\n",
    "    #print(f\"Getting comments for {card_name} {card_id}\")\n",
    "    comments = gt.get_trello_card_comments(card_id, api_key, api_token)\n",
    "    #print(f\"Checking Trello if AWS is complete for {card_name}...\")\n",
    "    is_uploaded = gt.extract_upload_comments(comments)\n",
    "    if is_uploaded:\n",
    "        #print(f\"AWS upload complete for {card_name}\")\n",
    "        archive_type = 'aws'\n",
    "        status = 'complete'\n",
    "        #print(f\"Updating status in db to {status}.\")\n",
    "        gale.set_path_status(db_path, path, archive_type, status)\n",
    "        \n",
    "    else:\n",
    "        print(f\"AWS upload is {archive_criteria['aws']} for {card_name}\")\n",
    "print(\"End\")"
   ]
  },
  {
   "cell_type": "code",
   "execution_count": null,
   "id": "3e6c8916-848f-4a11-85f6-d999d49fb9ca",
   "metadata": {},
   "outputs": [],
   "source": []
  },
  {
   "cell_type": "code",
   "execution_count": null,
   "id": "50b86cfc-875a-44e1-9562-c9b539ccfee6",
   "metadata": {},
   "outputs": [],
   "source": []
  }
 ],
 "metadata": {
  "kernelspec": {
   "display_name": "Python 3 (ipykernel)",
   "language": "python",
   "name": "python3"
  },
  "language_info": {
   "codemirror_mode": {
    "name": "ipython",
    "version": 3
   },
   "file_extension": ".py",
   "mimetype": "text/x-python",
   "name": "python",
   "nbconvert_exporter": "python",
   "pygments_lexer": "ipython3",
   "version": "3.8.18"
  }
 },
 "nbformat": 4,
 "nbformat_minor": 5
}
