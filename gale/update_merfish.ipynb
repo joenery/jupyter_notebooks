{
 "cells": [
  {
   "cell_type": "code",
   "execution_count": 1,
   "id": "69063978-f44c-4b38-9e59-c31e5fc3f6dc",
   "metadata": {},
   "outputs": [],
   "source": [
    "import gale_archives as gale\n",
    "directory_path = '/ceph/cephatlas/merscope_data/uploading/backup/aws'\n",
    "pattern = 'TODO'\n",
    "paths = gale.get_paths_from_files_with_regex(directory_path, pattern)"
   ]
  },
  {
   "cell_type": "code",
   "execution_count": 2,
   "id": "f8d5b863-2cfe-4895-a168-11e7bb7775c5",
   "metadata": {},
   "outputs": [
    {
     "name": "stdout",
     "output_type": "stream",
     "text": [
      "Processing: /ceph/cephatlas/merscope_data/processed/202402201045_D36E-6hpi-rep1_VMSC13502/202402201045_D36E-6hpi-rep1_VMSC13502.raw.tar.gz, Type: file, Archive Status: complete\n",
      "Processing: /ceph/cephatlas/merscope_data/processed/202402201045_D36E-6hpi-rep1_VMSC13502/202402201045_D36E-6hpi-rep1_VMSC13502.out.tar.gz, Type: file, Archive Status: complete\n",
      "Processing: /ceph/cephatlas/merscope_data/processed/202403081113_uwa-7648-cx41-v1c-e-5_VMSC13502/202403081113_uwa-7648-cx41-v1c-e-5_VMSC13502.raw.tar.gz, Type: file, Archive Status: complete\n",
      "Processing: /ceph/cephatlas/merscope_data/processed/202403081113_uwa-7648-cx41-v1c-e-5_VMSC13502/202403081113_uwa-7648-cx41-v1c-e-5_VMSC13502.out.tar.gz, Type: file, Archive Status: complete\n",
      "Processing: /ceph/cephatlas/merscope_data/processed/202310201411_P28-mouse-brain-B4-1_VMSC12802/202310201411_P28-mouse-brain-B4-1_VMSC12802.raw.tar.gz, Type: file, Archive Status: complete\n",
      "Processing: /ceph/cephatlas/merscope_data/processed/202310201411_P28-mouse-brain-B4-1_VMSC12802/202310201411_P28-mouse-brain-B4-1_VMSC12802.out.tar.gz, Type: file, Archive Status: complete\n",
      "Processing: /ceph/cephatlas/merscope_data/processed/202312011100_aging-mouse-brain-9mo-repeat_VMSC01101/202312011100_aging-mouse-brain-9mo-repeat_VMSC01101.raw.tar.gz, Type: file, Archive Status: complete\n",
      "Processing: /ceph/cephatlas/merscope_data/processed/202312011100_aging-mouse-brain-9mo-repeat_VMSC01101/202312011100_aging-mouse-brain-9mo-repeat_VMSC01101.out.tar.gz, Type: file, Archive Status: complete\n",
      "Processing: /ceph/cephatlas/merscope_data/processed/202403081115_UWA-7648-CX10-A46-E-05_VMSC12802/202403081115_UWA-7648-CX10-A46-E-05_VMSC12802.raw.tar.gz, Type: file, Archive Status: complete\n",
      "Processing: /ceph/cephatlas/merscope_data/processed/202403081115_UWA-7648-CX10-A46-E-05_VMSC12802/202403081115_UWA-7648-CX10-A46-E-05_VMSC12802.out.tar.gz, Type: file, Archive Status: complete\n",
      "Processing: /ceph/cephatlas/merscope_data/processed/202402021110_uwa-7648-cx22-pu-1_VMSC13502/202402021110_uwa-7648-cx22-pu-1_VMSC13502.raw.tar.gz, Type: file, Archive Status: complete\n",
      "Processing: /ceph/cephatlas/merscope_data/processed/202402021110_uwa-7648-cx22-pu-1_VMSC13502/202402021110_uwa-7648-cx22-pu-1_VMSC13502.out.tar.gz, Type: file, Archive Status: complete\n",
      "Processing: /ceph/cephatlas/merscope_data/processed/202403081321_UWA-7648-CX24-M1C-E-05_VMSC01101/202403081321_UWA-7648-CX24-M1C-E-05_VMSC01101.raw.tar.gz, Type: file, Archive Status: complete\n",
      "Processing: /ceph/cephatlas/merscope_data/processed/202403081321_UWA-7648-CX24-M1C-E-05_VMSC01101/202403081321_UWA-7648-CX24-M1C-E-05_VMSC01101.out.tar.gz, Type: file, Archive Status: complete\n",
      "Processing: /ceph/cephatlas/merscope_data/processed/202402231138_uwa-7648-cx21-ec-1_VMSC13502/202402231138_uwa-7648-cx21-ec-1_VMSC13502.raw.tar.gz, Type: file, Archive Status: complete\n",
      "Processing: /ceph/cephatlas/merscope_data/processed/202402231138_uwa-7648-cx21-ec-1_VMSC13502/202402231138_uwa-7648-cx21-ec-1_VMSC13502.out.tar.gz, Type: file, Archive Status: complete\n",
      "Processing: /ceph/cephatlas/merscope_data/processed/202402161402_UWA-7648-CX26-EC_VMSC13502/202402161402_UWA-7648-CX26-EC_VMSC13502.raw.tar.gz, Type: file, Archive Status: complete\n",
      "Processing: /ceph/cephatlas/merscope_data/processed/202402161402_UWA-7648-CX26-EC_VMSC13502/202402161402_UWA-7648-CX26-EC_VMSC13502.out.tar.gz, Type: file, Archive Status: complete\n",
      "Processing: /ceph/cephatlas/merscope_data/processed/202312081051_P7-mouse-brain-B2-1_VMSC12802/202312081051_P7-mouse-brain-B2-1_VMSC12802.raw.tar.gz, Type: file, Archive Status: complete\n",
      "Processing: /ceph/cephatlas/merscope_data/processed/202312081051_P7-mouse-brain-B2-1_VMSC12802/202312081051_P7-mouse-brain-B2-1_VMSC12802.out.tar.gz, Type: file, Archive Status: complete\n",
      "Processing: /ceph/cephatlas/merscope_data/processed/202402021239_P7-mouse-eye-E2-1_VMSC01101/202402021239_P7-mouse-eye-E2-1_VMSC01101.raw.tar.gz, Type: file, Archive Status: complete\n",
      "Processing: /ceph/cephatlas/merscope_data/processed/202402021239_P7-mouse-eye-E2-1_VMSC01101/202402021239_P7-mouse-eye-E2-1_VMSC01101.out.tar.gz, Type: file, Archive Status: complete\n",
      "Processing: /ceph/cephatlas/merscope_data/processed/202403291248_UWA-7648-CX07-A9-E-03_VMSC13502/202403291248_UWA-7648-CX07-A9-E-03_VMSC13502.raw.tar.gz, Type: file, Archive Status: complete\n",
      "Processing: /ceph/cephatlas/merscope_data/processed/202403291248_UWA-7648-CX07-A9-E-03_VMSC13502/202403291248_UWA-7648-CX07-A9-E-03_VMSC13502.out.tar.gz, Type: file, Archive Status: complete\n",
      "Processing: /ceph/cephatlas/merscope_data/processed/202403111108_UWA-7648-CX31-PPHC-E-03_VMSC13502/202403111108_UWA-7648-CX31-PPHC-E-03_VMSC13502.raw.tar.gz, Type: file, Archive Status: complete\n",
      "Processing: /ceph/cephatlas/merscope_data/processed/202403111108_UWA-7648-CX31-PPHC-E-03_VMSC13502/202403111108_UWA-7648-CX31-PPHC-E-03_VMSC13502.out.tar.gz, Type: file, Archive Status: complete\n",
      "Processing: /ceph/cephatlas/merscope_data/processed/202312011316_P14-mouse-brain-B1-2_VMSC12802/202312011316_P14-mouse-brain-B1-2_VMSC12802.raw.tar.gz, Type: file, Archive Status: complete\n",
      "Processing: /ceph/cephatlas/merscope_data/processed/202312011316_P14-mouse-brain-B1-2_VMSC12802/202312011316_P14-mouse-brain-B1-2_VMSC12802.out.tar.gz, Type: file, Archive Status: complete\n",
      "Processing: /ceph/cephatlas/merscope_data/processed/202312151054_P14-mouse-brain-B3-3_VMSC13502/202312151054_P14-mouse-brain-B3-3_VMSC13502.raw.tar.gz, Type: file, Archive Status: complete\n",
      "Processing: /ceph/cephatlas/merscope_data/processed/202312151054_P14-mouse-brain-B3-3_VMSC13502/202312151054_P14-mouse-brain-B3-3_VMSC13502.out.tar.gz, Type: file, Archive Status: complete\n",
      "Processing: /ceph/cephatlas/merscope_data/processed/202403291155_UWA-7648-CX04-A10M-E-03_VMSC12802/202403291155_UWA-7648-CX04-A10M-E-03_VMSC12802.raw.tar.gz, Type: file, Archive Status: complete\n",
      "Processing: /ceph/cephatlas/merscope_data/processed/202403291155_UWA-7648-CX04-A10M-E-03_VMSC12802/202403291155_UWA-7648-CX04-A10M-E-03_VMSC12802.out.tar.gz, Type: file, Archive Status: complete\n",
      "Processing: /ceph/cephatlas/merscope_data/processed/202403291147_UWA-7648-CX22-PU-E-05-R1_VMSC01101/202403291147_UWA-7648-CX22-PU-E-05-R1_VMSC01101.raw.tar.gz, Type: file, Archive Status: complete\n",
      "Processing: /ceph/cephatlas/merscope_data/processed/202403291147_UWA-7648-CX22-PU-E-05-R1_VMSC01101/202403291147_UWA-7648-CX22-PU-E-05-R1_VMSC01101.out.tar.gz, Type: file, Archive Status: complete\n",
      "Processing: /ceph/cephatlas/merscope_data/processed/202402091202_UWA-7648-CX20-CaB_VMSC01101/202402091202_UWA-7648-CX20-CaB_VMSC01101.raw.tar.gz, Type: file, Archive Status: complete\n",
      "Processing: /ceph/cephatlas/merscope_data/processed/202402091202_UWA-7648-CX20-CaB_VMSC01101/202402091202_UWA-7648-CX20-CaB_VMSC01101.out.tar.gz, Type: file, Archive Status: complete\n",
      "Processing: /ceph/cephatlas/merscope_data/processed/202403011248_P14-Mouse-Eye-E3_VMSC01101/202403011248_P14-Mouse-Eye-E3_VMSC01101.raw.tar.gz, Type: file, Archive Status: complete\n",
      "Processing: /ceph/cephatlas/merscope_data/processed/202403011248_P14-Mouse-Eye-E3_VMSC01101/202403011248_P14-Mouse-Eye-E3_VMSC01101.out.tar.gz, Type: file, Archive Status: complete\n",
      "Processing: /ceph/cephatlas/merscope_data/processed/202402161351_UWA-7648-CX17-CaH_VMSC12802/202402161351_UWA-7648-CX17-CaH_VMSC12802.raw.tar.gz, Type: file, Archive Status: complete\n",
      "Processing: /ceph/cephatlas/merscope_data/processed/202402161351_UWA-7648-CX17-CaH_VMSC12802/202402161351_UWA-7648-CX17-CaH_VMSC12802.out.tar.gz, Type: file, Archive Status: complete\n",
      "Processing: /ceph/cephatlas/merscope_data/processed/202312081345_P7-mouse-brain-B1-3_VMSC13502/202312081345_P7-mouse-brain-B1-3_VMSC13502.raw.tar.gz, Type: file, Archive Status: complete\n",
      "Processing: /ceph/cephatlas/merscope_data/processed/202312081345_P7-mouse-brain-B1-3_VMSC13502/202312081345_P7-mouse-brain-B1-3_VMSC13502.out.tar.gz, Type: file, Archive Status: complete\n",
      "Processing: /ceph/cephatlas/merscope_data/processed/202310271141_P28-mouse-eye-E2-1_VMSC12802/202310271141_P28-mouse-eye-E2-1_VMSC12802.raw.tar.gz, Type: file, Archive Status: complete\n",
      "Processing: /ceph/cephatlas/merscope_data/processed/202310271141_P28-mouse-eye-E2-1_VMSC12802/202310271141_P28-mouse-eye-E2-1_VMSC12802.out.tar.gz, Type: file, Archive Status: complete\n",
      "Processing: /ceph/cephatlas/merscope_data/processed/202404051103_P0-MOUSE-BRAIN-B2-2_VMSC12802/202404051103_P0-MOUSE-BRAIN-B2-2_VMSC12802.raw.tar.gz, Type: file, Archive Status: pending\n",
      "Processing: /ceph/cephatlas/merscope_data/processed/202404051103_P0-MOUSE-BRAIN-B2-2_VMSC12802/202404051103_P0-MOUSE-BRAIN-B2-2_VMSC12802.out.tar.gz, Type: file, Archive Status: pending\n",
      "Processing: /ceph/cephatlas/merscope_data/processed/202402021109_uwa-7648-cx17-cah-5_VMSC12802/202402021109_uwa-7648-cx17-cah-5_VMSC12802.raw.tar.gz, Type: file, Archive Status: complete\n",
      "Processing: /ceph/cephatlas/merscope_data/processed/202402021109_uwa-7648-cx17-cah-5_VMSC12802/202402021109_uwa-7648-cx17-cah-5_VMSC12802.out.tar.gz, Type: file, Archive Status: complete\n",
      "Processing: /ceph/cephatlas/merscope_data/processed/202402161059_UWA-7648-CX20-CaB_VMSC01101/202402161059_UWA-7648-CX20-CaB_VMSC01101.raw.tar.gz, Type: file, Archive Status: complete\n",
      "Processing: /ceph/cephatlas/merscope_data/processed/202402161059_UWA-7648-CX20-CaB_VMSC01101/202402161059_UWA-7648-CX20-CaB_VMSC01101.out.tar.gz, Type: file, Archive Status: complete\n",
      "Processing: /ceph/cephatlas/merscope_data/processed/202404051055_P0-MOUSE-EYE-E1_VMSC13502/202404051055_P0-MOUSE-EYE-E1_VMSC13502.raw.tar.gz, Type: file, Archive Status: pending\n",
      "Processing: /ceph/cephatlas/merscope_data/processed/202404051055_P0-MOUSE-EYE-E1_VMSC13502/202404051055_P0-MOUSE-EYE-E1_VMSC13502.out.tar.gz, Type: file, Archive Status: pending\n",
      "Processing: /ceph/cephatlas/merscope_data/processed/202402231147_UWA-7648-CX23-THM-01_VMSC12802/202402231147_UWA-7648-CX23-THM-01_VMSC12802.raw.tar.gz, Type: file, Archive Status: complete\n",
      "Processing: /ceph/cephatlas/merscope_data/processed/202402231147_UWA-7648-CX23-THM-01_VMSC12802/202402231147_UWA-7648-CX23-THM-01_VMSC12802.out.tar.gz, Type: file, Archive Status: complete\n",
      "Completed updating archive details for provided paths with archive type 'aws'.\n"
     ]
    }
   ],
   "source": [
    "db_path = 'archives.db'\n",
    "archive_type = 'aws'\n",
    "gale.update_archive_details_from_list(db_path, paths, archive_type)"
   ]
  }
 ],
 "metadata": {
  "kernelspec": {
   "display_name": "Python 3 (ipykernel)",
   "language": "python",
   "name": "python3"
  },
  "language_info": {
   "codemirror_mode": {
    "name": "ipython",
    "version": 3
   },
   "file_extension": ".py",
   "mimetype": "text/x-python",
   "name": "python",
   "nbconvert_exporter": "python",
   "pygments_lexer": "ipython3",
   "version": "3.8.18"
  }
 },
 "nbformat": 4,
 "nbformat_minor": 5
}
