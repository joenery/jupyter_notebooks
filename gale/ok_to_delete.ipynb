{
 "cells": [
  {
   "cell_type": "code",
   "execution_count": 3,
   "id": "ac6dc10e-0ef2-4f3e-a1a5-2997e18d16c5",
   "metadata": {},
   "outputs": [
    {
     "data": {
      "text/plain": [
       "['/gale/raidix/rdx-1/illumina_runs/190219_A00280_0040_BHHWHTDSXX_190228110431']"
      ]
     },
     "execution_count": 3,
     "metadata": {},
     "output_type": "execute_result"
    }
   ],
   "source": [
    "import gale_archives as gale\n",
    "db_path = 'archives.db'\n",
    "gale.get_complete_non_removed_paths(db_path)"
   ]
  },
  {
   "cell_type": "code",
   "execution_count": null,
   "id": "25a772bc-22aa-40fe-b216-5595e99edc2c",
   "metadata": {},
   "outputs": [],
   "source": []
  }
 ],
 "metadata": {
  "kernelspec": {
   "display_name": "Python 3 (ipykernel)",
   "language": "python",
   "name": "python3"
  },
  "language_info": {
   "codemirror_mode": {
    "name": "ipython",
    "version": 3
   },
   "file_extension": ".py",
   "mimetype": "text/x-python",
   "name": "python",
   "nbconvert_exporter": "python",
   "pygments_lexer": "ipython3",
   "version": "3.8.18"
  }
 },
 "nbformat": 4,
 "nbformat_minor": 5
}
