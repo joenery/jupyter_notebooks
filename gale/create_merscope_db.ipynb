{
 "cells": [
  {
   "cell_type": "code",
   "execution_count": 2,
   "id": "e9516d91-b96a-49d0-a73c-d52fc7af9122",
   "metadata": {},
   "outputs": [],
   "source": [
    "import merscope_db as msd\n",
    "msd.create_database_with_text_ids('merscope.db')"
   ]
  },
  {
   "cell_type": "code",
   "execution_count": null,
   "id": "2a5028e8-c128-4379-9560-2a15edae058c",
   "metadata": {},
   "outputs": [],
   "source": []
  }
 ],
 "metadata": {
  "kernelspec": {
   "display_name": "Python 3 (ipykernel)",
   "language": "python",
   "name": "python3"
  },
  "language_info": {
   "codemirror_mode": {
    "name": "ipython",
    "version": 3
   },
   "file_extension": ".py",
   "mimetype": "text/x-python",
   "name": "python",
   "nbconvert_exporter": "python",
   "pygments_lexer": "ipython3",
   "version": "3.8.18"
  }
 },
 "nbformat": 4,
 "nbformat_minor": 5
}
