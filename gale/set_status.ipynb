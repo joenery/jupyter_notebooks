{
 "cells": [
  {
   "cell_type": "code",
   "execution_count": 5,
   "id": "d9a11306-7699-4104-a706-bd37e05cdaa6",
   "metadata": {},
   "outputs": [],
   "source": [
    "import gale_archives as gale\n",
    "db_path = 'archives.db'\n",
    "archive_type = 'aws'  # Specify the archive type ('aws', 'dsmc', etc.)\n",
    "status = 'pending'  # Specify the status ('complete', 'pending', etc.)\n",
    "path = '/gale/raidix/rdx-1/illumina_runs/190227_M00412_0183_000000000-G3KKK_190228120440'"
   ]
  },
  {
   "cell_type": "code",
   "execution_count": 11,
   "id": "ab9f0b76-ed1c-4e69-95b9-372cc6528193",
   "metadata": {},
   "outputs": [
    {
     "name": "stdout",
     "output_type": "stream",
     "text": [
      "{'aws': 'complete'}\n"
     ]
    },
    {
     "data": {
      "text/plain": [
       "['/gale/raidix/rdx-1/illumina_runs/190227_M00412_0183_000000000-G3KKK_190228120440']"
      ]
     },
     "execution_count": 11,
     "metadata": {},
     "output_type": "execute_result"
    }
   ],
   "source": [
    "archive_criteria = {archive_type: status}\n",
    "print(archive_criteria)\n",
    "gale.get_paths_by_archive_status_and_regex(db_path, archive_criteria, path)"
   ]
  },
  {
   "cell_type": "code",
   "execution_count": 18,
   "id": "4beb9a2a-0b01-493a-9910-efb1fa55b3c9",
   "metadata": {},
   "outputs": [
    {
     "name": "stdout",
     "output_type": "stream",
     "text": [
      "Archive status set to 'pending' for /gale/raidix/rdx-1/illumina_runs/190227_M00412_0183_000000000-G3KKK_190228120440 with archive_type 'aws'.\n"
     ]
    }
   ],
   "source": [
    "status = 'pending'\n",
    "gale.set_path_status(db_path, path, archive_type, status)"
   ]
  },
  {
   "cell_type": "code",
   "execution_count": 19,
   "id": "ba9a1e17-15ec-4767-bbd0-29f23e207fdc",
   "metadata": {},
   "outputs": [
    {
     "name": "stdout",
     "output_type": "stream",
     "text": [
      "{'aws': 'pending'}\n"
     ]
    },
    {
     "data": {
      "text/plain": [
       "['/gale/raidix/rdx-1/illumina_runs/190227_M00412_0183_000000000-G3KKK_190228120440']"
      ]
     },
     "execution_count": 19,
     "metadata": {},
     "output_type": "execute_result"
    }
   ],
   "source": [
    "archive_criteria = {archive_type: status}\n",
    "print(archive_criteria)\n",
    "gale.get_paths_by_archive_status_and_regex(db_path, archive_criteria, path)"
   ]
  },
  {
   "cell_type": "code",
   "execution_count": null,
   "id": "7b6e2dc9-f935-4aed-8296-dc96b41451dc",
   "metadata": {},
   "outputs": [],
   "source": []
  }
 ],
 "metadata": {
  "kernelspec": {
   "display_name": "Python 3 (ipykernel)",
   "language": "python",
   "name": "python3"
  },
  "language_info": {
   "codemirror_mode": {
    "name": "ipython",
    "version": 3
   },
   "file_extension": ".py",
   "mimetype": "text/x-python",
   "name": "python",
   "nbconvert_exporter": "python",
   "pygments_lexer": "ipython3",
   "version": "3.8.18"
  }
 },
 "nbformat": 4,
 "nbformat_minor": 5
}
