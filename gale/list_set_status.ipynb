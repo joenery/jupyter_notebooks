{
 "cells": [
  {
   "cell_type": "code",
   "execution_count": 1,
   "id": "b925155d-8758-4cda-90cb-ef755952332e",
   "metadata": {},
   "outputs": [],
   "source": [
    "import gale_archives as gale\n",
    "db_path = 'archives.db'\n",
    "archive_type = 'aws'  # Specify the archive type ('aws', 'dsmc', etc.)\n",
    "status = 'in progress'  # Specify the status ('complete', 'pending', etc.)"
   ]
  },
  {
   "cell_type": "code",
   "execution_count": 2,
   "id": "361201cc-f464-4f9d-a119-7db11231698b",
   "metadata": {},
   "outputs": [],
   "source": [
    "paths = {'/ceph/cephatlas/merscope_data/processed/202403291248_UWA-7648-CX07-A9-E-03_VMSC13502/202403291248_UWA-7648-CX07-A9-E-03_VMSC13502.raw.tar.gz',\n",
    "'/ceph/cephatlas/merscope_data/processed/202403291248_UWA-7648-CX07-A9-E-03_VMSC13502/202403291248_UWA-7648-CX07-A9-E-03_VMSC13502.out.tar.gz'}"
   ]
  },
  {
   "cell_type": "code",
   "execution_count": 3,
   "id": "abfc735b-b00e-425c-b52f-eac39196d9c9",
   "metadata": {},
   "outputs": [
    {
     "name": "stdout",
     "output_type": "stream",
     "text": [
      "/ceph/cephatlas/merscope_data/processed/202403291248_UWA-7648-CX07-A9-E-03_VMSC13502/202403291248_UWA-7648-CX07-A9-E-03_VMSC13502.raw.tar.gz\n",
      "Archive status set to 'in progress' for /ceph/cephatlas/merscope_data/processed/202403291248_UWA-7648-CX07-A9-E-03_VMSC13502/202403291248_UWA-7648-CX07-A9-E-03_VMSC13502.raw.tar.gz with archive_type 'aws'.\n",
      "/ceph/cephatlas/merscope_data/processed/202403291248_UWA-7648-CX07-A9-E-03_VMSC13502/202403291248_UWA-7648-CX07-A9-E-03_VMSC13502.out.tar.gz\n",
      "Archive status set to 'in progress' for /ceph/cephatlas/merscope_data/processed/202403291248_UWA-7648-CX07-A9-E-03_VMSC13502/202403291248_UWA-7648-CX07-A9-E-03_VMSC13502.out.tar.gz with archive_type 'aws'.\n"
     ]
    }
   ],
   "source": [
    "for path in paths:\n",
    "    print(path)\n",
    "    gale.set_path_status(db_path, path, archive_type, status)"
   ]
  },
  {
   "cell_type": "code",
   "execution_count": null,
   "id": "c1882a11-48fe-4715-9f3d-babb577516cd",
   "metadata": {},
   "outputs": [],
   "source": []
  }
 ],
 "metadata": {
  "kernelspec": {
   "display_name": "Python 3 (ipykernel)",
   "language": "python",
   "name": "python3"
  },
  "language_info": {
   "codemirror_mode": {
    "name": "ipython",
    "version": 3
   },
   "file_extension": ".py",
   "mimetype": "text/x-python",
   "name": "python",
   "nbconvert_exporter": "python",
   "pygments_lexer": "ipython3",
   "version": "3.8.18"
  }
 },
 "nbformat": 4,
 "nbformat_minor": 5
}
