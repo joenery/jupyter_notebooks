{
 "cells": [
  {
   "cell_type": "code",
   "execution_count": 2,
   "id": "34a23fec-2763-428e-a996-9ddaa46ed2df",
   "metadata": {},
   "outputs": [
    {
     "name": "stderr",
     "output_type": "stream",
     "text": [
      "usage: ipykernel_launcher.py [-h] --file_path FILE_PATH\n",
      "ipykernel_launcher.py: error: the following arguments are required: --file_path\n"
     ]
    },
    {
     "ename": "SystemExit",
     "evalue": "2",
     "output_type": "error",
     "traceback": [
      "An exception has occurred, use %tb to see the full traceback.\n",
      "\u001b[0;31mSystemExit\u001b[0m\u001b[0;31m:\u001b[0m 2\n"
     ]
    },
    {
     "name": "stderr",
     "output_type": "stream",
     "text": [
      "/gale/netapp/home/seq/miniconda3/envs/mapping/lib/python3.8/site-packages/IPython/core/interactiveshell.py:3406: UserWarning: To exit: use 'exit', 'quit', or Ctrl-D.\n",
      "  warn(\"To exit: use 'exit', 'quit', or Ctrl-D.\", stacklevel=1)\n"
     ]
    }
   ],
   "source": [
    "#!/usr/bin/env python\n",
    "\n",
    "\"\"\"\n",
    "Demultiplex Stats Plotter\n",
    "\n",
    "This script reads a Demultiplex_Stats.csv file and plots the number of reads for each sample ID.\n",
    "\n",
    "Dependencies:\n",
    "- pandas\n",
    "- matplotlib\n",
    "- argparse\n",
    "- itertools\n",
    "- io\n",
    "\n",
    "Usage:\n",
    "./plot_reads_pf.py --file_path /path/to/Demultiplex_Stats.csv\n",
    "\n",
    "Inputs:\n",
    "- --file_path: Path to the Demultiplex_Stats.csv file.\n",
    "\n",
    "Outputs:\n",
    "- Displays a horizontal bar chart showing the number of reads for each sample ID.\n",
    "- Saves the plot as reads_pf_labeled.png in the script's directory.\n",
    "\n",
    "The script performs the following steps:\n",
    "1. Reads the Demultiplex_Stats.csv file until the line containing \"[Top Unknown Barcodes]\" is reached.\n",
    "2. Creates a pandas DataFrame from the collected data.\n",
    "3. Summarizes the number of reads for each sample ID.\n",
    "4. Excludes the \"Undetermined\" sample from the analysis.\n",
    "5. Sorts the data by the number of reads in descending order.\n",
    "6. Plots a horizontal bar chart displaying the number of reads for each sample ID.\n",
    "7. Annotates the chart with the total number of reads.\n",
    "8. Saves the plot as reads_pf_labeled.png.\n",
    "\n",
    "Note: Ensure that matplotlib is properly configured for your environment, such as running the script in a Jupyter Notebook environment.\n",
    "\n",
    "Author: [Your Name]\n",
    "Date: [Current Date]\n",
    "\"\"\"\n",
    "\n",
    "import argparse\n",
    "import matplotlib.pyplot as plt\n",
    "import pandas as pd\n",
    "from itertools import takewhile\n",
    "from io import StringIO  # Use the standard StringIO module\n",
    "\n",
    "def plot_demultiplex_stats(file_path):\n",
    "    # Convert the takewhile generator into a list to keep the content in memory\n",
    "    with open(file_path, 'r') as file:\n",
    "        lines_before_string = list(takewhile(lambda line: \"[Top Unknown Barcodes]\" not in line, file))\n",
    "\n",
    "    # Create a pandas DataFrame from the collected lines\n",
    "    df = pd.read_csv(StringIO(''.join(lines_before_string)))\n",
    "\n",
    "    # Summing up the \"# Reads\" for each \"SampleID\"\n",
    "    summed_df = df.groupby('SampleID')['# Reads'].sum().reset_index()\n",
    "\n",
    "    # Exclude the row with SampleID \"Undetermined\"\n",
    "    filtered_summed_df = summed_df[summed_df['SampleID'] != 'Undetermined']\n",
    "\n",
    "    # Sort the DataFrame by '# Reads' in descending order\n",
    "    sorted_summed_df = filtered_summed_df.sort_values(by='# Reads', ascending=False)\n",
    "\n",
    "    # Sort the DataFrame by '# Reads' in descending order and reverse the order\n",
    "    # to properly display the bars in descending order\n",
    "    sorted_summed_df = sorted_summed_df[::-1]\n",
    "\n",
    "    # Sum up the \"# Reads\" column to get total_reads\n",
    "    total_reads = sorted_summed_df['# Reads'].sum()\n",
    "\n",
    "    # Print the total_reads\n",
    "    print(\"Total Reads:\", total_reads)\n",
    "\n",
    "    # Create a horizontal bar chart with # Reads on the Y-axis\n",
    "    plt.barh(sorted_summed_df['SampleID'], sorted_summed_df['# Reads'])\n",
    "    plt.xlabel('# Reads')\n",
    "    plt.ylabel('SampleID')\n",
    "    plt.title('# Reads for Each SampleID')\n",
    "\n",
    "    # Format total_reads with commas\n",
    "    total_reads = '{:,}'.format(total_reads)\n",
    "\n",
    "    # Add text annotation for total reads with a box around it\n",
    "    plt.text(-0.3, -0.05, f'Total Reads: {total_reads}', ha='center', va='center', transform=plt.gca().transAxes,\n",
    "             bbox=dict(facecolor='white', edgecolor='black', boxstyle='round,pad=0.5'))\n",
    "\n",
    "    # Save the plot to a file\n",
    "    plt.savefig('reads_pf_labeled.png')\n",
    "\n",
    "    plt.show()\n",
    "\n",
    "if __name__ == \"__main__\":\n",
    "    # Create argument parser\n",
    "    parser = argparse.ArgumentParser(description=\"Demultiplex Stats Plotter\")\n",
    "    parser.add_argument(\"--file_path\", type=str, help=\"Path to Demultiplex_Stats.csv file\", required=True)\n",
    "\n",
    "    # Parse command-line arguments\n",
    "    args = parser.parse_args()\n",
    "\n",
    "    # Call the function with the provided file path\n",
    "    plot_demultiplex_stats(args.file_path)\n"
   ]
  },
  {
   "cell_type": "code",
   "execution_count": 4,
   "id": "9fd3b08f-1c7c-4516-877f-5ca78b29c848",
   "metadata": {},
   "outputs": [
    {
     "name": "stdout",
     "output_type": "stream",
     "text": [
      "Traceback (most recent call last):\n",
      "  File \"plot_reads_pf.ipynb\", line 159, in <module>\n",
      "    \"execution_count\": null,\n",
      "NameError: name 'null' is not defined\n"
     ]
    }
   ],
   "source": [
    "!python plot_reads_pf.ipynb --file /gale/netapp/seq2/illumina_runs/231109_M00412_0744_000000000-DM39L_231110112525154373554/Reports/Demultiplex_Stats.csv"
   ]
  },
  {
   "cell_type": "code",
   "execution_count": null,
   "id": "26983281-2506-4c83-b9fc-fa85f62bb2ad",
   "metadata": {},
   "outputs": [],
   "source": []
  }
 ],
 "metadata": {
  "kernelspec": {
   "display_name": "Python 3 (ipykernel)",
   "language": "python",
   "name": "python3"
  },
  "language_info": {
   "codemirror_mode": {
    "name": "ipython",
    "version": 3
   },
   "file_extension": ".py",
   "mimetype": "text/x-python",
   "name": "python",
   "nbconvert_exporter": "python",
   "pygments_lexer": "ipython3",
   "version": "3.8.18"
  }
 },
 "nbformat": 4,
 "nbformat_minor": 5
}
