{
 "cells": [
  {
   "cell_type": "code",
   "execution_count": 1,
   "id": "2ec6d39c-e9cd-4760-9e18-bcc95e30d26b",
   "metadata": {},
   "outputs": [],
   "source": [
    "def retrieve_config(organism, modality, filename):\n",
    "    with open(filename, 'r') as file:\n",
    "        for line in file:\n",
    "            fields = line.strip().split('\\t')\n",
    "            if len(fields) == 3:\n",
    "                org, mod, config = fields\n",
    "                if org.lower() == organism.lower() and mod.lower() == modality.lower():\n",
    "                    return config\n",
    "    return None\n"
   ]
  },
  {
   "cell_type": "code",
   "execution_count": 2,
   "id": "3e512183-8243-4827-a003-1dd45ff7a831",
   "metadata": {},
   "outputs": [],
   "source": [
    "organism = \"human\"\n",
    "modality = \"snm3C\""
   ]
  },
  {
   "cell_type": "code",
   "execution_count": 3,
   "id": "55fe8409-7aa9-4a31-8bd0-3e7120172185",
   "metadata": {},
   "outputs": [],
   "source": [
    "config = retrieve_config(organism, modality, \"mapping_configs.tsv\")"
   ]
  },
  {
   "cell_type": "code",
   "execution_count": 4,
   "id": "37e9c739-f2ab-443f-8998-58b4faf55267",
   "metadata": {},
   "outputs": [
    {
     "name": "stdout",
     "output_type": "stream",
     "text": [
      "Configuration found: /gale/netapp/home/seq/mapping_config/snm3C-seq-V2.hg38.mapping_config.ini\n"
     ]
    }
   ],
   "source": [
    "if config:\n",
    "    print(\"Configuration found:\", config)\n",
    "else:\n",
    "    print(\"Configuration not found for the given organism and modality.\")\n",
    "    "
   ]
  },
  {
   "cell_type": "code",
   "execution_count": null,
   "id": "5b6c0eb1-a06f-4181-975a-8870c6f98a29",
   "metadata": {},
   "outputs": [],
   "source": []
  }
 ],
 "metadata": {
  "kernelspec": {
   "display_name": "Python 3 (ipykernel)",
   "language": "python",
   "name": "python3"
  },
  "language_info": {
   "codemirror_mode": {
    "name": "ipython",
    "version": 3
   },
   "file_extension": ".py",
   "mimetype": "text/x-python",
   "name": "python",
   "nbconvert_exporter": "python",
   "pygments_lexer": "ipython3",
   "version": "3.8.18"
  }
 },
 "nbformat": 4,
 "nbformat_minor": 5
}
