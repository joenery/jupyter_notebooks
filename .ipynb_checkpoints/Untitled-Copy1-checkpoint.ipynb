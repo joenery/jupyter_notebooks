{
 "cells": [
  {
   "cell_type": "code",
   "execution_count": 1,
   "id": "14b3252b-34b7-43c8-a118-7807e5639a1d",
   "metadata": {},
   "outputs": [],
   "source": [
    "from demux_stats import read_dataframes, calculate_metrics, format_metrics"
   ]
  },
  {
   "cell_type": "code",
   "execution_count": 2,
   "id": "429dc111-4e87-4555-a3c8-04d75cb798ce",
   "metadata": {},
   "outputs": [],
   "source": [
    "metrics_path = '/gale/netapp/seq11/illumina_runs/qc_metrics/'\n",
    "file = 'LP-JGRSPM930720_Broad_QC__SALK011__22HKLJLT3.csv'\n",
    "file_path = f'{metrics_path}/{file}'"
   ]
  },
  {
   "cell_type": "code",
   "execution_count": 3,
   "id": "6d8bd269-80c9-45d4-948f-20056b10a46f",
   "metadata": {},
   "outputs": [],
   "source": [
    "demux_stats, top_unknown_barcodes = read_dataframes(file_path)\n",
    "metrics = calculate_metrics(demux_stats, top_unknown_barcodes)\n",
    "formatted_metrics = format_metrics(metrics)"
   ]
  },
  {
   "cell_type": "code",
   "execution_count": 4,
   "id": "d43bfd90-1e96-4a7e-a414-c54137427666",
   "metadata": {},
   "outputs": [
    {
     "name": "stdout",
     "output_type": "stream",
     "text": [
      "run_yield: 3,810,182,703,782 >= Q30 Bases\n",
      "run_yield_excluding_undetermined: 3,521,283,275,804 >= Q30 Bases\n",
      "total_reads: 12,610,264,095 Reads PF\n",
      "assumed_phiX_reads: 341,597,116 Reads PF\n",
      "percent_phix_assumed: 2.71%\n"
     ]
    }
   ],
   "source": [
    "for key, value in formatted_metrics.items():\n",
    "        print(f\"{key}: {value}\")"
   ]
  },
  {
   "cell_type": "code",
   "execution_count": null,
   "id": "a6b8e2cf-f3a3-4f27-b505-7713956ad0d5",
   "metadata": {},
   "outputs": [],
   "source": []
  }
 ],
 "metadata": {
  "kernelspec": {
   "display_name": "Python 3 (ipykernel)",
   "language": "python",
   "name": "python3"
  },
  "language_info": {
   "codemirror_mode": {
    "name": "ipython",
    "version": 3
   },
   "file_extension": ".py",
   "mimetype": "text/x-python",
   "name": "python",
   "nbconvert_exporter": "python",
   "pygments_lexer": "ipython3",
   "version": "3.8.18"
  }
 },
 "nbformat": 4,
 "nbformat_minor": 5
}
