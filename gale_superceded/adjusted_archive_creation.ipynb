{
 "cells": [
  {
   "cell_type": "code",
   "execution_count": 1,
   "id": "674279a0-487b-4c49-a33a-b96153dd87d9",
   "metadata": {},
   "outputs": [
    {
     "name": "stdout",
     "output_type": "stream",
     "text": [
      "Database and tables created successfully.\n"
     ]
    }
   ],
   "source": [
    "import sqlite3\n",
    "\n",
    "# Specify the path to your SQLite database file\n",
    "db_path = \"adjusted_archive_status.db\"\n",
    "\n",
    "# SQL statements to create the adjusted schema tables\n",
    "create_base_paths_table_sql = \"\"\"\n",
    "CREATE TABLE IF NOT EXISTS BasePaths (\n",
    "    id INTEGER PRIMARY KEY,\n",
    "    gale_base TEXT NOT NULL UNIQUE,\n",
    "    sculpin_base TEXT NOT NULL UNIQUE\n",
    ");\n",
    "\"\"\"\n",
    "\n",
    "create_paths_table_sql = \"\"\"\n",
    "CREATE TABLE IF NOT EXISTS Paths (\n",
    "    id INTEGER PRIMARY KEY,\n",
    "    base_path_id INTEGER NOT NULL,\n",
    "    relative_path TEXT NOT NULL,\n",
    "    FOREIGN KEY (base_path_id) REFERENCES BasePaths(id),\n",
    "    UNIQUE(base_path_id, relative_path)\n",
    ");\n",
    "\"\"\"\n",
    "\n",
    "create_aws_archives_table_sql = \"\"\"\n",
    "CREATE TABLE IF NOT EXISTS AWSArchives (\n",
    "    id INTEGER PRIMARY KEY,\n",
    "    path_id INTEGER NOT NULL,\n",
    "    archive_status TEXT NOT NULL,\n",
    "    last_updated TIMESTAMP DEFAULT CURRENT_TIMESTAMP,\n",
    "    FOREIGN KEY (path_id) REFERENCES Paths(id),\n",
    "    UNIQUE(path_id)\n",
    ");\n",
    "\"\"\"\n",
    "\n",
    "create_dsmc_archives_table_sql = \"\"\"\n",
    "CREATE TABLE IF NOT EXISTS DSMCArchives (\n",
    "    id INTEGER PRIMARY KEY,\n",
    "    path_id INTEGER NOT NULL,\n",
    "    archive_status TEXT NOT NULL,\n",
    "    last_updated TIMESTAMP DEFAULT CURRENT_TIMESTAMP,\n",
    "    FOREIGN KEY (path_id) REFERENCES Paths(id),\n",
    "    UNIQUE(path_id)\n",
    ");\n",
    "\"\"\"\n",
    "\n",
    "# Connect to the SQLite database\n",
    "conn = sqlite3.connect(db_path)\n",
    "\n",
    "# Create a cursor object using the connection\n",
    "cursor = conn.cursor()\n",
    "\n",
    "# Execute the SQL commands to create tables\n",
    "cursor.execute(create_base_paths_table_sql)\n",
    "cursor.execute(create_paths_table_sql)\n",
    "cursor.execute(create_aws_archives_table_sql)\n",
    "cursor.execute(create_dsmc_archives_table_sql)\n",
    "\n",
    "# Commit the changes and close the database connection\n",
    "conn.commit()\n",
    "conn.close()\n",
    "\n",
    "print(\"Database and tables created successfully.\")"
   ]
  },
  {
   "cell_type": "code",
   "execution_count": null,
   "id": "4969a383-fbe6-4998-b05a-2a5116df8f3b",
   "metadata": {},
   "outputs": [],
   "source": []
  }
 ],
 "metadata": {
  "kernelspec": {
   "display_name": "Python 3 (ipykernel)",
   "language": "python",
   "name": "python3"
  },
  "language_info": {
   "codemirror_mode": {
    "name": "ipython",
    "version": 3
   },
   "file_extension": ".py",
   "mimetype": "text/x-python",
   "name": "python",
   "nbconvert_exporter": "python",
   "pygments_lexer": "ipython3",
   "version": "3.8.18"
  }
 },
 "nbformat": 4,
 "nbformat_minor": 5
}
