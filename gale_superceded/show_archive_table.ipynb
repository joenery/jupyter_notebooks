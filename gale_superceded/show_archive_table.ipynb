{
 "cells": [
  {
   "cell_type": "code",
   "execution_count": 1,
   "id": "c23db1a8-5e4b-4fb7-9253-0888417fbc9d",
   "metadata": {},
   "outputs": [],
   "source": [
    "import sqlite3\n",
    "import gale as gale\n",
    "import pandas as pd\n",
    "pd.set_option('display.max_colwidth', None)  # For pandas versions older than 1.0, use -1 instead of None\n",
    "pd.set_option('display.width', 1000)  # Adjust based on your display area"
   ]
  },
  {
   "cell_type": "code",
   "execution_count": 2,
   "id": "2cdc03f7-8239-49ae-b00b-9796815012c5",
   "metadata": {},
   "outputs": [
    {
     "data": {
      "text/plain": [
       "['AWSArchives', 'BasePaths', 'DSMCArchives', 'Paths']"
      ]
     },
     "execution_count": 2,
     "metadata": {},
     "output_type": "execute_result"
    }
   ],
   "source": [
    "db_path = 'adjusted_archive_status.db'\n",
    "gale.list_table_names(db_path)"
   ]
  },
  {
   "cell_type": "code",
   "execution_count": 3,
   "id": "d5f04ddb-4f3b-48bd-b2b6-308588dc7c75",
   "metadata": {},
   "outputs": [
    {
     "name": "stdout",
     "output_type": "stream",
     "text": [
      "                                                                                            full_path archive_status\n",
      "0   /gale/netapp/seq2/gale/raidix/rdx-1/illumina_runs/190206_M00412_0175_000000000-G3F4R_190211140350       Complete\n",
      "1        /gale/netapp/seq2/gale/raidix/rdx-1/illumina_runs/190208_A00280_0038_BH72LFDRXX_190212134237       Complete\n",
      "2   /gale/netapp/seq2/gale/raidix/rdx-1/illumina_runs/190208_M00412_0176_000000000-G3DYT_190214171724       Complete\n",
      "3   /gale/netapp/seq2/gale/raidix/rdx-1/illumina_runs/190214_M00412_0177_000000000-G3F78_190301101038       Complete\n",
      "4   /gale/netapp/seq2/gale/raidix/rdx-1/illumina_runs/190215_M00412_0178_000000000-G3H5G_190218150938       Complete\n",
      "5   /gale/netapp/seq2/gale/raidix/rdx-1/illumina_runs/190215_M00412_0178_000000000-G3H5G_190222100425       Complete\n",
      "6        /gale/netapp/seq2/gale/raidix/rdx-1/illumina_runs/190219_A00280_0040_BHHWHTDSXX_190228110431       Complete\n",
      "7   /gale/netapp/seq2/gale/raidix/rdx-1/illumina_runs/190221_M00412_0180_000000000-G3F3W_190222135359       Complete\n",
      "8   /gale/netapp/seq2/gale/raidix/rdx-1/illumina_runs/190221_M00412_0180_000000000-G3F3W_190224094709       Complete\n",
      "9   /gale/netapp/seq2/gale/raidix/rdx-1/illumina_runs/190227_M00412_0183_000000000-G3KKK_190228114642       Complete\n",
      "10  /gale/netapp/seq2/gale/raidix/rdx-1/illumina_runs/190227_M00412_0183_000000000-G3KKK_190228120440       Complete\n",
      "11  /gale/netapp/seq2/gale/raidix/rdx-1/illumina_runs/190228_M00412_0184_000000000-G3KK2_190301115126       Complete\n",
      "12  /gale/netapp/seq2/gale/raidix/rdx-1/illumina_runs/190301_M00412_0185_000000000-G3L4G_190304093738       Complete\n",
      "13  /gale/netapp/seq2/gale/raidix/rdx-1/illumina_runs/190308_M00412_0187_000000000-G3FND_190309133059       Complete\n",
      "14  /gale/netapp/seq2/gale/raidix/rdx-1/illumina_runs/190308_M00412_0187_000000000-G3FND_190309133132       Complete\n",
      "15  /gale/netapp/seq2/gale/raidix/rdx-1/illumina_runs/190308_M00412_0187_000000000-G3FND_190310212820       Complete\n"
     ]
    }
   ],
   "source": [
    "#archive_table = 'AWSArchives'\n",
    "archive_table = 'DSMCArchives'\n",
    "server_base_path = 'gale_base'\n",
    "gale.print_paths_and_status(db_path, archive_table, server_base_path)"
   ]
  },
  {
   "cell_type": "code",
   "execution_count": null,
   "id": "3f631cef-46c4-4f29-b71e-0b9bbcd094f9",
   "metadata": {},
   "outputs": [],
   "source": []
  }
 ],
 "metadata": {
  "kernelspec": {
   "display_name": "Python 3 (ipykernel)",
   "language": "python",
   "name": "python3"
  },
  "language_info": {
   "codemirror_mode": {
    "name": "ipython",
    "version": 3
   },
   "file_extension": ".py",
   "mimetype": "text/x-python",
   "name": "python",
   "nbconvert_exporter": "python",
   "pygments_lexer": "ipython3",
   "version": "3.8.18"
  }
 },
 "nbformat": 4,
 "nbformat_minor": 5
}
