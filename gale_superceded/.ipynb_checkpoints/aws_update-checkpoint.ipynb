{
 "cells": [
  {
   "cell_type": "code",
   "execution_count": 1,
   "id": "24c0def9-77f7-4363-9c78-ad112bd26958",
   "metadata": {},
   "outputs": [],
   "source": [
    "import os\n",
    "import gale"
   ]
  },
  {
   "cell_type": "code",
   "execution_count": 2,
   "id": "8afbea97-9666-4eeb-a78b-617c594c4b41",
   "metadata": {},
   "outputs": [],
   "source": [
    "key_path = os.getenv('GALEKEY')\n",
    "spreadsheet_id = os.getenv('GALESHEETID')\n",
    "sheet = 'dsmc'\n",
    "columns = '!A:B'\n",
    "#query_range = f'{sheet}{columns}'\n",
    "#path_to_query = '/gale/netapp/seq2/illumina_runs/220228_M00412_0621_000000000-DFJNV_220303094722166857768'"
   ]
  },
  {
   "cell_type": "code",
   "execution_count": 3,
   "id": "08b0d55f-6e2d-4ff5-8a04-1708bd6ffd6d",
   "metadata": {},
   "outputs": [],
   "source": [
    "#print(f\"Querying {path_to_query}:\")\n",
    "#status = gale.query_path(path_to_query, columns, sheet, spreadsheet_id, key_path)\n",
    "#print(status)"
   ]
  },
  {
   "cell_type": "code",
   "execution_count": 4,
   "id": "7c9da2e9-caa1-4f2e-b7ac-4905c56a8827",
   "metadata": {},
   "outputs": [],
   "source": [
    "#status = \"Complete\"\n",
    "#gale.write_path_and_status(path_to_query, status, spreadsheet_id, key_path)"
   ]
  },
  {
   "cell_type": "code",
   "execution_count": 5,
   "id": "d9bbe9e3-9986-4ea6-9284-121ee2a4904d",
   "metadata": {},
   "outputs": [],
   "source": [
    "path = '/gale/netapp/seq2/illumina_runs'\n",
    "log_path = os.getenv('ARCHIVED')"
   ]
  },
  {
   "cell_type": "code",
   "execution_count": null,
   "id": "e771b6c2-01b2-4a3a-af6a-9ed2b125c7de",
   "metadata": {},
   "outputs": [
    {
     "name": "stdout",
     "output_type": "stream",
     "text": [
      "Status for path '/gale/netapp/seq2/illumina_runs/230213_M00412_0712_000000000-DKN76' updated successfully.\n",
      "Status for path '/gale/netapp/seq2/illumina_runs/220122_A00280_0459_AHF53GDSX3' updated successfully.\n",
      "Status for path '/gale/netapp/seq2/illumina_runs/230712_M00412_0730_000000000-DL7MD' updated successfully.\n",
      "Status for path '/gale/netapp/seq2/illumina_runs/230801_M00412_0731_000000000-DL8MB' updated successfully.\n",
      "Status for path '/gale/netapp/seq2/illumina_runs/230804_M00412_0732_000000000-DM37T' updated successfully.\n",
      "Status for path '/gale/netapp/seq2/illumina_runs/230811_M00412_0733_000000000-DM34G' updated successfully.\n",
      "Status for path '/gale/netapp/seq2/illumina_runs/230814_M00412_0734_000000000-DM3RC' updated successfully.\n",
      "Status for path '/gale/netapp/seq2/illumina_runs/230824_M00412_0735_000000000-GG55N' updated successfully.\n",
      "Status for path '/gale/netapp/seq2/illumina_runs/230712_M00412_0730_000000000-DL7MD_230712155550501176987' updated successfully.\n",
      "Status for path '/gale/netapp/seq2/illumina_runs/230828_M00412_0736_000000000-DM34K' updated successfully.\n",
      "Status for path '/gale/netapp/seq2/illumina_runs/230921_M00412_0737_000000000-LBM29' updated successfully.\n",
      "Status for path '/gale/netapp/seq2/illumina_runs/230929_M00412_0740_000000000-DM34R' updated successfully.\n",
      "Status for path '/gale/netapp/seq2/illumina_runs/230925_M00412_0739_000000000-LBM23' updated successfully.\n",
      "Status for path '/gale/netapp/seq2/illumina_runs/231006_M00412_0741_000000000-LB97W' updated successfully.\n",
      "Status for path '/gale/netapp/seq2/illumina_runs/231026_M00412_0742_000000000-GGCK2' updated successfully.\n",
      "Status for path '/gale/netapp/seq2/illumina_runs/231027_M00412_0743_000000000-GGBM4' updated successfully.\n",
      "Status for path '/gale/netapp/seq2/illumina_runs/231109_M00412_0744_000000000-DM39L' updated successfully.\n",
      "Status for path '/gale/netapp/seq2/illumina_runs/231113_M00412_0745_000000000-DM49C' updated successfully.\n",
      "Status for path '/gale/netapp/seq2/illumina_runs/230712_M00412_0730_000000000-DL7MD_230712155506675750924' updated successfully.\n",
      "Status for path '/gale/netapp/seq2/illumina_runs/230801_M00412_0731_000000000-DL8MB_230802144051760081974' updated successfully.\n",
      "Status for path '/gale/netapp/seq2/illumina_runs/230811_M00412_0733_000000000-DM34G_230811141455579683266' updated successfully.\n",
      "Status for path '/gale/netapp/seq2/illumina_runs/230824_M00412_0735_000000000-GG55N_230825101752684651267' updated successfully.\n",
      "Status for path '/gale/netapp/seq2/illumina_runs/230814_M00412_0734_000000000-DM3RC_230815163320105731479' updated successfully.\n",
      "Status for path '/gale/netapp/seq2/illumina_runs/230828_M00412_0736_000000000-DM34K_230828165947248993730' updated successfully.\n",
      "Status for path '/gale/netapp/seq2/illumina_runs/231114_M00412_0746_000000000-DM344' updated successfully.\n",
      "Status for path '/gale/netapp/seq2/illumina_runs/231116_M00412_0747_000000000-DM6K3' updated successfully.\n",
      "Status for path '/gale/netapp/seq2/illumina_runs/231117_M00412_0748_000000000-DM387' updated successfully.\n",
      "Status for path '/gale/netapp/seq2/illumina_runs/231127_M00412_0749_000000000-DMBDT' updated successfully.\n",
      "Status for path '/gale/netapp/seq2/illumina_runs/231128_M00412_0750_000000000-DM354' updated successfully.\n",
      "Status for path '/gale/netapp/seq2/illumina_runs/231130_M00412_0751_000000000-GHV37' updated successfully.\n",
      "Status for path '/gale/netapp/seq2/illumina_runs/231212_M00412_0752_000000000-GHTVM' updated successfully.\n",
      "Status for path '/gale/netapp/seq2/illumina_runs/231213_M00412_0753_000000000-GHWHG' updated successfully.\n",
      "Status for path '/gale/netapp/seq2/illumina_runs/231214_M00412_0754_000000000-GJ5FM' updated successfully.\n",
      "Status for path '/gale/netapp/seq2/illumina_runs/220303_M00412_0622_000000000-DFKJ3' updated successfully.\n",
      "Status for path '/gale/netapp/seq2/illumina_runs/220304_M00412_0623_000000000-DFJ2C' updated successfully.\n",
      "Status for path '/gale/netapp/seq2/illumina_runs/220307_M00412_0624_000000000-DFLJ3' updated successfully.\n",
      "Status for path '/gale/netapp/seq2/illumina_runs/220307_M00412_0625_000000000-DFJ8L' updated successfully.\n",
      "Status for path '/gale/netapp/seq2/illumina_runs/220309_M00412_0626_000000000-DFJ36' updated successfully.\n",
      "Status for path '/gale/netapp/seq2/illumina_runs/220309_M00412_0627_000000000-DFHT2' updated successfully.\n",
      "Status for path '/gale/netapp/seq2/illumina_runs/220311_M00412_0628_000000000-K989P' updated successfully.\n",
      "Status for path '/gale/netapp/seq2/illumina_runs/220315_M00412_0629_000000000-DFNP8' updated successfully.\n",
      "Status for path '/gale/netapp/seq2/illumina_runs/220318_M00412_0630_000000000-DFLKP' updated successfully.\n",
      "Status for path '/gale/netapp/seq2/illumina_runs/220321_M00412_0631_000000000-KBJLY' updated successfully.\n",
      "Status for path '/gale/netapp/seq2/illumina_runs/230824_M00412_0735_000000000-GG55N_230825101746936605384' updated successfully.\n",
      "Status for path '/gale/netapp/seq2/illumina_runs/230828_M00412_0736_000000000-DM34K_230828165911815594120' updated successfully.\n",
      "Status for path '/gale/netapp/seq2/illumina_runs/230828_M00412_0736_000000000-DM34K_230828170015288454069' updated successfully.\n",
      "Status for path '/gale/netapp/seq2/illumina_runs/230921_M00412_0737_000000000-LBM29_230922132054750495868' updated successfully.\n",
      "Status for path '/gale/netapp/seq2/illumina_runs/230921_M00412_0737_000000000-LBM29_230922132215557153144' updated successfully.\n",
      "Status for path '/gale/netapp/seq2/illumina_runs/230921_M00412_0737_000000000-LBM29_230922132137033871861' updated successfully.\n",
      "Status for path '/gale/netapp/seq2/illumina_runs/230925_M00412_0739_000000000-LBM23_230928105425640664117' updated successfully.\n",
      "Status for path '/gale/netapp/seq2/illumina_runs/230925_M00412_0739_000000000-LBM23_230928105704518780301' updated successfully.\n",
      "Status for path '/gale/netapp/seq2/illumina_runs/230925_M00412_0739_000000000-LBM23_230928105950221484334' updated successfully.\n",
      "Status for path '/gale/netapp/seq2/illumina_runs/230929_M00412_0740_000000000-DM34R_231002110342947019140' updated successfully.\n",
      "Status for path '/gale/netapp/seq2/illumina_runs/230929_M00412_0740_000000000-DM34R_231002145217214264579' updated successfully.\n",
      "Status for path '/gale/netapp/seq2/illumina_runs/220322_M00412_0632_000000000-KBGW5' updated successfully.\n",
      "Status for path '/gale/netapp/seq2/illumina_runs/231006_M00412_0741_000000000-LB97W_231009100708163634415' updated successfully.\n",
      "Status for path '/gale/netapp/seq2/illumina_runs/231006_M00412_0741_000000000-LB97W_231009100739919665429' updated successfully.\n",
      "Status for path '/gale/netapp/seq2/illumina_runs/231006_M00412_0741_000000000-LB97W_231009100815577557420' updated successfully.\n",
      "Status for path '/gale/netapp/seq2/illumina_runs/231006_M00412_0741_000000000-LB97W_231009100901188540088' updated successfully.\n",
      "Status for path '/gale/netapp/seq2/illumina_runs/231027_M00412_0743_000000000-GGBM4-231030153150820314376' updated successfully.\n",
      "Status for path '/gale/netapp/seq2/illumina_runs/231027_M00412_0743_000000000-GGBM4-231030153203747945237' updated successfully.\n",
      "Status for path '/gale/netapp/seq2/illumina_runs/231109_M00412_0744_000000000-DM39L_231110112525154373554' updated successfully.\n",
      "Status for path '/gale/netapp/seq2/illumina_runs/231109_M00412_0744_000000000-DM39L_231110112603388316699' updated successfully.\n",
      "Status for path '/gale/netapp/seq2/illumina_runs/231113_M00412_0745_000000000-DM49C_231114101626927704700' updated successfully.\n",
      "Status for path '/gale/netapp/seq2/illumina_runs/231114_M00412_0746_000000000-DM344_231114155758071588830' updated successfully.\n",
      "Status for path '/gale/netapp/seq2/illumina_runs/231114_M00412_0746_000000000-DM344_231114150945397462474' updated successfully.\n",
      "Status for path '/gale/netapp/seq2/illumina_runs/231117_M00412_0748_000000000-DM387_231117135937806202094' updated successfully.\n",
      "Status for path '/gale/netapp/seq2/illumina_runs/231117_M00412_0748_000000000-DM387_231117135941946144586' updated successfully.\n",
      "Status for path '/gale/netapp/seq2/illumina_runs/231127_M00412_0749_000000000-DMBDT_231127154030471184169' updated successfully.\n",
      "Status for path '/gale/netapp/seq2/illumina_runs/231127_M00412_0749_000000000-DMBDT_231127154108482410475' updated successfully.\n",
      "Status for path '/gale/netapp/seq2/illumina_runs/231128_M00412_0750_000000000-DM354_231129104535517651844' updated successfully.\n",
      "Status for path '/gale/netapp/seq2/illumina_runs/231128_M00412_0750_000000000-DM354_231129104552396679295' updated successfully.\n",
      "Status for path '/gale/netapp/seq2/illumina_runs/231130_M00412_0751_000000000-GHV37_231201094113899176509' updated successfully.\n"
     ]
    }
   ],
   "source": [
    "gale.update_archives_in(path, log_path, sheet, spreadsheet_id, key_path)"
   ]
  },
  {
   "cell_type": "code",
   "execution_count": null,
   "id": "4fed1025-6a11-48fb-ab83-3b12321e77c2",
   "metadata": {},
   "outputs": [],
   "source": []
  }
 ],
 "metadata": {
  "kernelspec": {
   "display_name": "Python 3 (ipykernel)",
   "language": "python",
   "name": "python3"
  },
  "language_info": {
   "codemirror_mode": {
    "name": "ipython",
    "version": 3
   },
   "file_extension": ".py",
   "mimetype": "text/x-python",
   "name": "python",
   "nbconvert_exporter": "python",
   "pygments_lexer": "ipython3",
   "version": "3.8.18"
  }
 },
 "nbformat": 4,
 "nbformat_minor": 5
}
