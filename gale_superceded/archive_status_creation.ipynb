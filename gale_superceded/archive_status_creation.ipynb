{
 "cells": [
  {
   "cell_type": "code",
   "execution_count": 1,
   "id": "b37869fe-9aa1-40c7-bc73-37213ce35d52",
   "metadata": {},
   "outputs": [],
   "source": [
    "import sqlite3"
   ]
  },
  {
   "cell_type": "code",
   "execution_count": 2,
   "id": "356c8a38-8fc6-441d-9e85-77dc73f8850a",
   "metadata": {},
   "outputs": [],
   "source": [
    "conn = sqlite3.connect('archive_status.db') #establish connection to database make one if it doesn't exist\n",
    "cursor = conn.cursor()"
   ]
  },
  {
   "cell_type": "code",
   "execution_count": 3,
   "id": "a2cede5e-5f39-4d85-ba5c-2030c62e54d8",
   "metadata": {},
   "outputs": [],
   "source": [
    "# Define SQL statements to create tables\n",
    "create_paths_table_sql = \"\"\"\n",
    "CREATE TABLE Paths (\n",
    "    id INTEGER PRIMARY KEY,\n",
    "    gale_path TEXT NOT NULL UNIQUE,\n",
    "    sculpin_path TEXT NOT NULL UNIQUE\n",
    ");\n",
    "\"\"\"\n",
    "\n",
    "create_aws_archives_table_sql = \"\"\"\n",
    "CREATE TABLE AWSArchives (\n",
    "    id INTEGER PRIMARY KEY,\n",
    "    path_id INTEGER NOT NULL,\n",
    "    archive_status TEXT NOT NULL,\n",
    "    last_updated TIMESTAMP DEFAULT CURRENT_TIMESTAMP,\n",
    "    FOREIGN KEY (path_id) REFERENCES Paths(id)\n",
    ");\n",
    "\"\"\"\n",
    "\n",
    "create_dsmc_archives_table_sql = \"\"\"\n",
    "CREATE TABLE DSMCArchives (\n",
    "    id INTEGER PRIMARY KEY,\n",
    "    path_id INTEGER NOT NULL,\n",
    "    archive_status TEXT NOT NULL,\n",
    "    last_updated TIMESTAMP DEFAULT CURRENT_TIMESTAMP,\n",
    "    FOREIGN KEY (path_id) REFERENCES Paths(id)\n",
    ");\n",
    "\"\"\"\n",
    "\n",
    "create_path_mappings_table_sql = \"\"\"\n",
    "CREATE TABLE PathMappings (\n",
    "    id INTEGER PRIMARY KEY,\n",
    "    gale_path TEXT NOT NULL UNIQUE,\n",
    "    sculpin_path TEXT NOT NULL UNIQUE\n",
    ");\n",
    "\"\"\"\n",
    "\n",
    "# Execute SQL statements\n",
    "cursor.execute(create_paths_table_sql)\n",
    "cursor.execute(create_aws_archives_table_sql)\n",
    "cursor.execute(create_dsmc_archives_table_sql)\n",
    "cursor.execute(create_path_mappings_table_sql)\n",
    "\n",
    "# Commit the changes and close the connection\n",
    "conn.commit()\n",
    "conn.close()\n"
   ]
  },
  {
   "cell_type": "code",
   "execution_count": 4,
   "id": "9740e646-c637-40fc-b573-6b2c1df3aa53",
   "metadata": {},
   "outputs": [],
   "source": [
    "# Connect to the database\n",
    "conn = sqlite3.connect('archive_status.db')\n",
    "cursor = conn.cursor()\n",
    "\n",
    "# SQL statement to drop the PathMappings table\n",
    "drop_table_sql = \"DROP TABLE IF EXISTS PathMappings;\"\n",
    "\n",
    "# Execute the SQL statement\n",
    "cursor.execute(drop_table_sql)\n",
    "\n",
    "# Commit the changes and close the connection\n",
    "conn.commit()\n",
    "conn.close()"
   ]
  },
  {
   "cell_type": "code",
   "execution_count": null,
   "id": "c2bf00e2-3ed0-4a99-90eb-5f5b24ec61d4",
   "metadata": {},
   "outputs": [],
   "source": []
  }
 ],
 "metadata": {
  "kernelspec": {
   "display_name": "Python 3 (ipykernel)",
   "language": "python",
   "name": "python3"
  },
  "language_info": {
   "codemirror_mode": {
    "name": "ipython",
    "version": 3
   },
   "file_extension": ".py",
   "mimetype": "text/x-python",
   "name": "python",
   "nbconvert_exporter": "python",
   "pygments_lexer": "ipython3",
   "version": "3.8.18"
  }
 },
 "nbformat": 4,
 "nbformat_minor": 5
}
