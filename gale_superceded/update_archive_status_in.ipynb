{
 "cells": [
  {
   "cell_type": "code",
   "execution_count": 1,
   "id": "15dfa7c5-b906-4d04-afb9-9bd3eeb89cf0",
   "metadata": {},
   "outputs": [],
   "source": [
    "import gale as gale\n",
    "import os"
   ]
  },
  {
   "cell_type": "code",
   "execution_count": 4,
   "id": "0996b400-cbbf-4cbf-a75b-12f53a57ad46",
   "metadata": {},
   "outputs": [],
   "source": [
    "base_path = \"/gale/raidix/rdx-1/illumina_runs/\"\n",
    "archive_type = 'AWSArchives'\n",
    "#archive_type = 'DSMCArchives'"
   ]
  },
  {
   "cell_type": "code",
   "execution_count": 6,
   "id": "7789fc47-e1a4-4d66-9c94-278e34e1657f",
   "metadata": {},
   "outputs": [
    {
     "name": "stdout",
     "output_type": "stream",
     "text": [
      "Updating AWSArchives\n",
      "Update complete.\n"
     ]
    }
   ],
   "source": [
    "print(f\"Updating {archive_type}...\")\n",
    "db_path = \"adjusted_archive_status.db\"  # Path to your SQLite database\n",
    "gale.update_archive_status_in(base_path, db_path, archive_type)\n",
    "print(\"Update complete.\")"
   ]
  },
  {
   "cell_type": "code",
   "execution_count": null,
   "id": "53199e03-41c2-481d-a909-85ca38015949",
   "metadata": {},
   "outputs": [],
   "source": []
  },
  {
   "cell_type": "code",
   "execution_count": null,
   "id": "c41812d9-0a56-49b1-8be9-7becce5bbd3a",
   "metadata": {},
   "outputs": [],
   "source": []
  },
  {
   "cell_type": "code",
   "execution_count": null,
   "id": "85a13752-3d74-4c57-b020-ecc0856c27e9",
   "metadata": {},
   "outputs": [],
   "source": []
  }
 ],
 "metadata": {
  "kernelspec": {
   "display_name": "Python 3 (ipykernel)",
   "language": "python",
   "name": "python3"
  },
  "language_info": {
   "codemirror_mode": {
    "name": "ipython",
    "version": 3
   },
   "file_extension": ".py",
   "mimetype": "text/x-python",
   "name": "python",
   "nbconvert_exporter": "python",
   "pygments_lexer": "ipython3",
   "version": "3.8.18"
  }
 },
 "nbformat": 4,
 "nbformat_minor": 5
}
