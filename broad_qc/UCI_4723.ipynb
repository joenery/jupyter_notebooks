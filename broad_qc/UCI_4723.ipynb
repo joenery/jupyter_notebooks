{
 "cells": [
  {
   "cell_type": "code",
   "execution_count": 1,
   "id": "14b3252b-34b7-43c8-a118-7807e5639a1d",
   "metadata": {},
   "outputs": [],
   "source": [
    "from broad_qc import read_dataframes, calculate_metrics, format_metrics, plot_reads_vs_sampleID_reversed"
   ]
  },
  {
   "cell_type": "code",
   "execution_count": 2,
   "id": "429dc111-4e87-4555-a3c8-04d75cb798ce",
   "metadata": {},
   "outputs": [],
   "source": [
    "metrics_path = '/gale/netapp/seq11/illumina_runs/240522_LH00296_0030_A222VN2LT4/Analysis/1/Data/Demux'\n",
    "file = 'Demultiplex_Stats.csv'\n",
    "pool_string = \"GAGE\"\n",
    "file_path = f'{metrics_path}/{file}'"
   ]
  },
  {
   "cell_type": "code",
   "execution_count": 3,
   "id": "6d8bd269-80c9-45d4-948f-20056b10a46f",
   "metadata": {
    "scrolled": true
   },
   "outputs": [
    {
     "ename": "ValueError",
     "evalue": "Transition string '[Top Unknown Barcodes]' not found in the file.",
     "output_type": "error",
     "traceback": [
      "\u001b[0;31m---------------------------------------------------------------------------\u001b[0m",
      "\u001b[0;31mValueError\u001b[0m                                Traceback (most recent call last)",
      "Input \u001b[0;32mIn [3]\u001b[0m, in \u001b[0;36m<cell line: 1>\u001b[0;34m()\u001b[0m\n\u001b[0;32m----> 1\u001b[0m demux_stats, top_unknown_barcodes \u001b[38;5;241m=\u001b[39m \u001b[43mread_dataframes\u001b[49m\u001b[43m(\u001b[49m\u001b[43mfile_path\u001b[49m\u001b[43m)\u001b[49m\n\u001b[1;32m      2\u001b[0m metrics \u001b[38;5;241m=\u001b[39m calculate_metrics(demux_stats, top_unknown_barcodes)\n\u001b[1;32m      3\u001b[0m formatted_metrics \u001b[38;5;241m=\u001b[39m format_metrics(metrics)\n",
      "File \u001b[0;32m~/jupyter_notebooks/broad_qc/broad_qc.py:28\u001b[0m, in \u001b[0;36mread_dataframes\u001b[0;34m(file_path)\u001b[0m\n\u001b[1;32m     26\u001b[0m transition_row \u001b[38;5;241m=\u001b[39m find_transition_row(file_path)\n\u001b[1;32m     27\u001b[0m \u001b[38;5;28;01mif\u001b[39;00m transition_row \u001b[38;5;129;01mis\u001b[39;00m \u001b[38;5;28;01mNone\u001b[39;00m:\n\u001b[0;32m---> 28\u001b[0m     \u001b[38;5;28;01mraise\u001b[39;00m \u001b[38;5;167;01mValueError\u001b[39;00m(\u001b[38;5;124m\"\u001b[39m\u001b[38;5;124mTransition string \u001b[39m\u001b[38;5;124m'\u001b[39m\u001b[38;5;124m[Top Unknown Barcodes]\u001b[39m\u001b[38;5;124m'\u001b[39m\u001b[38;5;124m not found in the file.\u001b[39m\u001b[38;5;124m\"\u001b[39m)\n\u001b[1;32m     30\u001b[0m \u001b[38;5;66;03m# Adjust for 0-based indexing in pandas and to skip the header of the second table\u001b[39;00m\n\u001b[1;32m     31\u001b[0m second_table_start \u001b[38;5;241m=\u001b[39m transition_row \u001b[38;5;241m+\u001b[39m \u001b[38;5;241m1\u001b[39m  \u001b[38;5;66;03m# To start reading from the data right after the header\u001b[39;00m\n",
      "\u001b[0;31mValueError\u001b[0m: Transition string '[Top Unknown Barcodes]' not found in the file."
     ]
    }
   ],
   "source": [
    "demux_stats, top_unknown_barcodes = read_dataframes(file_path)\n",
    "metrics = calculate_metrics(demux_stats, top_unknown_barcodes)\n",
    "formatted_metrics = format_metrics(metrics)"
   ]
  },
  {
   "cell_type": "code",
   "execution_count": null,
   "id": "d43bfd90-1e96-4a7e-a414-c54137427666",
   "metadata": {},
   "outputs": [],
   "source": [
    "print(\"@card Broad sequencing QC metrics accepted\")\n",
    "for key, value in formatted_metrics.items():\n",
    "        print(f\"{key}: {value}\")"
   ]
  },
  {
   "cell_type": "code",
   "execution_count": null,
   "id": "a6b8e2cf-f3a3-4f27-b505-7713956ad0d5",
   "metadata": {},
   "outputs": [],
   "source": [
    "plot_reads_vs_sampleID_reversed(demux_stats, metrics_path ,pool_string)"
   ]
  },
  {
   "cell_type": "code",
   "execution_count": null,
   "id": "9c0a0dbe-81a1-41ea-a30e-a0356850e4ae",
   "metadata": {},
   "outputs": [],
   "source": []
  }
 ],
 "metadata": {
  "kernelspec": {
   "display_name": "Python 3 (ipykernel)",
   "language": "python",
   "name": "python3"
  },
  "language_info": {
   "codemirror_mode": {
    "name": "ipython",
    "version": 3
   },
   "file_extension": ".py",
   "mimetype": "text/x-python",
   "name": "python",
   "nbconvert_exporter": "python",
   "pygments_lexer": "ipython3",
   "version": "3.8.18"
  }
 },
 "nbformat": 4,
 "nbformat_minor": 5
}
