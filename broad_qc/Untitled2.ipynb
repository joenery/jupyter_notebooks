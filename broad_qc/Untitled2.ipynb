{
 "cells": [
  {
   "cell_type": "code",
   "execution_count": 2,
   "id": "8f636f59-755b-4e5c-ac72-e44d36b72f33",
   "metadata": {},
   "outputs": [
    {
     "name": "stdout",
     "output_type": "stream",
     "text": [
      "Column 'percent_phix_assumed' added.\n",
      "Database update complete.\n"
     ]
    }
   ],
   "source": [
    "import os\n",
    "import broad_qc as bq\n",
    "\n",
    "# Constants\n",
    "METRICS_DB = '/gale/netapp/seq11/illumina_runs/qc_metrics/broad_metrics.db'\n",
    "bq.add_column_if_not_exists(METRICS_DB)"
   ]
  },
  {
   "cell_type": "code",
   "execution_count": null,
   "id": "8ba8176e-8787-42bb-aada-b102c4beb143",
   "metadata": {},
   "outputs": [],
   "source": []
  }
 ],
 "metadata": {
  "kernelspec": {
   "display_name": "Python 3 (ipykernel)",
   "language": "python",
   "name": "python3"
  },
  "language_info": {
   "codemirror_mode": {
    "name": "ipython",
    "version": 3
   },
   "file_extension": ".py",
   "mimetype": "text/x-python",
   "name": "python",
   "nbconvert_exporter": "python",
   "pygments_lexer": "ipython3",
   "version": "3.8.18"
  }
 },
 "nbformat": 4,
 "nbformat_minor": 5
}
