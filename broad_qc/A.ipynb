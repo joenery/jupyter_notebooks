{
 "cells": [
  {
   "cell_type": "code",
   "execution_count": 1,
   "id": "14b3252b-34b7-43c8-a118-7807e5639a1d",
   "metadata": {},
   "outputs": [],
   "source": [
    "import os\n",
    "import glob\n",
    "\n",
    "from broad_qc import read_dataframes, calculate_metrics, format_metrics, plot_reads_vs_sampleID_reversed"
   ]
  },
  {
   "cell_type": "code",
   "execution_count": 2,
   "id": "429dc111-4e87-4555-a3c8-04d75cb798ce",
   "metadata": {},
   "outputs": [
    {
     "name": "stdout",
     "output_type": "stream",
     "text": [
      "/gale/netapp/seq11/illumina_runs/qc_metrics/LP-JGRSPM930720_Broad_QC__SALK011__22HKLJLT3.csv 12610264095\n",
      "/gale/netapp/seq11/illumina_runs/qc_metrics/LP-AYJGQN518516_Broad_QC__SALK001__22CFN3LT3.csv 11818087476\n",
      "/gale/netapp/seq11/illumina_runs/qc_metrics/LP-IIRITQ996614_Broad_QC__SALK005__22H7TLLT3.csv 13045575023\n",
      "/gale/netapp/seq11/illumina_runs/qc_metrics/LP-CHZGGK625403_Broad_QC__SALK021__22H7G5LT3.csv 12608007769\n",
      "/gale/netapp/seq11/illumina_runs/qc_metrics/LP-EWXWCT197671_Broad_QC__SALK020__22H73GLT3.csv 12867820763\n",
      "/gale/netapp/seq11/illumina_runs/qc_metrics/LP-VWHRUV244543_Broad_QC__SALK019__22H7GJLT3.csv 13170401948\n",
      "/gale/netapp/seq11/illumina_runs/qc_metrics/LP-DGNKFE347128_Broad_QC__SALK018__22H733LT3.csv 12849813835\n",
      "/gale/netapp/seq11/illumina_runs/qc_metrics/LP-BBHEFV556708_Broad_QC__SALK015__22HKJ5LT3.csv 12530462432\n",
      "/gale/netapp/seq11/illumina_runs/qc_metrics/LP-PUSYVP118521_Broad_QC__SALK014__22HKH2LT3.csv 12516180840\n",
      "/gale/netapp/seq11/illumina_runs/qc_metrics/LP-LTOOPE997753_Broad_QC__SALK029__22J3GYLT3.csv 13189536553\n",
      "/gale/netapp/seq11/illumina_runs/qc_metrics/LP-JURYZM373785_Broad_QC__SALK016__22H7GLLT3.csv 13098757729\n",
      "/gale/netapp/seq11/illumina_runs/qc_metrics/LP-QOPJTQ308836_Broad_QC__SALK017__22H7KWLT3.csv 13106185988\n",
      "/gale/netapp/seq11/illumina_runs/qc_metrics/LP-ZZHEJN767464_Broad_QC__SALK022__22H7GHLT3.csv 13459908489\n",
      "/gale/netapp/seq11/illumina_runs/qc_metrics/LP-ASTBTQ103742_Broad_QC__SALK024__22H75LLT3.csv 13180221182\n",
      "/gale/netapp/seq11/illumina_runs/qc_metrics/LP-BTWXVX549059_Broad_QC__SALK030__22HWTNLT3.csv 13316415926\n",
      "/gale/netapp/seq11/illumina_runs/qc_metrics/LP-IDHMJF641967_Broad_QC__SALK031__22J7Y3LT3.csv 12825449851\n",
      "/gale/netapp/seq11/illumina_runs/qc_metrics/LP-NMKJEH567244_Broad_QC__SALK033__22HWWKLT3.csv 12759779420\n",
      "/gale/netapp/seq11/illumina_runs/qc_metrics/LP-ROBCPL938294_Broad_QC__SALK032__22HY35LT3.csv 12244743483\n",
      "/gale/netapp/seq11/illumina_runs/qc_metrics/LP-FGPHIP784088_Broad_QC__SALK003__22HGCNLT3.csv 13258133901\n",
      "/gale/netapp/seq11/illumina_runs/qc_metrics/LP-WWACZU303125_Broad_QC__SALK004__22HGF2LT3.csv 12587341450\n",
      "/gale/netapp/seq11/illumina_runs/qc_metrics/LP-BDBMJO564071_Broad_QC__SALK036__22JJ7KLT3.csv 12904399064\n",
      "/gale/netapp/seq11/illumina_runs/qc_metrics/LP-FMNNIO201115_Broad_QC__SALK035__22JJC7LT3.csv 13300242408\n",
      "/gale/netapp/seq11/illumina_runs/qc_metrics/LP-KLKSPY850259_Broad_QC__SALK034__22JHFTLT3.csv 12059559361\n",
      "/gale/netapp/seq11/illumina_runs/qc_metrics/LP-FCDWYD289609_Broad_QC__SALK037__22JGLNLT3.csv 13155575996\n",
      "/gale/netapp/seq11/illumina_runs/qc_metrics/LP-NEBYZB977260_Broad_QC__SALK038__22JNTCLT3.csv 12564709114\n",
      "/gale/netapp/seq11/illumina_runs/qc_metrics/LP-WWDACA781604_Broad_QC__SALK039__22JKG3LT3.csv 12287414644\n",
      "/gale/netapp/seq11/illumina_runs/qc_metrics/LP-GTPRMR922439_Broad_QC__SALK041__22JNWFLT3.csv 12795703361\n",
      "/gale/netapp/seq11/illumina_runs/qc_metrics/LP-SNTWTZ592057_Broad_QC__SALK040__22JNLCLT3.csv 12585212266\n",
      "/gale/netapp/seq11/illumina_runs/qc_metrics/LP-IIROVQ570316_Broad_QC__SALK042__22JTYTLT3.csv 12142110608\n",
      "/gale/netapp/seq11/illumina_runs/qc_metrics/LP-WEHEHI691206_Broad_QC__SALK043__22JTYVLT3.csv 12950032339\n",
      "/gale/netapp/seq11/illumina_runs/qc_metrics/LP-KJBBON243814_Broad_QC__SALK047__22JMCTLT3.csv 12723227747\n",
      "/gale/netapp/seq11/illumina_runs/qc_metrics/LP-SPNWTA901275_Broad_QC__SALK046__22JMFCLT3.csv 12844807627\n",
      "/gale/netapp/seq11/illumina_runs/qc_metrics/LP-OLPLLI858502_Broad_QC__SALK045__22JMGHLT3.csv 13141098707\n",
      "/gale/netapp/seq11/illumina_runs/qc_metrics/LP-HHDEZX789853_Broad_QC__SALK044__22JMCVLT3.csv 13055918424\n",
      "/gale/netapp/seq11/illumina_runs/qc_metrics/LP-FCBEZA398678_Broad_QC__SALK049__22JMG7LT3.csv 13182385438\n",
      "/gale/netapp/seq11/illumina_runs/qc_metrics/LP-TSONPJ471928_Broad_QC__SALK048__22JMFTLT3.csv 13296189651\n",
      "/gale/netapp/seq11/illumina_runs/qc_metrics/LP-DSWURL392844_Broad_QC__SALK055__22JMFJLT3.csv 13155655159\n",
      "/gale/netapp/seq11/illumina_runs/qc_metrics/LP-VZCXBG894525_Broad_QC__SALK053__22JMGJLT3.csv 12863583583\n",
      "/gale/netapp/seq11/illumina_runs/qc_metrics/LP-VNNRLU999561_Broad_QC__SALK051__22JMCWLT3.csv 13168387700\n",
      "/gale/netapp/seq11/illumina_runs/qc_metrics/LP-FMNGFF576521_Broad_QC__SALK050__22JMCGLT3.csv 13282361010\n",
      "/gale/netapp/seq11/illumina_runs/qc_metrics/LP-DKHDJC583416_Broad_QC__SALK002__22F25JLT3.csv 11163000142\n"
     ]
    },
    {
     "ename": "TypeError",
     "evalue": "can only concatenate str (not \"int\") to str",
     "output_type": "error",
     "traceback": [
      "\u001b[0;31m---------------------------------------------------------------------------\u001b[0m",
      "\u001b[0;31mTypeError\u001b[0m                                 Traceback (most recent call last)",
      "Input \u001b[0;32mIn [2]\u001b[0m, in \u001b[0;36m<cell line: 14>\u001b[0;34m()\u001b[0m\n\u001b[1;32m     14\u001b[0m \u001b[38;5;28;01mfor\u001b[39;00m file_path \u001b[38;5;129;01min\u001b[39;00m csv_files:\n\u001b[1;32m     15\u001b[0m     demux_stats, top_unknown_barcodes \u001b[38;5;241m=\u001b[39m read_dataframes(file_path)\n\u001b[0;32m---> 16\u001b[0m     metrics \u001b[38;5;241m=\u001b[39m \u001b[43mcalculate_metrics\u001b[49m\u001b[43m(\u001b[49m\u001b[43mdemux_stats\u001b[49m\u001b[43m,\u001b[49m\u001b[43m \u001b[49m\u001b[43mtop_unknown_barcodes\u001b[49m\u001b[43m)\u001b[49m\n\u001b[1;32m     17\u001b[0m     formatted_metrics \u001b[38;5;241m=\u001b[39m format_metrics(metrics)\n\u001b[1;32m     18\u001b[0m     \u001b[38;5;28mprint\u001b[39m(\u001b[38;5;124mf\u001b[39m\u001b[38;5;124m\"\u001b[39m\u001b[38;5;132;01m{\u001b[39;00mfile_path\u001b[38;5;132;01m}\u001b[39;00m\u001b[38;5;124m \u001b[39m\u001b[38;5;132;01m{\u001b[39;00mmetrics\u001b[38;5;241m.\u001b[39mget(\u001b[38;5;124m'\u001b[39m\u001b[38;5;124mtotal_reads\u001b[39m\u001b[38;5;124m'\u001b[39m)\u001b[38;5;132;01m}\u001b[39;00m\u001b[38;5;124m\"\u001b[39m)\n",
      "File \u001b[0;32m~/jupyter_notebooks/broad_qc/broad_qc.py:57\u001b[0m, in \u001b[0;36mcalculate_metrics\u001b[0;34m(demux_stats, top_unknown_barcodes)\u001b[0m\n\u001b[1;32m     54\u001b[0m     run_yield_excluding_undetermined \u001b[38;5;241m=\u001b[39m \u001b[38;5;28mint\u001b[39m(demux_stats[\u001b[38;5;241m~\u001b[39mdemux_stats[\u001b[38;5;124m\"\u001b[39m\u001b[38;5;124mSampleID\u001b[39m\u001b[38;5;124m\"\u001b[39m]\u001b[38;5;241m.\u001b[39mfillna(\u001b[38;5;124m'\u001b[39m\u001b[38;5;124m'\u001b[39m)\u001b[38;5;241m.\u001b[39mstr\u001b[38;5;241m.\u001b[39mcontains(\u001b[38;5;124m\"\u001b[39m\u001b[38;5;124mUndetermined\u001b[39m\u001b[38;5;124m\"\u001b[39m)][\u001b[38;5;124m\"\u001b[39m\u001b[38;5;124m# Reads\u001b[39m\u001b[38;5;124m\"\u001b[39m]\u001b[38;5;241m.\u001b[39msum())\n\u001b[1;32m     56\u001b[0m \u001b[38;5;66;03m#run_yield_excluding_undetermined = int(demux_stats[~demux_stats[\"SampleID\"].fillna('').str.contains(\"Undetermined\")][\"# of >= Q30 Bases (PF)\"].sum())\u001b[39;00m\n\u001b[0;32m---> 57\u001b[0m total_reads \u001b[38;5;241m=\u001b[39m \u001b[38;5;28mint\u001b[39m(\u001b[43mdemux_stats\u001b[49m\u001b[43m[\u001b[49m\u001b[38;5;124;43m\"\u001b[39;49m\u001b[38;5;124;43m# Reads\u001b[39;49m\u001b[38;5;124;43m\"\u001b[39;49m\u001b[43m]\u001b[49m\u001b[38;5;241;43m.\u001b[39;49m\u001b[43msum\u001b[49m\u001b[43m(\u001b[49m\u001b[43m)\u001b[49m)\n\u001b[1;32m     58\u001b[0m \u001b[38;5;66;03m#phiX_condition1 = (top_unknown_barcodes[\"index\"] == \"TGCCGTGGAT\") & (top_unknown_barcodes[\"index2\"] == \"GATATAGAGT\")\u001b[39;00m\n\u001b[1;32m     59\u001b[0m \u001b[38;5;66;03m#phiX_condition2 = (top_unknown_barcodes[\"index\"] == \"GATATAGAGT\") & (top_unknown_barcodes[\"index2\"] == \"GATATAGAGT\")\u001b[39;00m\n\u001b[1;32m     60\u001b[0m \u001b[38;5;66;03m#assumed_phiX_reads = int(top_unknown_barcodes[phiX_condition1 | phiX_condition2][\"# Reads\"].sum())\u001b[39;00m\n\u001b[1;32m     61\u001b[0m \u001b[38;5;66;03m#percent_phix_assumed = assumed_phiX_reads / total_reads if total_reads != 0 else 0\u001b[39;00m\n\u001b[1;32m     63\u001b[0m \u001b[38;5;28;01mif\u001b[39;00m top_unknown_barcodes \u001b[38;5;129;01mis\u001b[39;00m \u001b[38;5;129;01mnot\u001b[39;00m \u001b[38;5;28;01mNone\u001b[39;00m:\n",
      "File \u001b[0;32m~/miniconda3/envs/mapping/lib/python3.8/site-packages/pandas/core/generic.py:11797\u001b[0m, in \u001b[0;36mNDFrame._add_numeric_operations.<locals>.sum\u001b[0;34m(self, axis, skipna, level, numeric_only, min_count, **kwargs)\u001b[0m\n\u001b[1;32m  11777\u001b[0m \u001b[38;5;129m@doc\u001b[39m(\n\u001b[1;32m  11778\u001b[0m     _num_doc,\n\u001b[1;32m  11779\u001b[0m     desc\u001b[38;5;241m=\u001b[39m\u001b[38;5;124m\"\u001b[39m\u001b[38;5;124mReturn the sum of the values over the requested axis.\u001b[39m\u001b[38;5;130;01m\\n\u001b[39;00m\u001b[38;5;130;01m\\n\u001b[39;00m\u001b[38;5;124m\"\u001b[39m\n\u001b[0;32m   (...)\u001b[0m\n\u001b[1;32m  11795\u001b[0m     \u001b[38;5;241m*\u001b[39m\u001b[38;5;241m*\u001b[39mkwargs,\n\u001b[1;32m  11796\u001b[0m ):\n\u001b[0;32m> 11797\u001b[0m     \u001b[38;5;28;01mreturn\u001b[39;00m \u001b[43mNDFrame\u001b[49m\u001b[38;5;241;43m.\u001b[39;49m\u001b[43msum\u001b[49m\u001b[43m(\u001b[49m\n\u001b[1;32m  11798\u001b[0m \u001b[43m        \u001b[49m\u001b[38;5;28;43mself\u001b[39;49m\u001b[43m,\u001b[49m\u001b[43m \u001b[49m\u001b[43maxis\u001b[49m\u001b[43m,\u001b[49m\u001b[43m \u001b[49m\u001b[43mskipna\u001b[49m\u001b[43m,\u001b[49m\u001b[43m \u001b[49m\u001b[43mlevel\u001b[49m\u001b[43m,\u001b[49m\u001b[43m \u001b[49m\u001b[43mnumeric_only\u001b[49m\u001b[43m,\u001b[49m\u001b[43m \u001b[49m\u001b[43mmin_count\u001b[49m\u001b[43m,\u001b[49m\u001b[43m \u001b[49m\u001b[38;5;241;43m*\u001b[39;49m\u001b[38;5;241;43m*\u001b[39;49m\u001b[43mkwargs\u001b[49m\n\u001b[1;32m  11799\u001b[0m \u001b[43m    \u001b[49m\u001b[43m)\u001b[49m\n",
      "File \u001b[0;32m~/miniconda3/envs/mapping/lib/python3.8/site-packages/pandas/core/generic.py:11501\u001b[0m, in \u001b[0;36mNDFrame.sum\u001b[0;34m(self, axis, skipna, level, numeric_only, min_count, **kwargs)\u001b[0m\n\u001b[1;32m  11492\u001b[0m \u001b[38;5;28;01mdef\u001b[39;00m \u001b[38;5;21msum\u001b[39m(\n\u001b[1;32m  11493\u001b[0m     \u001b[38;5;28mself\u001b[39m,\n\u001b[1;32m  11494\u001b[0m     axis: Axis \u001b[38;5;241m|\u001b[39m \u001b[38;5;28;01mNone\u001b[39;00m \u001b[38;5;241m=\u001b[39m \u001b[38;5;28;01mNone\u001b[39;00m,\n\u001b[0;32m   (...)\u001b[0m\n\u001b[1;32m  11499\u001b[0m     \u001b[38;5;241m*\u001b[39m\u001b[38;5;241m*\u001b[39mkwargs,\n\u001b[1;32m  11500\u001b[0m ):\n\u001b[0;32m> 11501\u001b[0m     \u001b[38;5;28;01mreturn\u001b[39;00m \u001b[38;5;28;43mself\u001b[39;49m\u001b[38;5;241;43m.\u001b[39;49m\u001b[43m_min_count_stat_function\u001b[49m\u001b[43m(\u001b[49m\n\u001b[1;32m  11502\u001b[0m \u001b[43m        \u001b[49m\u001b[38;5;124;43m\"\u001b[39;49m\u001b[38;5;124;43msum\u001b[39;49m\u001b[38;5;124;43m\"\u001b[39;49m\u001b[43m,\u001b[49m\u001b[43m \u001b[49m\u001b[43mnanops\u001b[49m\u001b[38;5;241;43m.\u001b[39;49m\u001b[43mnansum\u001b[49m\u001b[43m,\u001b[49m\u001b[43m \u001b[49m\u001b[43maxis\u001b[49m\u001b[43m,\u001b[49m\u001b[43m \u001b[49m\u001b[43mskipna\u001b[49m\u001b[43m,\u001b[49m\u001b[43m \u001b[49m\u001b[43mlevel\u001b[49m\u001b[43m,\u001b[49m\u001b[43m \u001b[49m\u001b[43mnumeric_only\u001b[49m\u001b[43m,\u001b[49m\u001b[43m \u001b[49m\u001b[43mmin_count\u001b[49m\u001b[43m,\u001b[49m\u001b[43m \u001b[49m\u001b[38;5;241;43m*\u001b[39;49m\u001b[38;5;241;43m*\u001b[39;49m\u001b[43mkwargs\u001b[49m\n\u001b[1;32m  11503\u001b[0m \u001b[43m    \u001b[49m\u001b[43m)\u001b[49m\n",
      "File \u001b[0;32m~/miniconda3/envs/mapping/lib/python3.8/site-packages/pandas/core/generic.py:11483\u001b[0m, in \u001b[0;36mNDFrame._min_count_stat_function\u001b[0;34m(self, name, func, axis, skipna, level, numeric_only, min_count, **kwargs)\u001b[0m\n\u001b[1;32m  11467\u001b[0m     warnings\u001b[38;5;241m.\u001b[39mwarn(\n\u001b[1;32m  11468\u001b[0m         \u001b[38;5;124m\"\u001b[39m\u001b[38;5;124mUsing the level keyword in DataFrame and Series aggregations is \u001b[39m\u001b[38;5;124m\"\u001b[39m\n\u001b[1;32m  11469\u001b[0m         \u001b[38;5;124m\"\u001b[39m\u001b[38;5;124mdeprecated and will be removed in a future version. Use groupby \u001b[39m\u001b[38;5;124m\"\u001b[39m\n\u001b[0;32m   (...)\u001b[0m\n\u001b[1;32m  11472\u001b[0m         stacklevel\u001b[38;5;241m=\u001b[39mfind_stack_level(),\n\u001b[1;32m  11473\u001b[0m     )\n\u001b[1;32m  11474\u001b[0m     \u001b[38;5;28;01mreturn\u001b[39;00m \u001b[38;5;28mself\u001b[39m\u001b[38;5;241m.\u001b[39m_agg_by_level(\n\u001b[1;32m  11475\u001b[0m         name,\n\u001b[1;32m  11476\u001b[0m         axis\u001b[38;5;241m=\u001b[39maxis,\n\u001b[0;32m   (...)\u001b[0m\n\u001b[1;32m  11480\u001b[0m         numeric_only\u001b[38;5;241m=\u001b[39mnumeric_only,\n\u001b[1;32m  11481\u001b[0m     )\n\u001b[0;32m> 11483\u001b[0m \u001b[38;5;28;01mreturn\u001b[39;00m \u001b[38;5;28;43mself\u001b[39;49m\u001b[38;5;241;43m.\u001b[39;49m\u001b[43m_reduce\u001b[49m\u001b[43m(\u001b[49m\n\u001b[1;32m  11484\u001b[0m \u001b[43m    \u001b[49m\u001b[43mfunc\u001b[49m\u001b[43m,\u001b[49m\n\u001b[1;32m  11485\u001b[0m \u001b[43m    \u001b[49m\u001b[43mname\u001b[49m\u001b[38;5;241;43m=\u001b[39;49m\u001b[43mname\u001b[49m\u001b[43m,\u001b[49m\n\u001b[1;32m  11486\u001b[0m \u001b[43m    \u001b[49m\u001b[43maxis\u001b[49m\u001b[38;5;241;43m=\u001b[39;49m\u001b[43maxis\u001b[49m\u001b[43m,\u001b[49m\n\u001b[1;32m  11487\u001b[0m \u001b[43m    \u001b[49m\u001b[43mskipna\u001b[49m\u001b[38;5;241;43m=\u001b[39;49m\u001b[43mskipna\u001b[49m\u001b[43m,\u001b[49m\n\u001b[1;32m  11488\u001b[0m \u001b[43m    \u001b[49m\u001b[43mnumeric_only\u001b[49m\u001b[38;5;241;43m=\u001b[39;49m\u001b[43mnumeric_only\u001b[49m\u001b[43m,\u001b[49m\n\u001b[1;32m  11489\u001b[0m \u001b[43m    \u001b[49m\u001b[43mmin_count\u001b[49m\u001b[38;5;241;43m=\u001b[39;49m\u001b[43mmin_count\u001b[49m\u001b[43m,\u001b[49m\n\u001b[1;32m  11490\u001b[0m \u001b[43m\u001b[49m\u001b[43m)\u001b[49m\n",
      "File \u001b[0;32m~/miniconda3/envs/mapping/lib/python3.8/site-packages/pandas/core/series.py:4816\u001b[0m, in \u001b[0;36mSeries._reduce\u001b[0;34m(self, op, name, axis, skipna, numeric_only, filter_type, **kwds)\u001b[0m\n\u001b[1;32m   4812\u001b[0m     \u001b[38;5;28;01mraise\u001b[39;00m \u001b[38;5;167;01mNotImplementedError\u001b[39;00m(\n\u001b[1;32m   4813\u001b[0m         \u001b[38;5;124mf\u001b[39m\u001b[38;5;124m\"\u001b[39m\u001b[38;5;124mSeries.\u001b[39m\u001b[38;5;132;01m{\u001b[39;00mname\u001b[38;5;132;01m}\u001b[39;00m\u001b[38;5;124m does not implement \u001b[39m\u001b[38;5;132;01m{\u001b[39;00mkwd_name\u001b[38;5;132;01m}\u001b[39;00m\u001b[38;5;124m.\u001b[39m\u001b[38;5;124m\"\u001b[39m\n\u001b[1;32m   4814\u001b[0m     )\n\u001b[1;32m   4815\u001b[0m \u001b[38;5;28;01mwith\u001b[39;00m np\u001b[38;5;241m.\u001b[39merrstate(\u001b[38;5;28mall\u001b[39m\u001b[38;5;241m=\u001b[39m\u001b[38;5;124m\"\u001b[39m\u001b[38;5;124mignore\u001b[39m\u001b[38;5;124m\"\u001b[39m):\n\u001b[0;32m-> 4816\u001b[0m     \u001b[38;5;28;01mreturn\u001b[39;00m \u001b[43mop\u001b[49m\u001b[43m(\u001b[49m\u001b[43mdelegate\u001b[49m\u001b[43m,\u001b[49m\u001b[43m \u001b[49m\u001b[43mskipna\u001b[49m\u001b[38;5;241;43m=\u001b[39;49m\u001b[43mskipna\u001b[49m\u001b[43m,\u001b[49m\u001b[43m \u001b[49m\u001b[38;5;241;43m*\u001b[39;49m\u001b[38;5;241;43m*\u001b[39;49m\u001b[43mkwds\u001b[49m\u001b[43m)\u001b[49m\n",
      "File \u001b[0;32m~/miniconda3/envs/mapping/lib/python3.8/site-packages/pandas/core/nanops.py:93\u001b[0m, in \u001b[0;36mdisallow.__call__.<locals>._f\u001b[0;34m(*args, **kwargs)\u001b[0m\n\u001b[1;32m     91\u001b[0m \u001b[38;5;28;01mtry\u001b[39;00m:\n\u001b[1;32m     92\u001b[0m     \u001b[38;5;28;01mwith\u001b[39;00m np\u001b[38;5;241m.\u001b[39merrstate(invalid\u001b[38;5;241m=\u001b[39m\u001b[38;5;124m\"\u001b[39m\u001b[38;5;124mignore\u001b[39m\u001b[38;5;124m\"\u001b[39m):\n\u001b[0;32m---> 93\u001b[0m         \u001b[38;5;28;01mreturn\u001b[39;00m \u001b[43mf\u001b[49m\u001b[43m(\u001b[49m\u001b[38;5;241;43m*\u001b[39;49m\u001b[43margs\u001b[49m\u001b[43m,\u001b[49m\u001b[43m \u001b[49m\u001b[38;5;241;43m*\u001b[39;49m\u001b[38;5;241;43m*\u001b[39;49m\u001b[43mkwargs\u001b[49m\u001b[43m)\u001b[49m\n\u001b[1;32m     94\u001b[0m \u001b[38;5;28;01mexcept\u001b[39;00m \u001b[38;5;167;01mValueError\u001b[39;00m \u001b[38;5;28;01mas\u001b[39;00m e:\n\u001b[1;32m     95\u001b[0m     \u001b[38;5;66;03m# we want to transform an object array\u001b[39;00m\n\u001b[1;32m     96\u001b[0m     \u001b[38;5;66;03m# ValueError message to the more typical TypeError\u001b[39;00m\n\u001b[1;32m     97\u001b[0m     \u001b[38;5;66;03m# e.g. this is normally a disallowed function on\u001b[39;00m\n\u001b[1;32m     98\u001b[0m     \u001b[38;5;66;03m# object arrays that contain strings\u001b[39;00m\n\u001b[1;32m     99\u001b[0m     \u001b[38;5;28;01mif\u001b[39;00m is_object_dtype(args[\u001b[38;5;241m0\u001b[39m]):\n",
      "File \u001b[0;32m~/miniconda3/envs/mapping/lib/python3.8/site-packages/pandas/core/nanops.py:418\u001b[0m, in \u001b[0;36m_datetimelike_compat.<locals>.new_func\u001b[0;34m(values, axis, skipna, mask, **kwargs)\u001b[0m\n\u001b[1;32m    415\u001b[0m \u001b[38;5;28;01mif\u001b[39;00m datetimelike \u001b[38;5;129;01mand\u001b[39;00m mask \u001b[38;5;129;01mis\u001b[39;00m \u001b[38;5;28;01mNone\u001b[39;00m:\n\u001b[1;32m    416\u001b[0m     mask \u001b[38;5;241m=\u001b[39m isna(values)\n\u001b[0;32m--> 418\u001b[0m result \u001b[38;5;241m=\u001b[39m \u001b[43mfunc\u001b[49m\u001b[43m(\u001b[49m\u001b[43mvalues\u001b[49m\u001b[43m,\u001b[49m\u001b[43m \u001b[49m\u001b[43maxis\u001b[49m\u001b[38;5;241;43m=\u001b[39;49m\u001b[43maxis\u001b[49m\u001b[43m,\u001b[49m\u001b[43m \u001b[49m\u001b[43mskipna\u001b[49m\u001b[38;5;241;43m=\u001b[39;49m\u001b[43mskipna\u001b[49m\u001b[43m,\u001b[49m\u001b[43m \u001b[49m\u001b[43mmask\u001b[49m\u001b[38;5;241;43m=\u001b[39;49m\u001b[43mmask\u001b[49m\u001b[43m,\u001b[49m\u001b[43m \u001b[49m\u001b[38;5;241;43m*\u001b[39;49m\u001b[38;5;241;43m*\u001b[39;49m\u001b[43mkwargs\u001b[49m\u001b[43m)\u001b[49m\n\u001b[1;32m    420\u001b[0m \u001b[38;5;28;01mif\u001b[39;00m datetimelike:\n\u001b[1;32m    421\u001b[0m     result \u001b[38;5;241m=\u001b[39m _wrap_results(result, orig_values\u001b[38;5;241m.\u001b[39mdtype, fill_value\u001b[38;5;241m=\u001b[39miNaT)\n",
      "File \u001b[0;32m~/miniconda3/envs/mapping/lib/python3.8/site-packages/pandas/core/nanops.py:491\u001b[0m, in \u001b[0;36mmaybe_operate_rowwise.<locals>.newfunc\u001b[0;34m(values, axis, **kwargs)\u001b[0m\n\u001b[1;32m    488\u001b[0m         results \u001b[38;5;241m=\u001b[39m [func(x, \u001b[38;5;241m*\u001b[39m\u001b[38;5;241m*\u001b[39mkwargs) \u001b[38;5;28;01mfor\u001b[39;00m x \u001b[38;5;129;01min\u001b[39;00m arrs]\n\u001b[1;32m    489\u001b[0m     \u001b[38;5;28;01mreturn\u001b[39;00m np\u001b[38;5;241m.\u001b[39marray(results)\n\u001b[0;32m--> 491\u001b[0m \u001b[38;5;28;01mreturn\u001b[39;00m \u001b[43mfunc\u001b[49m\u001b[43m(\u001b[49m\u001b[43mvalues\u001b[49m\u001b[43m,\u001b[49m\u001b[43m \u001b[49m\u001b[43maxis\u001b[49m\u001b[38;5;241;43m=\u001b[39;49m\u001b[43maxis\u001b[49m\u001b[43m,\u001b[49m\u001b[43m \u001b[49m\u001b[38;5;241;43m*\u001b[39;49m\u001b[38;5;241;43m*\u001b[39;49m\u001b[43mkwargs\u001b[49m\u001b[43m)\u001b[49m\n",
      "File \u001b[0;32m~/miniconda3/envs/mapping/lib/python3.8/site-packages/pandas/core/nanops.py:631\u001b[0m, in \u001b[0;36mnansum\u001b[0;34m(values, axis, skipna, min_count, mask)\u001b[0m\n\u001b[1;32m    628\u001b[0m \u001b[38;5;28;01melif\u001b[39;00m is_timedelta64_dtype(dtype):\n\u001b[1;32m    629\u001b[0m     dtype_sum \u001b[38;5;241m=\u001b[39m np\u001b[38;5;241m.\u001b[39mdtype(np\u001b[38;5;241m.\u001b[39mfloat64)\n\u001b[0;32m--> 631\u001b[0m the_sum \u001b[38;5;241m=\u001b[39m \u001b[43mvalues\u001b[49m\u001b[38;5;241;43m.\u001b[39;49m\u001b[43msum\u001b[49m\u001b[43m(\u001b[49m\u001b[43maxis\u001b[49m\u001b[43m,\u001b[49m\u001b[43m \u001b[49m\u001b[43mdtype\u001b[49m\u001b[38;5;241;43m=\u001b[39;49m\u001b[43mdtype_sum\u001b[49m\u001b[43m)\u001b[49m\n\u001b[1;32m    632\u001b[0m the_sum \u001b[38;5;241m=\u001b[39m _maybe_null_out(the_sum, axis, mask, values\u001b[38;5;241m.\u001b[39mshape, min_count\u001b[38;5;241m=\u001b[39mmin_count)\n\u001b[1;32m    634\u001b[0m \u001b[38;5;28;01mreturn\u001b[39;00m the_sum\n",
      "File \u001b[0;32m~/miniconda3/envs/mapping/lib/python3.8/site-packages/numpy/core/_methods.py:49\u001b[0m, in \u001b[0;36m_sum\u001b[0;34m(a, axis, dtype, out, keepdims, initial, where)\u001b[0m\n\u001b[1;32m     47\u001b[0m \u001b[38;5;28;01mdef\u001b[39;00m \u001b[38;5;21m_sum\u001b[39m(a, axis\u001b[38;5;241m=\u001b[39m\u001b[38;5;28;01mNone\u001b[39;00m, dtype\u001b[38;5;241m=\u001b[39m\u001b[38;5;28;01mNone\u001b[39;00m, out\u001b[38;5;241m=\u001b[39m\u001b[38;5;28;01mNone\u001b[39;00m, keepdims\u001b[38;5;241m=\u001b[39m\u001b[38;5;28;01mFalse\u001b[39;00m,\n\u001b[1;32m     48\u001b[0m          initial\u001b[38;5;241m=\u001b[39m_NoValue, where\u001b[38;5;241m=\u001b[39m\u001b[38;5;28;01mTrue\u001b[39;00m):\n\u001b[0;32m---> 49\u001b[0m     \u001b[38;5;28;01mreturn\u001b[39;00m \u001b[43mumr_sum\u001b[49m\u001b[43m(\u001b[49m\u001b[43ma\u001b[49m\u001b[43m,\u001b[49m\u001b[43m \u001b[49m\u001b[43maxis\u001b[49m\u001b[43m,\u001b[49m\u001b[43m \u001b[49m\u001b[43mdtype\u001b[49m\u001b[43m,\u001b[49m\u001b[43m \u001b[49m\u001b[43mout\u001b[49m\u001b[43m,\u001b[49m\u001b[43m \u001b[49m\u001b[43mkeepdims\u001b[49m\u001b[43m,\u001b[49m\u001b[43m \u001b[49m\u001b[43minitial\u001b[49m\u001b[43m,\u001b[49m\u001b[43m \u001b[49m\u001b[43mwhere\u001b[49m\u001b[43m)\u001b[49m\n",
      "\u001b[0;31mTypeError\u001b[0m: can only concatenate str (not \"int\") to str"
     ]
    }
   ],
   "source": [
    "def list_csv_files(directory):\n",
    "    # Ensure the directory exists\n",
    "    if not os.path.isdir(directory):\n",
    "        raise NotADirectoryError(f\"{directory} is not a valid directory\")\n",
    "\n",
    "    # Use glob to find all .csv files in the directory\n",
    "    csv_files = glob.glob(os.path.join(directory, \"*.csv\"))\n",
    "\n",
    "    return csv_files\n",
    "    \n",
    "metrics_path = '/gale/netapp/seq11/illumina_runs/qc_metrics/'\n",
    "csv_files = list_csv_files(metrics_path)\n",
    "\n",
    "for file_path in csv_files:\n",
    "    demux_stats, top_unknown_barcodes = read_dataframes(file_path)\n",
    "    metrics = calculate_metrics(demux_stats, top_unknown_barcodes)\n",
    "    formatted_metrics = format_metrics(metrics)\n",
    "    print(f\"{file_path} {metrics.get('total_reads')}\")\n",
    "\n",
    "#file = 'LP-BBHEFV556708_Broad_QC__SALK015__22HKJ5LT3.csv'\n",
    "#pool_string = \"SALK015\"\n",
    "#file_path = f'{metrics_path}/{file}'"
   ]
  },
  {
   "cell_type": "code",
   "execution_count": null,
   "id": "6d8bd269-80c9-45d4-948f-20056b10a46f",
   "metadata": {},
   "outputs": [],
   "source": [
    "for csv in demux_stats, top_unknown_barcodes = read_dataframes(file_path)\n",
    "metrics = calculate_metrics(demux_stats, top_unknown_barcodes)\n",
    "formatted_metrics = format_metrics(metrics)"
   ]
  },
  {
   "cell_type": "code",
   "execution_count": null,
   "id": "d43bfd90-1e96-4a7e-a414-c54137427666",
   "metadata": {},
   "outputs": [],
   "source": [
    "print(\"@card Broad sequencing QC metrics accepted\")\n",
    "for key, value in formatted_metrics.items():\n",
    "        print(f\"{key}: {value}\")"
   ]
  },
  {
   "cell_type": "code",
   "execution_count": null,
   "id": "a6b8e2cf-f3a3-4f27-b505-7713956ad0d5",
   "metadata": {},
   "outputs": [],
   "source": [
    "#plot_reads_vs_sampleID_reversed(demux_stats, metrics_path ,pool_string)"
   ]
  },
  {
   "cell_type": "code",
   "execution_count": null,
   "id": "9c0a0dbe-81a1-41ea-a30e-a0356850e4ae",
   "metadata": {},
   "outputs": [],
   "source": []
  }
 ],
 "metadata": {
  "kernelspec": {
   "display_name": "Python 3 (ipykernel)",
   "language": "python",
   "name": "python3"
  },
  "language_info": {
   "codemirror_mode": {
    "name": "ipython",
    "version": 3
   },
   "file_extension": ".py",
   "mimetype": "text/x-python",
   "name": "python",
   "nbconvert_exporter": "python",
   "pygments_lexer": "ipython3",
   "version": "3.8.18"
  }
 },
 "nbformat": 4,
 "nbformat_minor": 5
}
