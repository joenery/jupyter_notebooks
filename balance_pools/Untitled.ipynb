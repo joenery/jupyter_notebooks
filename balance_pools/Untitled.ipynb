{
 "cells": [
  {
   "cell_type": "code",
   "execution_count": 7,
   "id": "f23ea97d-73be-4ab6-a65e-9e7d1941be01",
   "metadata": {},
   "outputs": [],
   "source": [
    "from balance_pools import calculate_additional_DNA, calculate_sample2_amount\n",
    "# Example usage:\n",
    "sample1_reads = 841077  \n",
    "sample2_reads = 740786  \n",
    "sample1_amount = 21.4\n",
    "sample2_amount = 18.7\n",
    "sample1_conc = 21.4\n",
    "sample2_conc = 18.7\n",
    "\n",
    "sample1_to_pool = 28\n"
   ]
  },
  {
   "cell_type": "code",
   "execution_count": 8,
   "id": "195aea7a-5514-4aee-ace0-6236a1d7ee9d",
   "metadata": {},
   "outputs": [
    {
     "name": "stdout",
     "output_type": "stream",
     "text": [
      "Amount of Sample 2 DNA needed: 32.65 ng\n"
     ]
    }
   ],
   "source": [
    "additional_sample1, additional_sample2, ratio_conc = calculate_additional_DNA(sample1_reads, sample2_reads, sample1_amount, sample2_amount, sample1_conc, sample2_conc)\n",
    "\n",
    "sample2_amount_needed = calculate_sample2_amount(sample1_to_pool, ratio_conc)\n",
    "print(f\"Amount of Sample 2 DNA needed: {sample2_amount_needed:.2f} ng\")\n"
   ]
  },
  {
   "cell_type": "code",
   "execution_count": null,
   "id": "e97e06d1-88e8-4cfa-a01b-7320a45d445d",
   "metadata": {},
   "outputs": [],
   "source": []
  }
 ],
 "metadata": {
  "kernelspec": {
   "display_name": "Python 3 (ipykernel)",
   "language": "python",
   "name": "python3"
  },
  "language_info": {
   "codemirror_mode": {
    "name": "ipython",
    "version": 3
   },
   "file_extension": ".py",
   "mimetype": "text/x-python",
   "name": "python",
   "nbconvert_exporter": "python",
   "pygments_lexer": "ipython3",
   "version": "3.8.18"
  }
 },
 "nbformat": 4,
 "nbformat_minor": 5
}
