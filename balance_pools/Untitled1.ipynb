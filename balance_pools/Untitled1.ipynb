{
 "cells": [
  {
   "cell_type": "code",
   "execution_count": 1,
   "id": "b04c51ce-78d3-4d99-9a7d-6567ea3e913b",
   "metadata": {},
   "outputs": [
    {
     "name": "stdin",
     "output_type": "stream",
     "text": [
      "Enter the number of libraries:  2\n",
      "Enter the number of reads passing filter (PF) for Library A in the previous run:  658726\n",
      "Enter the number of reads passing filter (PF) for Library B in the previous run:  1315592\n",
      "Enter the concentration of Library A (in nM):  10\n",
      "Enter the concentration of Library B (in nM):  10\n"
     ]
    },
    {
     "name": "stdout",
     "output_type": "stream",
     "text": [
      "\n",
      "Adjusted Concentrations:\n",
      "Library B: 5.01 nM\n"
     ]
    }
   ],
   "source": [
    "def calculate_scaling_factors(reads, concentrations):\n",
    "    # Calculate the scaling factors for each library\n",
    "    scaling_factors = [reads[0] / reads[i] for i in range(1, len(reads))]\n",
    "    return scaling_factors\n",
    "\n",
    "def adjust_concentrations(concentrations, scaling_factors):\n",
    "    # Adjust concentrations based on the scaling factors\n",
    "    adj_concentrations = [conc * scaling_factors[i] for i, conc in enumerate(concentrations[1:])]\n",
    "    return adj_concentrations\n",
    "\n",
    "def main():\n",
    "    num_libraries = int(input(\"Enter the number of libraries: \"))\n",
    "    \n",
    "    # Read counts for each library from the previous run\n",
    "    reads = []\n",
    "    for i in range(num_libraries):\n",
    "        read_count = int(input(f\"Enter the number of reads passing filter (PF) for Library {chr(65 + i)} in the previous run: \"))\n",
    "        reads.append(read_count)\n",
    "\n",
    "    # Concentrations of each library\n",
    "    concentrations = []\n",
    "    for i in range(num_libraries):\n",
    "        concentration = float(input(f\"Enter the concentration of Library {chr(65 + i)} (in nM): \"))\n",
    "        concentrations.append(concentration)\n",
    "\n",
    "    # Calculate scaling factors\n",
    "    scaling_factors = calculate_scaling_factors(reads, concentrations)\n",
    "\n",
    "    # Adjust concentrations\n",
    "    adj_concentrations = adjust_concentrations(concentrations, scaling_factors)\n",
    "\n",
    "    # Output adjusted concentrations\n",
    "    print(\"\\nAdjusted Concentrations:\")\n",
    "    for i, adj_conc in enumerate(adj_concentrations):\n",
    "        print(f\"Library {chr(66 + i)}: {adj_conc:.2f} nM\")\n",
    "\n",
    "if __name__ == \"__main__\":\n",
    "    main()\n"
   ]
  },
  {
   "cell_type": "code",
   "execution_count": null,
   "id": "c006f25e-0505-4e4d-8c99-ca4afced813f",
   "metadata": {},
   "outputs": [],
   "source": [
    "131559"
   ]
  }
 ],
 "metadata": {
  "kernelspec": {
   "display_name": "Python 3 (ipykernel)",
   "language": "python",
   "name": "python3"
  },
  "language_info": {
   "codemirror_mode": {
    "name": "ipython",
    "version": 3
   },
   "file_extension": ".py",
   "mimetype": "text/x-python",
   "name": "python",
   "nbconvert_exporter": "python",
   "pygments_lexer": "ipython3",
   "version": "3.8.18"
  }
 },
 "nbformat": 4,
 "nbformat_minor": 5
}
