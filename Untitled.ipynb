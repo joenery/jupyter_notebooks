{
 "cells": [
  {
   "cell_type": "code",
   "execution_count": 1,
   "id": "dbb6eb20-f22e-4dff-b514-b3536aa7b479",
   "metadata": {},
   "outputs": [],
   "source": [
    "import sqlite3\n",
    "\n",
    "def setup_database(db_name):\n",
    "    \"\"\"\n",
    "    Sets up the SQLite database with the necessary table.\n",
    "    \n",
    "    Parameters:\n",
    "    db_name (str): The name of the SQLite database file.\n",
    "    \"\"\"\n",
    "    conn = sqlite3.connect(db_name)\n",
    "    cursor = conn.cursor()\n",
    "    cursor.execute('''\n",
    "        CREATE TABLE IF NOT EXISTS pool_metrics (\n",
    "            pool TEXT PRIMARY KEY,\n",
    "            total_reads INTEGER,\n",
    "            plate_with_fewest_reads TEXT,\n",
    "            fewest_read_count INTEGER\n",
    "        )\n",
    "    ''')\n",
    "    conn.commit()\n",
    "    conn.close()\n",
    "\n",
    "# Run this function to set up the database\n",
    "setup_database('/gale/netapp/seq11/illumina_runs/qc_metrics/broads_metrics.db')\n"
   ]
  }
 ],
 "metadata": {
  "kernelspec": {
   "display_name": "Python 3 (ipykernel)",
   "language": "python",
   "name": "python3"
  },
  "language_info": {
   "codemirror_mode": {
    "name": "ipython",
    "version": 3
   },
   "file_extension": ".py",
   "mimetype": "text/x-python",
   "name": "python",
   "nbconvert_exporter": "python",
   "pygments_lexer": "ipython3",
   "version": "3.8.18"
  }
 },
 "nbformat": 4,
 "nbformat_minor": 5
}
